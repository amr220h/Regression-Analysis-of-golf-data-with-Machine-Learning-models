{
 "cells": [
  {
   "cell_type": "code",
   "execution_count": 16,
   "id": "4a217b78",
   "metadata": {},
   "outputs": [
    {
     "name": "stderr",
     "output_type": "stream",
     "text": [
      "\n",
      "[notice] A new release of pip available: 22.3.1 -> 25.1.1\n",
      "[notice] To update, run: python.exe -m pip install --upgrade pip\n"
     ]
    },
    {
     "name": "stdout",
     "output_type": "stream",
     "text": [
      "Requirement already satisfied: openpyxl in c:\\users\\amr khaled\\appdata\\local\\programs\\python\\python310\\lib\\site-packages (3.1.5)\n",
      "Requirement already satisfied: et-xmlfile in c:\\users\\amr khaled\\appdata\\local\\programs\\python\\python310\\lib\\site-packages (from openpyxl) (2.0.0)\n",
      "Note: you may need to restart the kernel to use updated packages.\n"
     ]
    }
   ],
   "source": [
    "%pip install openpyxl\n",
    "import pandas as pd\n",
    "df = pd.read_excel('data/bSprhrHQW27RKJynbNoh_sample_data_womens.xlsx')\n"
   ]
  },
  {
   "cell_type": "code",
   "execution_count": 17,
   "id": "30aea1f0",
   "metadata": {},
   "outputs": [
    {
     "data": {
      "application/vnd.microsoft.datawrangler.viewer.v0+json": {
       "columns": [
        {
         "name": "index",
         "rawType": "int64",
         "type": "integer"
        },
        {
         "name": "adj_score",
         "rawType": "float64",
         "type": "float"
        },
        {
         "name": "rd_score",
         "rawType": "int64",
         "type": "integer"
        },
        {
         "name": "player_name",
         "rawType": "object",
         "type": "string"
        },
        {
         "name": "round_date",
         "rawType": "datetime64[ns]",
         "type": "datetime"
        },
        {
         "name": "year",
         "rawType": "int64",
         "type": "integer"
        },
        {
         "name": "month",
         "rawType": "int64",
         "type": "integer"
        },
        {
         "name": "quarter",
         "rawType": "int64",
         "type": "integer"
        },
        {
         "name": "season_phase",
         "rawType": "object",
         "type": "string"
        },
        {
         "name": "tournament_tier_field_strength",
         "rawType": "int64",
         "type": "integer"
        },
        {
         "name": "tournament_tier_top50_av",
         "rawType": "int64",
         "type": "integer"
        },
        {
         "name": "elo_rating_pre_rd",
         "rawType": "int64",
         "type": "integer"
        },
        {
         "name": "wd_percentage_adj",
         "rawType": "float64",
         "type": "float"
        },
        {
         "name": "tour",
         "rawType": "object",
         "type": "string"
        },
        {
         "name": "field_strength",
         "rawType": "float64",
         "type": "float"
        },
        {
         "name": "tour_tier",
         "rawType": "int64",
         "type": "integer"
        },
        {
         "name": "tour_0_to_1_year_count",
         "rawType": "int64",
         "type": "integer"
        },
        {
         "name": "tour_0_to_1_year_percentage",
         "rawType": "float64",
         "type": "float"
        },
        {
         "name": "tour_0_to_1_year_mode",
         "rawType": "object",
         "type": "string"
        },
        {
         "name": "tour_0_to_3_year_count",
         "rawType": "int64",
         "type": "integer"
        },
        {
         "name": "tour_0_to_3_year_percentage",
         "rawType": "float64",
         "type": "float"
        },
        {
         "name": "tour_0_to_3_year_mode",
         "rawType": "object",
         "type": "string"
        },
        {
         "name": "tour_0_to_5_year_count",
         "rawType": "int64",
         "type": "integer"
        },
        {
         "name": "tour_0_to_5_year_percentage",
         "rawType": "float64",
         "type": "float"
        },
        {
         "name": "tour_0_to_5_year_mode",
         "rawType": "object",
         "type": "string"
        },
        {
         "name": "tour_0_to_10_year_count",
         "rawType": "int64",
         "type": "integer"
        },
        {
         "name": "tour_0_to_10_year_percentage",
         "rawType": "float64",
         "type": "float"
        },
        {
         "name": "tour_0_to_10_year_mode",
         "rawType": "object",
         "type": "string"
        },
        {
         "name": "1_tournament_mean",
         "rawType": "float64",
         "type": "float"
        },
        {
         "name": "1_tournament_count",
         "rawType": "int64",
         "type": "integer"
        },
        {
         "name": "1_rd_mean",
         "rawType": "float64",
         "type": "float"
        },
        {
         "name": "days_since_1_rd",
         "rawType": "int64",
         "type": "integer"
        },
        {
         "name": "2_to_4_rd_mean",
         "rawType": "float64",
         "type": "float"
        },
        {
         "name": "5_to_12_rd_mean",
         "rawType": "float64",
         "type": "float"
        },
        {
         "name": "13_to_28_rd_mean",
         "rawType": "float64",
         "type": "float"
        },
        {
         "name": "29_to_60_rd_mean",
         "rawType": "float64",
         "type": "float"
        },
        {
         "name": "61_to_120_rd_mean",
         "rawType": "float64",
         "type": "float"
        },
        {
         "name": "121_to_240_rd_mean",
         "rawType": "float64",
         "type": "float"
        },
        {
         "name": "1_to_20_rd_mean",
         "rawType": "float64",
         "type": "float"
        },
        {
         "name": "0_to_20_rd_sd",
         "rawType": "float64",
         "type": "float"
        },
        {
         "name": "days_since_20_rd",
         "rawType": "float64",
         "type": "float"
        },
        {
         "name": "1_to_20_rd_mean_days_penalty_15x",
         "rawType": "float64",
         "type": "float"
        },
        {
         "name": "1_to_50_rd_mean",
         "rawType": "float64",
         "type": "float"
        },
        {
         "name": "1_to_50_rd_median",
         "rawType": "float64",
         "type": "float"
        },
        {
         "name": "1_to_50_rd_sd",
         "rawType": "float64",
         "type": "float"
        },
        {
         "name": "days_since_50_rd",
         "rawType": "int64",
         "type": "integer"
        },
        {
         "name": "1_to_50_rd_mean_days_penalty_5x",
         "rawType": "float64",
         "type": "float"
        },
        {
         "name": "1_to_50_rd_mean_days_penalty_10x",
         "rawType": "float64",
         "type": "float"
        },
        {
         "name": "1_to_50_rd_mean_days_penalty_15x",
         "rawType": "float64",
         "type": "float"
        },
        {
         "name": "1_to_50_rd_mean_days_penalty_20x",
         "rawType": "float64",
         "type": "float"
        },
        {
         "name": "1_to_50_rd_mean_days_penalty_30x",
         "rawType": "float64",
         "type": "float"
        },
        {
         "name": "1_to_100_rd_mean",
         "rawType": "float64",
         "type": "float"
        },
        {
         "name": "1_to_100_rd_median",
         "rawType": "float64",
         "type": "float"
        },
        {
         "name": "1_to_100_rd_sd",
         "rawType": "float64",
         "type": "float"
        },
        {
         "name": "days_since_100_rd",
         "rawType": "int64",
         "type": "integer"
        },
        {
         "name": "1_to_100_rd_mean_days_penalty_15x",
         "rawType": "float64",
         "type": "float"
        },
        {
         "name": "1_to_200_rd_mean",
         "rawType": "float64",
         "type": "float"
        },
        {
         "name": "1_to_200_rd_median",
         "rawType": "float64",
         "type": "float"
        },
        {
         "name": "1_to_200_rd_sd",
         "rawType": "float64",
         "type": "float"
        },
        {
         "name": "days_since_200_rd",
         "rawType": "float64",
         "type": "float"
        },
        {
         "name": "1_to_200_rd_mean_days_penalty_15x",
         "rawType": "float64",
         "type": "float"
        },
        {
         "name": "1_to_500_rd_mean",
         "rawType": "float64",
         "type": "float"
        },
        {
         "name": "1_to_500_rd_median",
         "rawType": "float64",
         "type": "float"
        },
        {
         "name": "1_to_500_rd_sd",
         "rawType": "float64",
         "type": "float"
        },
        {
         "name": "days_since_500_rd",
         "rawType": "float64",
         "type": "float"
        },
        {
         "name": "1_to_500_rd_mean_days_penalty_15x",
         "rawType": "float64",
         "type": "float"
        },
        {
         "name": "0_to_4Week_mean",
         "rawType": "float64",
         "type": "float"
        },
        {
         "name": "0_to_4_week_rat_diff_av",
         "rawType": "float64",
         "type": "float"
        },
        {
         "name": "0_to_4_week_sd",
         "rawType": "float64",
         "type": "float"
        },
        {
         "name": "0_to_4Week_count",
         "rawType": "int64",
         "type": "integer"
        },
        {
         "name": "0_to_3_month_mean",
         "rawType": "float64",
         "type": "float"
        },
        {
         "name": "0_to_3_month_median",
         "rawType": "float64",
         "type": "float"
        },
        {
         "name": "0_to_3_month_weighted",
         "rawType": "float64",
         "type": "float"
        },
        {
         "name": "0_to_3_month_rat_diff_av",
         "rawType": "float64",
         "type": "float"
        },
        {
         "name": "0_to_3_month_sd",
         "rawType": "float64",
         "type": "float"
        },
        {
         "name": "0_to_3_month_count",
         "rawType": "int64",
         "type": "integer"
        },
        {
         "name": "0_to_3_month_wd_percent",
         "rawType": "float64",
         "type": "float"
        },
        {
         "name": "0_to_3_month_mean_count_penalised_1x",
         "rawType": "float64",
         "type": "float"
        },
        {
         "name": "0_to_3_month_mean_count_penalised_1.5x",
         "rawType": "float64",
         "type": "float"
        },
        {
         "name": "0_to_3_month_mean_count_penalised_2x",
         "rawType": "float64",
         "type": "float"
        },
        {
         "name": "0_to_3_month_mean_count_penalised_3x",
         "rawType": "float64",
         "type": "float"
        },
        {
         "name": "0_to_3_month_mean_count_penalised_5x",
         "rawType": "float64",
         "type": "float"
        },
        {
         "name": "0_to_3_month_mean_count_penalised_10x",
         "rawType": "float64",
         "type": "float"
        },
        {
         "name": "0_to_6_month_mean",
         "rawType": "float64",
         "type": "float"
        },
        {
         "name": "0_to_6_month_median",
         "rawType": "float64",
         "type": "float"
        },
        {
         "name": "0_to_6_month_weighted",
         "rawType": "float64",
         "type": "float"
        },
        {
         "name": "0_to_6_month_rat_diff_av",
         "rawType": "float64",
         "type": "float"
        },
        {
         "name": "0_to_6_month_sd",
         "rawType": "float64",
         "type": "float"
        },
        {
         "name": "0_to_6_month_count",
         "rawType": "int64",
         "type": "integer"
        },
        {
         "name": "0_to_6_month_wd_percent",
         "rawType": "float64",
         "type": "float"
        },
        {
         "name": "0_to_6_month_mean_count_penalised_1x",
         "rawType": "float64",
         "type": "float"
        },
        {
         "name": "0_to_6_month_mean_count_penalised_1.5x",
         "rawType": "float64",
         "type": "float"
        },
        {
         "name": "0_to_6_month_mean_count_penalised_2x",
         "rawType": "float64",
         "type": "float"
        },
        {
         "name": "0_to_6_month_mean_count_penalised_3x",
         "rawType": "float64",
         "type": "float"
        },
        {
         "name": "0_to_6_month_mean_count_penalised_5x",
         "rawType": "float64",
         "type": "float"
        },
        {
         "name": "0_to_9_month_mean",
         "rawType": "float64",
         "type": "float"
        },
        {
         "name": "0_to_9_month_median",
         "rawType": "float64",
         "type": "float"
        },
        {
         "name": "0_to_9_month_weighted",
         "rawType": "float64",
         "type": "float"
        },
        {
         "name": "0_to_9_month_rat_diff_av",
         "rawType": "float64",
         "type": "float"
        },
        {
         "name": "0_to_9_month_sd",
         "rawType": "float64",
         "type": "float"
        },
        {
         "name": "0_to_9_month_count",
         "rawType": "int64",
         "type": "integer"
        },
        {
         "name": "0_to_9_month_mean_count_penalised_2x",
         "rawType": "float64",
         "type": "float"
        },
        {
         "name": "0_to_1_year_mean",
         "rawType": "float64",
         "type": "float"
        },
        {
         "name": "0_to_1_year_median",
         "rawType": "float64",
         "type": "float"
        },
        {
         "name": "0_to_1_year_weighted",
         "rawType": "float64",
         "type": "float"
        },
        {
         "name": "0_to_1_year_rat_diff_av",
         "rawType": "float64",
         "type": "float"
        },
        {
         "name": "0_to_1_year_sd_adj",
         "rawType": "float64",
         "type": "float"
        },
        {
         "name": "0_to_1_year_sd_diff",
         "rawType": "float64",
         "type": "float"
        },
        {
         "name": "0_to_1_year_count",
         "rawType": "int64",
         "type": "integer"
        },
        {
         "name": "0_to_1_year_wd_percent",
         "rawType": "float64",
         "type": "float"
        },
        {
         "name": "0_to_1_year_mean_count_penalised_1x",
         "rawType": "float64",
         "type": "float"
        },
        {
         "name": "0_to_1_year_mean_count_penalised_1.5x",
         "rawType": "float64",
         "type": "float"
        },
        {
         "name": "0_to_1_year_mean_count_penalised_2x",
         "rawType": "float64",
         "type": "float"
        },
        {
         "name": "0_to_1_year_mean_count_penalised_3x",
         "rawType": "float64",
         "type": "float"
        },
        {
         "name": "0_to_1_year_mean_count_penalised_5x",
         "rawType": "float64",
         "type": "float"
        },
        {
         "name": "0_to_1_year_mean_count_penalised_10x",
         "rawType": "float64",
         "type": "float"
        },
        {
         "name": "0_to_15_month_mean",
         "rawType": "float64",
         "type": "float"
        },
        {
         "name": "0_to_15_month_median",
         "rawType": "float64",
         "type": "float"
        },
        {
         "name": "0_to_15_month_weighted",
         "rawType": "float64",
         "type": "float"
        },
        {
         "name": "0_to_15_month_rat_diff_av",
         "rawType": "float64",
         "type": "float"
        },
        {
         "name": "0_to_15_month_sd",
         "rawType": "float64",
         "type": "float"
        },
        {
         "name": "0_to_15_month_count",
         "rawType": "int64",
         "type": "integer"
        },
        {
         "name": "0_to_15_month_mean_count_penalised_2x",
         "rawType": "float64",
         "type": "float"
        },
        {
         "name": "0_to_18_month_mean",
         "rawType": "float64",
         "type": "float"
        },
        {
         "name": "0_to_18_month_median",
         "rawType": "float64",
         "type": "float"
        },
        {
         "name": "0_to_18_month_weighted",
         "rawType": "float64",
         "type": "float"
        },
        {
         "name": "0_to_18_month_rat_diff_av",
         "rawType": "float64",
         "type": "float"
        },
        {
         "name": "0_to_18_month_sd",
         "rawType": "float64",
         "type": "float"
        },
        {
         "name": "0_to_18_month_count",
         "rawType": "int64",
         "type": "integer"
        },
        {
         "name": "0_to_18_month_mean_count_penalised_2x",
         "rawType": "float64",
         "type": "float"
        },
        {
         "name": "0_to_21_month_mean",
         "rawType": "float64",
         "type": "float"
        },
        {
         "name": "0_to_21_month_median",
         "rawType": "float64",
         "type": "float"
        },
        {
         "name": "0_to_21_month_weighted",
         "rawType": "float64",
         "type": "float"
        },
        {
         "name": "0_to_21_month_rat_diff_av",
         "rawType": "float64",
         "type": "float"
        },
        {
         "name": "0_to_21_month_sd",
         "rawType": "float64",
         "type": "float"
        },
        {
         "name": "0_to_21_month_count",
         "rawType": "int64",
         "type": "integer"
        },
        {
         "name": "0_to_21_month_mean_count_penalised_2x",
         "rawType": "float64",
         "type": "float"
        },
        {
         "name": "0_to_2_year_mean",
         "rawType": "float64",
         "type": "float"
        },
        {
         "name": "0_to_2_year_median",
         "rawType": "float64",
         "type": "float"
        },
        {
         "name": "0_to_2_year_weighted",
         "rawType": "float64",
         "type": "float"
        },
        {
         "name": "0_to_2_year_rat_diff_av",
         "rawType": "float64",
         "type": "float"
        },
        {
         "name": "0_to_2_year_sd",
         "rawType": "float64",
         "type": "float"
        },
        {
         "name": "0_to_2_year_count",
         "rawType": "int64",
         "type": "integer"
        },
        {
         "name": "0_to_2_year_mean_count_penalised_1x",
         "rawType": "float64",
         "type": "float"
        },
        {
         "name": "0_to_2_year_mean_count_penalised_1.5x",
         "rawType": "float64",
         "type": "float"
        },
        {
         "name": "0_to_2_year_mean_count_penalised_2x",
         "rawType": "float64",
         "type": "float"
        },
        {
         "name": "0_to_2_year_mean_count_penalised_3x",
         "rawType": "float64",
         "type": "float"
        },
        {
         "name": "0_to_2_year_mean_count_penalised_5x",
         "rawType": "float64",
         "type": "float"
        },
        {
         "name": "0_to_2_year_mean_count_penalised_10x",
         "rawType": "float64",
         "type": "float"
        },
        {
         "name": "0_to_3_year_mean",
         "rawType": "float64",
         "type": "float"
        },
        {
         "name": "0_to_3_year_rat_diff_av",
         "rawType": "float64",
         "type": "float"
        },
        {
         "name": "0_to_3_year_sd_adj",
         "rawType": "float64",
         "type": "float"
        },
        {
         "name": "0_to_3_year_diff_skew",
         "rawType": "float64",
         "type": "float"
        },
        {
         "name": "0_to_3_year_shape",
         "rawType": "float64",
         "type": "float"
        },
        {
         "name": "0_to_3_year_scale",
         "rawType": "float64",
         "type": "float"
        },
        {
         "name": "0_to_3_year_loc",
         "rawType": "float64",
         "type": "float"
        },
        {
         "name": "0_to_3_year_sd_diff",
         "rawType": "float64",
         "type": "float"
        },
        {
         "name": "0_to_3_year_low_75_percent_mean",
         "rawType": "float64",
         "type": "float"
        },
        {
         "name": "0_to_3_year_high_75_percent_mean",
         "rawType": "float64",
         "type": "float"
        },
        {
         "name": "0_to_3_year_low_50_percent_mean",
         "rawType": "float64",
         "type": "float"
        },
        {
         "name": "0_to_3_year_high_50_percent_mean",
         "rawType": "float64",
         "type": "float"
        },
        {
         "name": "0_to_3_year_low_25_percent_mean",
         "rawType": "float64",
         "type": "float"
        },
        {
         "name": "0_to_3_year_high_25_percent_mean",
         "rawType": "float64",
         "type": "float"
        },
        {
         "name": "0_to_3_year_low_10_percent_mean",
         "rawType": "float64",
         "type": "float"
        },
        {
         "name": "0_to_3_year_high_10_percent_mean",
         "rawType": "float64",
         "type": "float"
        },
        {
         "name": "0_to_3_year_count",
         "rawType": "int64",
         "type": "integer"
        },
        {
         "name": "0_to_3_year_wd_percent",
         "rawType": "float64",
         "type": "float"
        },
        {
         "name": "0_to_5_year_mean",
         "rawType": "float64",
         "type": "float"
        },
        {
         "name": "0_to_5_year_rat_diff_av",
         "rawType": "float64",
         "type": "float"
        },
        {
         "name": "0_to_5_year_sd_adj",
         "rawType": "float64",
         "type": "float"
        },
        {
         "name": "0_to_5_year_sd_diff",
         "rawType": "float64",
         "type": "float"
        },
        {
         "name": "0_to_5_year_diff_skew",
         "rawType": "float64",
         "type": "float"
        },
        {
         "name": "0_to_5_year_shape",
         "rawType": "float64",
         "type": "float"
        },
        {
         "name": "0_to_5_year_scale",
         "rawType": "float64",
         "type": "float"
        },
        {
         "name": "0_to_5_year_loc",
         "rawType": "float64",
         "type": "float"
        },
        {
         "name": "0_to_5_year_low_25_percent_mean",
         "rawType": "float64",
         "type": "float"
        },
        {
         "name": "0_to_5_year_low_50_percent_mean",
         "rawType": "float64",
         "type": "float"
        },
        {
         "name": "0_to_5_year_low_75_percent_mean",
         "rawType": "float64",
         "type": "float"
        },
        {
         "name": "0_to_5_year_count",
         "rawType": "int64",
         "type": "integer"
        },
        {
         "name": "0_to_10_year_mean",
         "rawType": "float64",
         "type": "float"
        },
        {
         "name": "0_to_10_year_rat_diff_av",
         "rawType": "float64",
         "type": "float"
        },
        {
         "name": "0_to_10_year_count",
         "rawType": "int64",
         "type": "integer"
        },
        {
         "name": "0_to_10_year_wd_percent",
         "rawType": "float64",
         "type": "float"
        },
        {
         "name": "0_to_10_year_sd_adj",
         "rawType": "float64",
         "type": "float"
        },
        {
         "name": "0_to_10_year_sd_diff",
         "rawType": "float64",
         "type": "float"
        },
        {
         "name": "0_to_10_year_diff_skew",
         "rawType": "float64",
         "type": "float"
        },
        {
         "name": "0_to_10_year_shape",
         "rawType": "float64",
         "type": "float"
        },
        {
         "name": "0_to_10_year_scale",
         "rawType": "float64",
         "type": "float"
        },
        {
         "name": "0_to_10_year_loc",
         "rawType": "float64",
         "type": "float"
        },
        {
         "name": "year_minus_0_mean",
         "rawType": "float64",
         "type": "float"
        },
        {
         "name": "year_minus_0_sd",
         "rawType": "float64",
         "type": "float"
        },
        {
         "name": "year_minus_0_count",
         "rawType": "int64",
         "type": "integer"
        },
        {
         "name": "year_minus_0_mean_count_penalised_2x",
         "rawType": "float64",
         "type": "float"
        },
        {
         "name": "year_minus_1_mean",
         "rawType": "float64",
         "type": "float"
        },
        {
         "name": "year_minus_1_sd",
         "rawType": "float64",
         "type": "float"
        },
        {
         "name": "year_minus_1_count",
         "rawType": "int64",
         "type": "integer"
        },
        {
         "name": "year_minus_1_mean_count_penalised_2x",
         "rawType": "float64",
         "type": "float"
        },
        {
         "name": "year_minus_2_mean",
         "rawType": "float64",
         "type": "float"
        },
        {
         "name": "year_minus_2_sd",
         "rawType": "float64",
         "type": "float"
        },
        {
         "name": "year_minus_2_count",
         "rawType": "int64",
         "type": "integer"
        },
        {
         "name": "year_minus_2_mean_count_penalised_2x",
         "rawType": "float64",
         "type": "float"
        },
        {
         "name": "year_minus_3_mean",
         "rawType": "float64",
         "type": "float"
        },
        {
         "name": "year_minus_3_sd",
         "rawType": "float64",
         "type": "float"
        },
        {
         "name": "year_minus_3_count",
         "rawType": "int64",
         "type": "integer"
        },
        {
         "name": "year_minus_3_mean_count_penalised_2x",
         "rawType": "float64",
         "type": "float"
        },
        {
         "name": "year_minus_4_mean",
         "rawType": "float64",
         "type": "float"
        },
        {
         "name": "year_minus_4_count",
         "rawType": "int64",
         "type": "integer"
        },
        {
         "name": "year_minus_5_mean",
         "rawType": "float64",
         "type": "float"
        },
        {
         "name": "year_minus_5_count",
         "rawType": "int64",
         "type": "integer"
        },
        {
         "name": "year_minus_6_mean",
         "rawType": "float64",
         "type": "float"
        },
        {
         "name": "year_minus_7_mean",
         "rawType": "float64",
         "type": "float"
        },
        {
         "name": "year_minus_8_mean",
         "rawType": "float64",
         "type": "float"
        },
        {
         "name": "year_minus_9_mean",
         "rawType": "float64",
         "type": "float"
        },
        {
         "name": "year_minus_10_mean",
         "rawType": "float64",
         "type": "float"
        },
        {
         "name": "4_to_6_month_mean",
         "rawType": "float64",
         "type": "float"
        },
        {
         "name": "7_to_9_month_mean",
         "rawType": "float64",
         "type": "float"
        },
        {
         "name": "10_to_12_month_mean",
         "rawType": "float64",
         "type": "float"
        },
        {
         "name": "13_to_15_month_mean",
         "rawType": "float64",
         "type": "float"
        },
        {
         "name": "16_to_18_month_mean",
         "rawType": "float64",
         "type": "float"
        },
        {
         "name": "19_to_21_month_mean",
         "rawType": "float64",
         "type": "float"
        },
        {
         "name": "22_to_24_month_mean",
         "rawType": "float64",
         "type": "float"
        },
        {
         "name": "days_since_median_rd",
         "rawType": "int64",
         "type": "integer"
        },
        {
         "name": "days_since_first_rd",
         "rawType": "int64",
         "type": "integer"
        }
       ],
       "ref": "6c95501d-c5d5-4092-9170-fb2931594469",
       "rows": [
        [
         "0",
         "73.21539165",
         "72",
         "chieh jessica peng",
         "2024-12-20 00:00:00",
         "2024",
         "12",
         "4",
         "late_season",
         "9",
         "13",
         "1274",
         "0.013216085",
         "tlpga",
         "75.56473612",
         "15",
         "26",
         "0.388059701",
         "epson",
         "40",
         "0.210526316",
         "epson",
         "64",
         "0.273504274",
         "epson",
         "135",
         "0.300668151",
         "epson",
         "74.21385577",
         "3",
         "70.82211257",
         "1",
         "73.96255131",
         "73.39020308",
         "75.37443456",
         "73.82730776",
         "74.05159491",
         "74.01794147",
         "73.97774268",
         "2.550378851",
         "90.0",
         "72.39660385",
         "74.22883137",
         "74.41184486",
         "2.430071466",
         "231",
         "73.89985552",
         "73.57087967",
         "73.24190382",
         "72.91292798",
         "72.25497628",
         "74.18607659",
         "74.52158834",
         "2.683092848",
         "546",
         "73.54413585",
         "73.97156196",
         "74.257634",
         "2.721837214",
         "1154.0",
         "73.53000335",
         "74.57428457",
         "74.54266823",
         "4.582610847",
         null,
         null,
         "73.55421521",
         "-0.532311683",
         "1.663656564",
         "5",
         "73.81138067",
         "73.57298412",
         "73.59817628",
         "-0.124091726",
         "2.600079491",
         "21",
         "0.0",
         "74.02959856",
         "74.13870751",
         "74.24781645",
         "74.46603434",
         "74.90247012",
         "75.99355958",
         "74.47186102",
         "74.6419935",
         "74.20519865",
         "0.393106359",
         "2.45113486",
         "38",
         "0.026315789",
         "74.63408245",
         "74.71519316",
         "74.79630387",
         "74.95852529",
         "75.28296813",
         "74.30566327",
         "74.49719173",
         "74.25847662",
         "0.259828653",
         "2.43493531",
         "52",
         "74.58301337",
         "74.00379636",
         "74.36314822",
         "74.13708949",
         "-0.041507842",
         "2.696857346",
         "2.703160619",
         "67",
         "0.014925373",
         "74.12596581",
         "74.18705053",
         "74.24813525",
         "74.37030469",
         "74.61464358",
         "75.2254908",
         "74.04667839",
         "74.36314822",
         "74.10765792",
         "0.02271426",
         "2.687327676",
         "81",
         "74.26890061",
         "74.18607659",
         "74.52158834",
         "74.12206872",
         "0.207367182",
         "2.683092848",
         "100",
         "74.38607659",
         "74.01981781",
         "74.49898479",
         "74.10521265",
         "0.068299928",
         "2.689240271",
         "126",
         "74.19799197",
         "73.99026529",
         "74.41184486",
         "74.08698582",
         "0.016322008",
         "2.637114104",
         "134",
         "74.07665213",
         "74.11984556",
         "74.16303898",
         "74.24942582",
         "74.42219951",
         "74.85413372",
         "74.03186824",
         "0.140601262",
         "2.735591689",
         "0.068794355",
         "0.746573274",
         "3.113135567",
         "-1.345383653",
         "2.763084255",
         "72.88527984",
         "75.20698363",
         "71.80372663",
         "76.26000985",
         "70.55548522",
         "77.42385892",
         "69.35407214",
         "78.86547323",
         "190",
         "0.015789474",
         "73.97060508",
         "0.020295664",
         "2.71660094",
         "2.740695285",
         "0.041354783",
         "0.612487888",
         "3.01497909",
         "-1.236162957",
         "70.52897003",
         "71.80532843",
         "72.85783447",
         "234",
         "74.39913575",
         "0.020295664",
         "449",
         "0.008908686",
         "2.71660094",
         "2.740695285",
         "0.142530656",
         "1.018412457",
         "3.333687824",
         "-1.877614729",
         "73.89865941",
         "2.667376987",
         "64",
         "74.14865941",
         "74.07401924",
         "2.6255835",
         "70",
         "74.31306496",
         "74.13141815",
         "2.980714017",
         "56",
         "74.39867939",
         "73.42364084",
         "2.305404722",
         "23",
         "73.84066967",
         "74.01537545",
         "21",
         "74.51926588",
         "69",
         "74.97498302",
         "75.80792681",
         "76.20390453",
         "71.74587117",
         "73.34388715",
         "74.52052396",
         "73.87267505",
         "75.03028769",
         "74.09181178",
         "74.42662552",
         "73.34870231",
         "71.80764084",
         "1581",
         "5845"
        ],
        [
         "1",
         "73.21539165",
         "72",
         "min lee",
         "2024-12-20 00:00:00",
         "2024",
         "12",
         "4",
         "late_season",
         "9",
         "13",
         "1271",
         "0.00629101",
         "tlpga",
         "75.56473612",
         "15",
         "20",
         "0.303030303",
         "lpga",
         "33",
         "0.153488372",
         "lpga",
         "59",
         "0.197986577",
         "lpga",
         "82",
         "0.100244499",
         "lpga",
         "72.84784043",
         "3",
         "76.89257936",
         "1",
         "73.30611049",
         "73.45046291",
         "73.36876756",
         "73.1977175",
         "73.16381055",
         "72.56886362",
         "73.62270389",
         "2.597272162",
         "90.0",
         "72.04156506",
         "73.16823328",
         "73.60358176",
         "2.488038695",
         "218",
         "72.82959055",
         "72.49094782",
         "72.15230509",
         "71.81366236",
         "71.13637689",
         "73.35923866",
         "73.62792151",
         "2.829707526",
         "511",
         "72.69567772",
         "72.97731266",
         "73.05651958",
         "2.693750668",
         "1001.0",
         "72.503208",
         "73.06620544",
         "73.07838888",
         "2.711705421",
         "2758.0",
         "72.78058181",
         "73.34620696",
         "0.087906665",
         "3.111949303",
         "5",
         "73.48527094",
         "73.62126149",
         "73.70850288",
         "0.366571003",
         "2.675944136",
         "22",
         "0.0",
         "73.69847166",
         "73.80507202",
         "73.91167237",
         "74.12487309",
         "74.55127452",
         "75.61727811",
         "73.09722796",
         "73.58590202",
         "73.38145767",
         "-0.207334295",
         "2.608283745",
         "43",
         "0.0",
         "73.24972653",
         "73.32597582",
         "73.4022251",
         "73.55472367",
         "73.85972081",
         "73.20318809",
         "73.62792151",
         "73.26324749",
         "-0.058120945",
         "2.408550602",
         "56",
         "73.47044933",
         "73.22482535",
         "73.60358176",
         "73.2206252",
         "0.001204191",
         "2.463892674",
         "2.501665816",
         "66",
         "0.0",
         "73.34791684",
         "73.40946259",
         "73.47100834",
         "73.59409983",
         "73.84028281",
         "74.45574026",
         "73.3322696",
         "73.62792151",
         "73.25294652",
         "0.211653289",
         "2.633192963",
         "86",
         "73.54793515",
         "73.19849317",
         "73.41000066",
         "73.28357213",
         "0.177968662",
         "2.809743841",
         "113",
         "73.38663735",
         "73.05387528",
         "73.20119496",
         "73.23426564",
         "0.049021029",
         "2.748588119",
         "135",
         "73.22600787",
         "73.08528218",
         "73.20242047",
         "73.19443212",
         "0.087118208",
         "2.749209539",
         "138",
         "73.17040783",
         "73.21297066",
         "73.25553349",
         "73.34065914",
         "73.51091045",
         "73.93653871",
         "72.93767629",
         "0.167693653",
         "2.643405313",
         "0.238135879",
         "1.313673346",
         "3.421360241",
         "-2.004428409",
         "2.727618706",
         "71.78353783",
         "74.04081748",
         "70.81508686",
         "75.08010302",
         "69.64868128",
         "76.37871874",
         "68.68296429",
         "77.66148642",
         "215",
         "0.009302326",
         "72.8422836",
         "-0.007251286",
         "2.698030647",
         "2.727618706",
         "0.117476573",
         "0.933815138",
         "3.25211679",
         "-1.778228365",
         "69.40461415",
         "70.62005688",
         "71.63623221",
         "298",
         "72.92226979",
         "-0.007251286",
         "818",
         "0.002444988",
         "2.698030647",
         "2.727618706",
         "0.105222136",
         "0.890213849",
         "3.217790196",
         "-1.714374579",
         "73.12412353",
         "2.344676951",
         "64",
         "73.37412353",
         "73.05168966",
         "3.072065442",
         "74",
         "73.28418494",
         "72.64688035",
         "2.460241072",
         "74",
         "72.87937563",
         "72.30931954",
         "2.926658521",
         "66",
         "72.55550252",
         "73.64736677",
         "20",
         "73.75063066",
         "77",
         "73.22503987",
         "73.01685364",
         "72.86148644",
         "72.30575292",
         "73.46936316",
         "72.6033022",
         "73.37687726",
         "75.22402882",
         "73.53458532",
         "72.09865962",
         "72.30804247",
         "74.49859275",
         "2379",
         "6426"
        ],
        [
         "2",
         "73.21539165",
         "72",
         "mind muangkhumsakul",
         "2024-12-20 00:00:00",
         "2024",
         "12",
         "4",
         "late_season",
         "9",
         "13",
         "1274",
         "0.0025",
         "tlpga",
         "75.56473612",
         "15",
         "33",
         "1.0",
         "tlpga",
         "33",
         "0.559322034",
         "tlpga",
         "33",
         "0.292035398",
         "lpga",
         "33",
         "0.143478261",
         "epson",
         "74.9061941",
         "3",
         "73.85734596",
         "1",
         "74.31214393",
         "77.72089099",
         "76.40493198",
         "74.58834385",
         "73.76070245",
         "73.60074187",
         "76.14621048",
         "3.025574296",
         "141.0",
         "74.8829826",
         "75.68006918",
         "75.09446035",
         "2.830100005",
         "916",
         "75.51486453",
         "75.34965988",
         "75.18445523",
         "75.01925058",
         "74.68884128",
         "75.05081548",
         "74.66638186",
         "2.653990415",
         "1491",
         "74.66234999",
         "74.25983414",
         "74.19029068",
         "2.85501766",
         "2701.0",
         "73.97121245",
         "74.14012574",
         "74.10655759",
         "5.653376916",
         null,
         null,
         "74.57666489",
         "-1.703487385",
         "1.746727147",
         "5",
         "76.2848369",
         "76.08954668",
         "75.93563",
         "0.213369001",
         "3.403199159",
         "15",
         "0.0",
         "76.54303579",
         "76.67213523",
         "76.80123468",
         "77.05943357",
         "77.57583135",
         "78.8668258",
         "76.36217935",
         "76.11950447",
         "76.1962173",
         "0.364205084",
         "3.110609014",
         "21",
         "0.0",
         "76.58039724",
         "76.68950619",
         "76.79861513",
         "77.01683302",
         "77.4532688",
         "76.56608616",
         "76.10452558",
         "76.3322553",
         "0.73320829",
         "3.236070621",
         "26",
         "76.95831843",
         "76.08199125",
         "75.52987517",
         "76.31829352",
         "0.730979789",
         "3.093675003",
         "3.14505928",
         "33",
         "0.0",
         "76.2560689",
         "76.34310773",
         "76.43014656",
         "76.60422422",
         "76.95237953",
         "77.82276781",
         "76.08199125",
         "75.52987517",
         "76.2505239",
         "0.730979789",
         "3.093675003",
         "33",
         "76.43014656",
         "76.08199125",
         "75.52987517",
         "76.21264242",
         "0.730979789",
         "3.093675003",
         "33",
         "76.43014656",
         "76.08199125",
         "75.52987517",
         "76.18866509",
         "0.730979789",
         "3.093675003",
         "33",
         "76.43014656",
         "76.08199125",
         "75.52987517",
         "76.17242867",
         "0.730979789",
         "3.093675003",
         "33",
         "76.2560689",
         "76.34310773",
         "76.43014656",
         "76.60422422",
         "76.95237953",
         "77.82276781",
         "75.54113539",
         "0.549759008",
         "2.793921644",
         "0.782691904",
         "3.980020077",
         "4.411059985",
         "-2.863663327",
         "2.762555988",
         "74.29508068",
         "76.59636169",
         "73.40682075",
         "77.74904708",
         "72.44580489",
         "79.19622919",
         "71.75458877",
         "81.25187941",
         "59",
         "0.0",
         "74.90489583",
         "0.378462796",
         "2.782113067",
         "2.724467728",
         "0.488912995",
         "2.130600235",
         "3.939392902",
         "-2.466900455",
         "71.49286873",
         "72.72110887",
         "73.70376078",
         "113",
         "74.14012574",
         "0.378462796",
         "230",
         "0.0",
         "2.865346499",
         "2.733677144",
         "0.482854236",
         "2.107421811",
         "3.94416406",
         "-2.464676209",
         "76.08199125",
         "3.093675003",
         "33",
         "76.43014656",
         null,
         null,
         "0",
         null,
         "74.85466449",
         "2.232271178",
         "26",
         "75.24689676",
         "74.30626797",
         "2.360781092",
         "38",
         "74.63071082",
         "73.98050361",
         "16",
         "72.67586454",
         "54",
         "75.02018696",
         "73.55988994",
         null,
         null,
         null,
         "77.04207888",
         "79.61672454",
         "74.44750015",
         null,
         null,
         null,
         null,
         "1910",
         "2821"
        ],
        [
         "3",
         "73.21539165",
         "72",
         "p.k. kongkraphan",
         "2024-12-20 00:00:00",
         "2024",
         "12",
         "4",
         "late_season",
         "9",
         "13",
         "1277",
         "0.0025",
         "tlpga",
         "75.56473612",
         "15",
         "37",
         "0.637931034",
         "tlpga",
         "71",
         "0.458064516",
         "tlpga",
         "71",
         "0.33490566",
         "thai",
         "71",
         "0.097796143",
         "thai",
         "75.60846738",
         "3",
         "72.8456015",
         "1",
         "76.36131692",
         "72.57862145",
         "71.80862612",
         "72.54434617",
         "72.78828695",
         "73.11575521",
         "72.41719203",
         "3.232824054",
         "83.0",
         "70.77072813",
         "72.49029714",
         "72.82895017",
         "2.847239772",
         "300",
         "72.201622",
         "71.91294687",
         "71.62427173",
         "71.3355966",
         "70.75824633",
         "72.56957842",
         "72.8584741",
         "2.719301388",
         "581",
         "71.94727356",
         "72.84850191",
         "72.97569256",
         "2.687002691",
         "1612.0",
         "72.4749003",
         "73.01911174",
         "73.00967771",
         "2.857534602",
         "3752.0",
         "72.77422806",
         "75.39817236",
         "3.184064153",
         "1.962418253",
         "5",
         "72.39036307",
         "72.79783781",
         "73.52347288",
         "0.071904593",
         "3.082353769",
         "22",
         "0.0",
         "72.60356379",
         "72.71016415",
         "72.81676451",
         "73.02996522",
         "73.45636666",
         "74.52237024",
         "72.67983142",
         "72.8456015",
         "72.83356849",
         "0.338058157",
         "3.059687134",
         "29",
         "0.0",
         "72.86552676",
         "72.95837442",
         "73.05122209",
         "73.23691743",
         "73.60830811",
         "72.41573967",
         "72.81229884",
         "72.67192824",
         "0.036209679",
         "2.912646454",
         "45",
         "72.71388207",
         "72.36171466",
         "72.78118648",
         "72.56641364",
         "-0.084380035",
         "2.769261297",
         "2.828979525",
         "58",
         "0.0",
         "72.49302109",
         "72.55867431",
         "72.62432753",
         "72.75563396",
         "73.01824683",
         "73.67477899",
         "72.55640476",
         "72.8456015",
         "72.53480967",
         "0.036460798",
         "2.584748947",
         "75",
         "72.78734486",
         "72.52158995",
         "72.8456015",
         "72.52755758",
         "-0.017134279",
         "2.665568343",
         "93",
         "72.72898028",
         "72.54783228",
         "72.82895017",
         "72.52618456",
         "-0.041583562",
         "2.73780728",
         "110",
         "72.7385248",
         "72.57112686",
         "72.81229884",
         "72.53899598",
         "-0.05953324",
         "2.765013662",
         "125",
         "72.66056958",
         "72.70529093",
         "72.75001229",
         "72.83945501",
         "73.01834045",
         "73.46555405",
         "72.66720959",
         "-0.095294887",
         "2.745807352",
         "-0.143575336",
         null,
         null,
         null,
         "2.784295596",
         "71.4962223",
         "73.88054186",
         "70.45001778",
         "74.91319611",
         "69.05832389",
         "76.15014616",
         "67.82765677",
         "77.03575827",
         "155",
         "0.0",
         "72.87748996",
         "-0.00366546",
         "2.703553942",
         "2.731579314",
         "-0.228728723",
         null,
         null,
         null,
         "69.33889699",
         "70.71757552",
         "71.79411808",
         "212",
         "72.98890411",
         "-0.00366546",
         "726",
         "0.002754821",
         "2.703553942",
         "2.731579314",
         "0.077430489",
         "0.78312343",
         "3.137484423",
         "-1.547130055",
         "72.4571272",
         "2.769177498",
         "55",
         "72.72680714",
         "72.66069802",
         "2.778411354",
         "70",
         "72.89974374",
         "73.06755433",
         "2.672316586",
         "30",
         "73.4327027",
         "73.17621871",
         "2.834925717",
         "27",
         "73.56111889",
         "73.69508264",
         "30",
         "72.87014802",
         "54",
         "73.16803888",
         "74.0667596",
         "73.02549857",
         "72.83037626",
         "73.35885222",
         "73.58958907",
         "71.38591672",
         "72.15112319",
         "73.17161158",
         "72.38626763",
         "72.16340812",
         "71.74447315",
         "3030",
         "6266"
        ],
        [
         "4",
         "77.28291341",
         "76",
         "pei-yun chien",
         "2024-12-20 00:00:00",
         "2024",
         "12",
         "4",
         "late_season",
         "9",
         "13",
         "1272",
         "0.005840049",
         "tlpga",
         "75.56473612",
         "15",
         "5",
         "0.047619048",
         "lpga",
         "11",
         "0.043650794",
         "lpga",
         "16",
         "0.044077135",
         "lpga",
         "70",
         "0.071794872",
         "lpga",
         "73.47954339",
         "2",
         "70.82211257",
         "1",
         "73.08605831",
         "71.01021934",
         "71.96430462",
         "71.29088793",
         "71.59869534",
         "71.91915787",
         "71.43896447",
         "3.22113612",
         "89.0",
         "69.84896765",
         "71.31157351",
         "71.54992536",
         "3.040734617",
         "175",
         "70.93360903",
         "70.55564456",
         "70.17768009",
         "69.79971561",
         "69.04378667",
         "71.49049192",
         "71.69855451",
         "2.895529614",
         "308",
         "70.6357876",
         "71.76950893",
         "71.91573296",
         "2.878330544",
         "825.0",
         "71.24727597",
         "72.16863542",
         "72.17722162",
         "2.773217163",
         "2353.0",
         "71.85940636",
         "71.56060036",
         "0.066699978",
         "1.044379459",
         "2",
         "71.5358821",
         "71.97269411",
         "71.53820551",
         "0.014403275",
         "3.215757944",
         "23",
         "0.0",
         "71.74439652",
         "71.84865372",
         "71.95291093",
         "72.16142535",
         "72.57845417",
         "73.62102624",
         "71.27531621",
         "71.47105672",
         "71.45570124",
         "-0.303218738",
         "2.946494353",
         "55",
         "0.0",
         "71.41015618",
         "71.47757616",
         "71.54499615",
         "71.67983612",
         "71.94951607",
         "71.48386944",
         "71.62879399",
         "71.42387893",
         "-0.160224286",
         "2.905188625",
         "85",
         "71.7007999",
         "71.49135516",
         "71.62879399",
         "71.45397346",
         "-0.16658732",
         "2.893173119",
         "2.907869637",
         "105",
         "0.00952381",
         "71.58894516",
         "71.63774017",
         "71.68653517",
         "71.78412518",
         "71.97930519",
         "72.46725523",
         "71.60408669",
         "71.80829911",
         "71.47286389",
         "-0.104514956",
         "2.860862138",
         "129",
         "71.78017687",
         "71.60820954",
         "71.76831502",
         "71.50540922",
         "-0.161780726",
         "2.836123218",
         "157",
         "71.76782692",
         "71.59555523",
         "71.56182391",
         "71.53700418",
         "-0.197852377",
         "2.877444734",
         "185",
         "71.74259816",
         "71.64782715",
         "71.69855451",
         "71.55238573",
         "-0.150370944",
         "2.892505736",
         "188",
         "71.72075965",
         "71.7572259",
         "71.79369215",
         "71.86662464",
         "72.01248963",
         "72.37715211",
         "71.75184359",
         "-0.158682689",
         "2.758786882",
         "0.044343796",
         "0.628947156",
         "3.047405604",
         "-1.453200304",
         "2.879568749",
         "70.57394218",
         "72.92334937",
         "69.49533813",
         "74.00834905",
         "68.23732624",
         "75.28554781",
         "67.02047283",
         "76.38054817",
         "252",
         "0.007936508",
         "71.95946365",
         "-0.114460797",
         "2.870561033",
         "2.879568749",
         "-0.031272846",
         null,
         null,
         null,
         "68.42014388",
         "69.72711409",
         "70.78185387",
         "363",
         "72.51509958",
         "-0.114460797",
         "975",
         "0.002051282",
         "2.870561033",
         "2.879568749",
         "-0.036941901",
         null,
         null,
         null,
         "71.49135516",
         "2.893173119",
         "105",
         "71.68653517",
         "71.84577366",
         "2.897017834",
         "83",
         "72.06530218",
         "72.05739187",
         "2.315496011",
         "64",
         "72.30739187",
         "72.53316014",
         "2.671151116",
         "64",
         "72.78316014",
         "72.29145684",
         "47",
         "72.71985526",
         "90",
         "72.5632836",
         "72.43786209",
         "73.28226684",
         "74.07249643",
         "73.6719909",
         "70.6117217",
         "71.55901134",
         "71.93320817",
         "72.09728714",
         "72.08013621",
         "71.18660141",
         "74.87126236",
         "2315",
         "5012"
        ]
       ],
       "shape": {
        "columns": 222,
        "rows": 5
       }
      },
      "text/html": [
       "<div>\n",
       "<style scoped>\n",
       "    .dataframe tbody tr th:only-of-type {\n",
       "        vertical-align: middle;\n",
       "    }\n",
       "\n",
       "    .dataframe tbody tr th {\n",
       "        vertical-align: top;\n",
       "    }\n",
       "\n",
       "    .dataframe thead th {\n",
       "        text-align: right;\n",
       "    }\n",
       "</style>\n",
       "<table border=\"1\" class=\"dataframe\">\n",
       "  <thead>\n",
       "    <tr style=\"text-align: right;\">\n",
       "      <th></th>\n",
       "      <th>adj_score</th>\n",
       "      <th>rd_score</th>\n",
       "      <th>player_name</th>\n",
       "      <th>round_date</th>\n",
       "      <th>year</th>\n",
       "      <th>month</th>\n",
       "      <th>quarter</th>\n",
       "      <th>season_phase</th>\n",
       "      <th>tournament_tier_field_strength</th>\n",
       "      <th>tournament_tier_top50_av</th>\n",
       "      <th>...</th>\n",
       "      <th>year_minus_10_mean</th>\n",
       "      <th>4_to_6_month_mean</th>\n",
       "      <th>7_to_9_month_mean</th>\n",
       "      <th>10_to_12_month_mean</th>\n",
       "      <th>13_to_15_month_mean</th>\n",
       "      <th>16_to_18_month_mean</th>\n",
       "      <th>19_to_21_month_mean</th>\n",
       "      <th>22_to_24_month_mean</th>\n",
       "      <th>days_since_median_rd</th>\n",
       "      <th>days_since_first_rd</th>\n",
       "    </tr>\n",
       "  </thead>\n",
       "  <tbody>\n",
       "    <tr>\n",
       "      <th>0</th>\n",
       "      <td>73.215392</td>\n",
       "      <td>72</td>\n",
       "      <td>chieh jessica peng</td>\n",
       "      <td>2024-12-20</td>\n",
       "      <td>2024</td>\n",
       "      <td>12</td>\n",
       "      <td>4</td>\n",
       "      <td>late_season</td>\n",
       "      <td>9</td>\n",
       "      <td>13</td>\n",
       "      <td>...</td>\n",
       "      <td>73.343887</td>\n",
       "      <td>74.520524</td>\n",
       "      <td>73.872675</td>\n",
       "      <td>75.030288</td>\n",
       "      <td>74.091812</td>\n",
       "      <td>74.426626</td>\n",
       "      <td>73.348702</td>\n",
       "      <td>71.807641</td>\n",
       "      <td>1581</td>\n",
       "      <td>5845</td>\n",
       "    </tr>\n",
       "    <tr>\n",
       "      <th>1</th>\n",
       "      <td>73.215392</td>\n",
       "      <td>72</td>\n",
       "      <td>min lee</td>\n",
       "      <td>2024-12-20</td>\n",
       "      <td>2024</td>\n",
       "      <td>12</td>\n",
       "      <td>4</td>\n",
       "      <td>late_season</td>\n",
       "      <td>9</td>\n",
       "      <td>13</td>\n",
       "      <td>...</td>\n",
       "      <td>73.469363</td>\n",
       "      <td>72.603302</td>\n",
       "      <td>73.376877</td>\n",
       "      <td>75.224029</td>\n",
       "      <td>73.534585</td>\n",
       "      <td>72.098660</td>\n",
       "      <td>72.308042</td>\n",
       "      <td>74.498593</td>\n",
       "      <td>2379</td>\n",
       "      <td>6426</td>\n",
       "    </tr>\n",
       "    <tr>\n",
       "      <th>2</th>\n",
       "      <td>73.215392</td>\n",
       "      <td>72</td>\n",
       "      <td>mind muangkhumsakul</td>\n",
       "      <td>2024-12-20</td>\n",
       "      <td>2024</td>\n",
       "      <td>12</td>\n",
       "      <td>4</td>\n",
       "      <td>late_season</td>\n",
       "      <td>9</td>\n",
       "      <td>13</td>\n",
       "      <td>...</td>\n",
       "      <td>NaN</td>\n",
       "      <td>77.042079</td>\n",
       "      <td>79.616725</td>\n",
       "      <td>74.447500</td>\n",
       "      <td>NaN</td>\n",
       "      <td>NaN</td>\n",
       "      <td>NaN</td>\n",
       "      <td>NaN</td>\n",
       "      <td>1910</td>\n",
       "      <td>2821</td>\n",
       "    </tr>\n",
       "    <tr>\n",
       "      <th>3</th>\n",
       "      <td>73.215392</td>\n",
       "      <td>72</td>\n",
       "      <td>p.k. kongkraphan</td>\n",
       "      <td>2024-12-20</td>\n",
       "      <td>2024</td>\n",
       "      <td>12</td>\n",
       "      <td>4</td>\n",
       "      <td>late_season</td>\n",
       "      <td>9</td>\n",
       "      <td>13</td>\n",
       "      <td>...</td>\n",
       "      <td>73.358852</td>\n",
       "      <td>73.589589</td>\n",
       "      <td>71.385917</td>\n",
       "      <td>72.151123</td>\n",
       "      <td>73.171612</td>\n",
       "      <td>72.386268</td>\n",
       "      <td>72.163408</td>\n",
       "      <td>71.744473</td>\n",
       "      <td>3030</td>\n",
       "      <td>6266</td>\n",
       "    </tr>\n",
       "    <tr>\n",
       "      <th>4</th>\n",
       "      <td>77.282913</td>\n",
       "      <td>76</td>\n",
       "      <td>pei-yun chien</td>\n",
       "      <td>2024-12-20</td>\n",
       "      <td>2024</td>\n",
       "      <td>12</td>\n",
       "      <td>4</td>\n",
       "      <td>late_season</td>\n",
       "      <td>9</td>\n",
       "      <td>13</td>\n",
       "      <td>...</td>\n",
       "      <td>73.671991</td>\n",
       "      <td>70.611722</td>\n",
       "      <td>71.559011</td>\n",
       "      <td>71.933208</td>\n",
       "      <td>72.097287</td>\n",
       "      <td>72.080136</td>\n",
       "      <td>71.186601</td>\n",
       "      <td>74.871262</td>\n",
       "      <td>2315</td>\n",
       "      <td>5012</td>\n",
       "    </tr>\n",
       "  </tbody>\n",
       "</table>\n",
       "<p>5 rows × 222 columns</p>\n",
       "</div>"
      ],
      "text/plain": [
       "   adj_score  rd_score          player_name round_date  year  month  quarter  \\\n",
       "0  73.215392        72   chieh jessica peng 2024-12-20  2024     12        4   \n",
       "1  73.215392        72              min lee 2024-12-20  2024     12        4   \n",
       "2  73.215392        72  mind muangkhumsakul 2024-12-20  2024     12        4   \n",
       "3  73.215392        72     p.k. kongkraphan 2024-12-20  2024     12        4   \n",
       "4  77.282913        76        pei-yun chien 2024-12-20  2024     12        4   \n",
       "\n",
       "  season_phase  tournament_tier_field_strength  tournament_tier_top50_av  ...  \\\n",
       "0  late_season                               9                        13  ...   \n",
       "1  late_season                               9                        13  ...   \n",
       "2  late_season                               9                        13  ...   \n",
       "3  late_season                               9                        13  ...   \n",
       "4  late_season                               9                        13  ...   \n",
       "\n",
       "   year_minus_10_mean  4_to_6_month_mean 7_to_9_month_mean  \\\n",
       "0           73.343887          74.520524         73.872675   \n",
       "1           73.469363          72.603302         73.376877   \n",
       "2                 NaN          77.042079         79.616725   \n",
       "3           73.358852          73.589589         71.385917   \n",
       "4           73.671991          70.611722         71.559011   \n",
       "\n",
       "   10_to_12_month_mean  13_to_15_month_mean  16_to_18_month_mean  \\\n",
       "0            75.030288            74.091812            74.426626   \n",
       "1            75.224029            73.534585            72.098660   \n",
       "2            74.447500                  NaN                  NaN   \n",
       "3            72.151123            73.171612            72.386268   \n",
       "4            71.933208            72.097287            72.080136   \n",
       "\n",
       "   19_to_21_month_mean 22_to_24_month_mean  days_since_median_rd  \\\n",
       "0            73.348702           71.807641                  1581   \n",
       "1            72.308042           74.498593                  2379   \n",
       "2                  NaN                 NaN                  1910   \n",
       "3            72.163408           71.744473                  3030   \n",
       "4            71.186601           74.871262                  2315   \n",
       "\n",
       "   days_since_first_rd  \n",
       "0                 5845  \n",
       "1                 6426  \n",
       "2                 2821  \n",
       "3                 6266  \n",
       "4                 5012  \n",
       "\n",
       "[5 rows x 222 columns]"
      ]
     },
     "execution_count": 17,
     "metadata": {},
     "output_type": "execute_result"
    }
   ],
   "source": [
    "df.head()"
   ]
  },
  {
   "cell_type": "code",
   "execution_count": 18,
   "id": "6daf66ba",
   "metadata": {},
   "outputs": [
    {
     "data": {
      "text/plain": [
       "(2483, 222)"
      ]
     },
     "execution_count": 18,
     "metadata": {},
     "output_type": "execute_result"
    }
   ],
   "source": [
    "df.shape"
   ]
  },
  {
   "cell_type": "code",
   "execution_count": 19,
   "id": "bca327af",
   "metadata": {},
   "outputs": [],
   "source": [
    "# import pandas as pd\n",
    "# import numpy as np\n",
    "\n",
    "\n",
    "# num_parts = 5\n",
    "\n",
    "\n",
    "# columns_split = np.array_split(df.columns, num_parts)\n",
    "\n",
    "# for i, cols in enumerate(columns_split):\n",
    "#     df_subset = df[cols] \n",
    "#     df_subset.to_csv(f'columns_part_{i+1}.csv', index=False)\n"
   ]
  },
  {
   "cell_type": "code",
   "execution_count": 20,
   "id": "08fd679d",
   "metadata": {},
   "outputs": [],
   "source": [
    "df1 = pd.read_csv('data/columns_part_1.csv')"
   ]
  },
  {
   "cell_type": "code",
   "execution_count": 21,
   "id": "f7d30bc1",
   "metadata": {},
   "outputs": [
    {
     "name": "stdout",
     "output_type": "stream",
     "text": [
      "<class 'pandas.core.frame.DataFrame'>\n",
      "RangeIndex: 2483 entries, 0 to 2482\n",
      "Data columns (total 45 columns):\n",
      " #   Column                            Non-Null Count  Dtype  \n",
      "---  ------                            --------------  -----  \n",
      " 0   adj_score                         2483 non-null   float64\n",
      " 1   rd_score                          2483 non-null   int64  \n",
      " 2   player_name                       2483 non-null   object \n",
      " 3   round_date                        2483 non-null   object \n",
      " 4   year                              2483 non-null   int64  \n",
      " 5   month                             2483 non-null   int64  \n",
      " 6   quarter                           2483 non-null   int64  \n",
      " 7   season_phase                      2483 non-null   object \n",
      " 8   tournament_tier_field_strength    2483 non-null   int64  \n",
      " 9   tournament_tier_top50_av          2483 non-null   int64  \n",
      " 10  elo_rating_pre_rd                 2483 non-null   int64  \n",
      " 11  wd_percentage_adj                 2483 non-null   float64\n",
      " 12  tour                              2483 non-null   object \n",
      " 13  field_strength                    2483 non-null   float64\n",
      " 14  tour_tier                         2483 non-null   int64  \n",
      " 15  tour_0_to_1_year_count            2483 non-null   int64  \n",
      " 16  tour_0_to_1_year_percentage       2483 non-null   float64\n",
      " 17  tour_0_to_1_year_mode             2483 non-null   object \n",
      " 18  tour_0_to_3_year_count            2483 non-null   int64  \n",
      " 19  tour_0_to_3_year_percentage       2483 non-null   float64\n",
      " 20  tour_0_to_3_year_mode             2483 non-null   object \n",
      " 21  tour_0_to_5_year_count            2483 non-null   int64  \n",
      " 22  tour_0_to_5_year_percentage       2483 non-null   float64\n",
      " 23  tour_0_to_5_year_mode             2483 non-null   object \n",
      " 24  tour_0_to_10_year_count           2483 non-null   int64  \n",
      " 25  tour_0_to_10_year_percentage      2483 non-null   float64\n",
      " 26  tour_0_to_10_year_mode            2483 non-null   object \n",
      " 27  1_tournament_mean                 2483 non-null   float64\n",
      " 28  1_tournament_count                2483 non-null   int64  \n",
      " 29  1_rd_mean                         2483 non-null   float64\n",
      " 30  days_since_1_rd                   2483 non-null   int64  \n",
      " 31  2_to_4_rd_mean                    2483 non-null   float64\n",
      " 32  5_to_12_rd_mean                   2483 non-null   float64\n",
      " 33  13_to_28_rd_mean                  2483 non-null   float64\n",
      " 34  29_to_60_rd_mean                  2483 non-null   float64\n",
      " 35  61_to_120_rd_mean                 2483 non-null   float64\n",
      " 36  121_to_240_rd_mean                2483 non-null   float64\n",
      " 37  1_to_20_rd_mean                   2483 non-null   float64\n",
      " 38  0_to_20_rd_sd                     2483 non-null   float64\n",
      " 39  days_since_20_rd                  2444 non-null   float64\n",
      " 40  1_to_20_rd_mean_days_penalty_15x  2444 non-null   float64\n",
      " 41  1_to_50_rd_mean                   2483 non-null   float64\n",
      " 42  1_to_50_rd_median                 2483 non-null   float64\n",
      " 43  1_to_50_rd_sd                     2483 non-null   float64\n",
      " 44  days_since_50_rd                  2483 non-null   int64  \n",
      "dtypes: float64(22), int64(15), object(8)\n",
      "memory usage: 873.1+ KB\n"
     ]
    }
   ],
   "source": [
    "df1.info()"
   ]
  },
  {
   "cell_type": "code",
   "execution_count": 22,
   "id": "31307634",
   "metadata": {},
   "outputs": [],
   "source": [
    "cols_to_drop =[\n",
    "\t'player_name', 'round_date', 'year', 'month', 'quarter',\n",
    "\t'to_3_month_mean', 'to_3_month_median', '0_to_3_month_weighted',\n",
    "\t'to_3_month_mean', '0_to_3_month_median', '0_to_3_month_weighted',\n",
    "\t'0_to_3_month_mean_count_penalised_1x', 'tour_0_to_1_year_percentage',\n",
    "\t'tour_0_to_1_year_mean', 'tour_0_to_1_year_median',\n",
    "    '1_to_50_rd_median','1_to_20_rd_mean_days_penalty_15x',\n",
    "\t'tour','tour_0_to_1_year_mode','tour_0_to_3_year_count','tour_0_to_3_year_percentage',\n",
    "    'tour_0_to_3_year_mode','tour_0_to_5_year_count','tour_0_to_5_year_percentage',\n",
    "    'tour_0_to_5_year_mode','tour_0_to_10_year_percentage','tour_0_to_10_year_mode',\n",
    "    '1_to_20_rd_mean_days_penalty_15x','1_to_200_rd_mean_days_penalty_15x'\n",
    "    ,'days_since_200_rd','days_since_20_rd'\n",
    "    \n",
    "    \n",
    "    \n",
    "    \n",
    "]\n",
    "existing_cols_to_drop = [col for col in cols_to_drop if col in df1.columns]\n",
    "df1 = df1.drop(columns=existing_cols_to_drop, axis=1)"
   ]
  },
  {
   "cell_type": "code",
   "execution_count": 53,
   "id": "c3a4beef",
   "metadata": {},
   "outputs": [],
   "source": [
    "df1['season_phase'] = df1.season_phase.map({\n",
    "    'late_season': 0,\n",
    "    'post_season': 1,\n",
    "\n",
    "})"
   ]
  },
  {
   "cell_type": "code",
   "execution_count": 54,
   "id": "afdb49b4",
   "metadata": {},
   "outputs": [
    {
     "data": {
      "application/vnd.microsoft.datawrangler.viewer.v0+json": {
       "columns": [
        {
         "name": "index",
         "rawType": "int64",
         "type": "integer"
        },
        {
         "name": "adj_score",
         "rawType": "float64",
         "type": "float"
        },
        {
         "name": "rd_score",
         "rawType": "int64",
         "type": "integer"
        },
        {
         "name": "season_phase",
         "rawType": "int64",
         "type": "integer"
        },
        {
         "name": "tournament_tier_field_strength",
         "rawType": "int64",
         "type": "integer"
        },
        {
         "name": "tournament_tier_top50_av",
         "rawType": "int64",
         "type": "integer"
        },
        {
         "name": "elo_rating_pre_rd",
         "rawType": "int64",
         "type": "integer"
        },
        {
         "name": "wd_percentage_adj",
         "rawType": "float64",
         "type": "float"
        },
        {
         "name": "field_strength",
         "rawType": "float64",
         "type": "float"
        },
        {
         "name": "tour_tier",
         "rawType": "int64",
         "type": "integer"
        },
        {
         "name": "tour_0_to_1_year_count",
         "rawType": "int64",
         "type": "integer"
        },
        {
         "name": "tour_0_to_10_year_count",
         "rawType": "int64",
         "type": "integer"
        },
        {
         "name": "1_tournament_mean",
         "rawType": "float64",
         "type": "float"
        },
        {
         "name": "1_tournament_count",
         "rawType": "int64",
         "type": "integer"
        },
        {
         "name": "1_rd_mean",
         "rawType": "float64",
         "type": "float"
        },
        {
         "name": "days_since_1_rd",
         "rawType": "int64",
         "type": "integer"
        },
        {
         "name": "2_to_4_rd_mean",
         "rawType": "float64",
         "type": "float"
        },
        {
         "name": "5_to_12_rd_mean",
         "rawType": "float64",
         "type": "float"
        },
        {
         "name": "13_to_28_rd_mean",
         "rawType": "float64",
         "type": "float"
        },
        {
         "name": "29_to_60_rd_mean",
         "rawType": "float64",
         "type": "float"
        },
        {
         "name": "61_to_120_rd_mean",
         "rawType": "float64",
         "type": "float"
        },
        {
         "name": "121_to_240_rd_mean",
         "rawType": "float64",
         "type": "float"
        },
        {
         "name": "1_to_20_rd_mean",
         "rawType": "float64",
         "type": "float"
        },
        {
         "name": "0_to_20_rd_sd",
         "rawType": "float64",
         "type": "float"
        },
        {
         "name": "1_to_50_rd_mean",
         "rawType": "float64",
         "type": "float"
        },
        {
         "name": "1_to_50_rd_sd",
         "rawType": "float64",
         "type": "float"
        },
        {
         "name": "days_since_50_rd",
         "rawType": "int64",
         "type": "integer"
        }
       ],
       "ref": "a4d5d11b-1d05-439c-bf09-673541fb73bf",
       "rows": [
        [
         "0",
         "73.21539165",
         "72",
         "0",
         "9",
         "13",
         "1274",
         "0.013216085",
         "75.56473612",
         "15",
         "26",
         "135",
         "74.21385577",
         "3",
         "70.82211257",
         "1",
         "73.96255131",
         "73.39020308",
         "75.37443456",
         "73.82730776",
         "74.05159491",
         "74.01794147",
         "73.97774268",
         "2.550378851",
         "74.22883137",
         "2.430071466",
         "231"
        ],
        [
         "1",
         "73.21539165",
         "72",
         "0",
         "9",
         "13",
         "1271",
         "0.00629101",
         "75.56473612",
         "15",
         "20",
         "82",
         "72.84784043",
         "3",
         "76.89257936",
         "1",
         "73.30611049",
         "73.45046291",
         "73.36876756",
         "73.1977175",
         "73.16381055",
         "72.56886362",
         "73.62270389",
         "2.597272162",
         "73.16823328",
         "2.488038695",
         "218"
        ],
        [
         "2",
         "73.21539165",
         "72",
         "0",
         "9",
         "13",
         "1274",
         "0.0025",
         "75.56473612",
         "15",
         "33",
         "33",
         "74.9061941",
         "3",
         "73.85734596",
         "1",
         "74.31214393",
         "77.72089099",
         "76.40493198",
         "74.58834385",
         "73.76070245",
         "73.60074187",
         "76.14621048",
         "3.025574296",
         "75.68006918",
         "2.830100005",
         "916"
        ],
        [
         "3",
         "73.21539165",
         "72",
         "0",
         "9",
         "13",
         "1277",
         "0.0025",
         "75.56473612",
         "15",
         "37",
         "71",
         "75.60846738",
         "3",
         "72.8456015",
         "1",
         "76.36131692",
         "72.57862145",
         "71.80862612",
         "72.54434617",
         "72.78828695",
         "73.11575521",
         "72.41719203",
         "3.232824054",
         "72.49029714",
         "2.847239772",
         "300"
        ],
        [
         "4",
         "77.28291341",
         "76",
         "0",
         "9",
         "13",
         "1272",
         "0.005840049",
         "75.56473612",
         "15",
         "5",
         "70",
         "73.47954339",
         "2",
         "70.82211257",
         "1",
         "73.08605831",
         "71.01021934",
         "71.96430462",
         "71.29088793",
         "71.59869534",
         "71.91915787",
         "71.43896447",
         "3.22113612",
         "71.31157351",
         "3.040734617",
         "175"
        ]
       ],
       "shape": {
        "columns": 26,
        "rows": 5
       }
      },
      "text/html": [
       "<div>\n",
       "<style scoped>\n",
       "    .dataframe tbody tr th:only-of-type {\n",
       "        vertical-align: middle;\n",
       "    }\n",
       "\n",
       "    .dataframe tbody tr th {\n",
       "        vertical-align: top;\n",
       "    }\n",
       "\n",
       "    .dataframe thead th {\n",
       "        text-align: right;\n",
       "    }\n",
       "</style>\n",
       "<table border=\"1\" class=\"dataframe\">\n",
       "  <thead>\n",
       "    <tr style=\"text-align: right;\">\n",
       "      <th></th>\n",
       "      <th>adj_score</th>\n",
       "      <th>rd_score</th>\n",
       "      <th>season_phase</th>\n",
       "      <th>tournament_tier_field_strength</th>\n",
       "      <th>tournament_tier_top50_av</th>\n",
       "      <th>elo_rating_pre_rd</th>\n",
       "      <th>wd_percentage_adj</th>\n",
       "      <th>field_strength</th>\n",
       "      <th>tour_tier</th>\n",
       "      <th>tour_0_to_1_year_count</th>\n",
       "      <th>...</th>\n",
       "      <th>5_to_12_rd_mean</th>\n",
       "      <th>13_to_28_rd_mean</th>\n",
       "      <th>29_to_60_rd_mean</th>\n",
       "      <th>61_to_120_rd_mean</th>\n",
       "      <th>121_to_240_rd_mean</th>\n",
       "      <th>1_to_20_rd_mean</th>\n",
       "      <th>0_to_20_rd_sd</th>\n",
       "      <th>1_to_50_rd_mean</th>\n",
       "      <th>1_to_50_rd_sd</th>\n",
       "      <th>days_since_50_rd</th>\n",
       "    </tr>\n",
       "  </thead>\n",
       "  <tbody>\n",
       "    <tr>\n",
       "      <th>0</th>\n",
       "      <td>73.215392</td>\n",
       "      <td>72</td>\n",
       "      <td>0</td>\n",
       "      <td>9</td>\n",
       "      <td>13</td>\n",
       "      <td>1274</td>\n",
       "      <td>0.013216</td>\n",
       "      <td>75.564736</td>\n",
       "      <td>15</td>\n",
       "      <td>26</td>\n",
       "      <td>...</td>\n",
       "      <td>73.390203</td>\n",
       "      <td>75.374435</td>\n",
       "      <td>73.827308</td>\n",
       "      <td>74.051595</td>\n",
       "      <td>74.017941</td>\n",
       "      <td>73.977743</td>\n",
       "      <td>2.550379</td>\n",
       "      <td>74.228831</td>\n",
       "      <td>2.430071</td>\n",
       "      <td>231</td>\n",
       "    </tr>\n",
       "    <tr>\n",
       "      <th>1</th>\n",
       "      <td>73.215392</td>\n",
       "      <td>72</td>\n",
       "      <td>0</td>\n",
       "      <td>9</td>\n",
       "      <td>13</td>\n",
       "      <td>1271</td>\n",
       "      <td>0.006291</td>\n",
       "      <td>75.564736</td>\n",
       "      <td>15</td>\n",
       "      <td>20</td>\n",
       "      <td>...</td>\n",
       "      <td>73.450463</td>\n",
       "      <td>73.368768</td>\n",
       "      <td>73.197717</td>\n",
       "      <td>73.163811</td>\n",
       "      <td>72.568864</td>\n",
       "      <td>73.622704</td>\n",
       "      <td>2.597272</td>\n",
       "      <td>73.168233</td>\n",
       "      <td>2.488039</td>\n",
       "      <td>218</td>\n",
       "    </tr>\n",
       "    <tr>\n",
       "      <th>2</th>\n",
       "      <td>73.215392</td>\n",
       "      <td>72</td>\n",
       "      <td>0</td>\n",
       "      <td>9</td>\n",
       "      <td>13</td>\n",
       "      <td>1274</td>\n",
       "      <td>0.002500</td>\n",
       "      <td>75.564736</td>\n",
       "      <td>15</td>\n",
       "      <td>33</td>\n",
       "      <td>...</td>\n",
       "      <td>77.720891</td>\n",
       "      <td>76.404932</td>\n",
       "      <td>74.588344</td>\n",
       "      <td>73.760702</td>\n",
       "      <td>73.600742</td>\n",
       "      <td>76.146210</td>\n",
       "      <td>3.025574</td>\n",
       "      <td>75.680069</td>\n",
       "      <td>2.830100</td>\n",
       "      <td>916</td>\n",
       "    </tr>\n",
       "    <tr>\n",
       "      <th>3</th>\n",
       "      <td>73.215392</td>\n",
       "      <td>72</td>\n",
       "      <td>0</td>\n",
       "      <td>9</td>\n",
       "      <td>13</td>\n",
       "      <td>1277</td>\n",
       "      <td>0.002500</td>\n",
       "      <td>75.564736</td>\n",
       "      <td>15</td>\n",
       "      <td>37</td>\n",
       "      <td>...</td>\n",
       "      <td>72.578621</td>\n",
       "      <td>71.808626</td>\n",
       "      <td>72.544346</td>\n",
       "      <td>72.788287</td>\n",
       "      <td>73.115755</td>\n",
       "      <td>72.417192</td>\n",
       "      <td>3.232824</td>\n",
       "      <td>72.490297</td>\n",
       "      <td>2.847240</td>\n",
       "      <td>300</td>\n",
       "    </tr>\n",
       "    <tr>\n",
       "      <th>4</th>\n",
       "      <td>77.282913</td>\n",
       "      <td>76</td>\n",
       "      <td>0</td>\n",
       "      <td>9</td>\n",
       "      <td>13</td>\n",
       "      <td>1272</td>\n",
       "      <td>0.005840</td>\n",
       "      <td>75.564736</td>\n",
       "      <td>15</td>\n",
       "      <td>5</td>\n",
       "      <td>...</td>\n",
       "      <td>71.010219</td>\n",
       "      <td>71.964305</td>\n",
       "      <td>71.290888</td>\n",
       "      <td>71.598695</td>\n",
       "      <td>71.919158</td>\n",
       "      <td>71.438964</td>\n",
       "      <td>3.221136</td>\n",
       "      <td>71.311574</td>\n",
       "      <td>3.040735</td>\n",
       "      <td>175</td>\n",
       "    </tr>\n",
       "  </tbody>\n",
       "</table>\n",
       "<p>5 rows × 26 columns</p>\n",
       "</div>"
      ],
      "text/plain": [
       "   adj_score  rd_score  season_phase  tournament_tier_field_strength  \\\n",
       "0  73.215392        72             0                               9   \n",
       "1  73.215392        72             0                               9   \n",
       "2  73.215392        72             0                               9   \n",
       "3  73.215392        72             0                               9   \n",
       "4  77.282913        76             0                               9   \n",
       "\n",
       "   tournament_tier_top50_av  elo_rating_pre_rd  wd_percentage_adj  \\\n",
       "0                        13               1274           0.013216   \n",
       "1                        13               1271           0.006291   \n",
       "2                        13               1274           0.002500   \n",
       "3                        13               1277           0.002500   \n",
       "4                        13               1272           0.005840   \n",
       "\n",
       "   field_strength  tour_tier  tour_0_to_1_year_count  ...  5_to_12_rd_mean  \\\n",
       "0       75.564736         15                      26  ...        73.390203   \n",
       "1       75.564736         15                      20  ...        73.450463   \n",
       "2       75.564736         15                      33  ...        77.720891   \n",
       "3       75.564736         15                      37  ...        72.578621   \n",
       "4       75.564736         15                       5  ...        71.010219   \n",
       "\n",
       "   13_to_28_rd_mean  29_to_60_rd_mean  61_to_120_rd_mean  121_to_240_rd_mean  \\\n",
       "0         75.374435         73.827308          74.051595           74.017941   \n",
       "1         73.368768         73.197717          73.163811           72.568864   \n",
       "2         76.404932         74.588344          73.760702           73.600742   \n",
       "3         71.808626         72.544346          72.788287           73.115755   \n",
       "4         71.964305         71.290888          71.598695           71.919158   \n",
       "\n",
       "   1_to_20_rd_mean  0_to_20_rd_sd  1_to_50_rd_mean  1_to_50_rd_sd  \\\n",
       "0        73.977743       2.550379        74.228831       2.430071   \n",
       "1        73.622704       2.597272        73.168233       2.488039   \n",
       "2        76.146210       3.025574        75.680069       2.830100   \n",
       "3        72.417192       3.232824        72.490297       2.847240   \n",
       "4        71.438964       3.221136        71.311574       3.040735   \n",
       "\n",
       "   days_since_50_rd  \n",
       "0               231  \n",
       "1               218  \n",
       "2               916  \n",
       "3               300  \n",
       "4               175  \n",
       "\n",
       "[5 rows x 26 columns]"
      ]
     },
     "execution_count": 54,
     "metadata": {},
     "output_type": "execute_result"
    }
   ],
   "source": [
    "df1.head()"
   ]
  },
  {
   "cell_type": "code",
   "execution_count": 55,
   "id": "2fa767b3",
   "metadata": {},
   "outputs": [
    {
     "name": "stdout",
     "output_type": "stream",
     "text": [
      "adj_score                         0\n",
      "rd_score                          0\n",
      "season_phase                      0\n",
      "tournament_tier_field_strength    0\n",
      "tournament_tier_top50_av          0\n",
      "elo_rating_pre_rd                 0\n",
      "wd_percentage_adj                 0\n",
      "field_strength                    0\n",
      "tour_tier                         0\n",
      "tour_0_to_1_year_count            0\n",
      "tour_0_to_10_year_count           0\n",
      "1_tournament_mean                 0\n",
      "1_tournament_count                0\n",
      "1_rd_mean                         0\n",
      "days_since_1_rd                   0\n",
      "2_to_4_rd_mean                    0\n",
      "5_to_12_rd_mean                   0\n",
      "13_to_28_rd_mean                  0\n",
      "29_to_60_rd_mean                  0\n",
      "61_to_120_rd_mean                 0\n",
      "121_to_240_rd_mean                0\n",
      "1_to_20_rd_mean                   0\n",
      "0_to_20_rd_sd                     0\n",
      "1_to_50_rd_mean                   0\n",
      "1_to_50_rd_sd                     0\n",
      "days_since_50_rd                  0\n",
      "dtype: int64\n"
     ]
    }
   ],
   "source": [
    "print(df1.isnull().sum())"
   ]
  },
  {
   "cell_type": "code",
   "execution_count": 56,
   "id": "bf208ee6",
   "metadata": {},
   "outputs": [],
   "source": [
    "df2 = pd.read_csv('data/columns_part_2.csv')"
   ]
  },
  {
   "cell_type": "code",
   "execution_count": 57,
   "id": "67cf8962",
   "metadata": {},
   "outputs": [
    {
     "data": {
      "application/vnd.microsoft.datawrangler.viewer.v0+json": {
       "columns": [
        {
         "name": "index",
         "rawType": "int64",
         "type": "integer"
        },
        {
         "name": "1_to_50_rd_mean_days_penalty_5x",
         "rawType": "float64",
         "type": "float"
        },
        {
         "name": "1_to_50_rd_mean_days_penalty_10x",
         "rawType": "float64",
         "type": "float"
        },
        {
         "name": "1_to_50_rd_mean_days_penalty_15x",
         "rawType": "float64",
         "type": "float"
        },
        {
         "name": "1_to_50_rd_mean_days_penalty_20x",
         "rawType": "float64",
         "type": "float"
        },
        {
         "name": "1_to_50_rd_mean_days_penalty_30x",
         "rawType": "float64",
         "type": "float"
        },
        {
         "name": "1_to_100_rd_mean",
         "rawType": "float64",
         "type": "float"
        },
        {
         "name": "1_to_100_rd_median",
         "rawType": "float64",
         "type": "float"
        },
        {
         "name": "1_to_100_rd_sd",
         "rawType": "float64",
         "type": "float"
        },
        {
         "name": "days_since_100_rd",
         "rawType": "int64",
         "type": "integer"
        },
        {
         "name": "1_to_100_rd_mean_days_penalty_15x",
         "rawType": "float64",
         "type": "float"
        },
        {
         "name": "1_to_200_rd_mean",
         "rawType": "float64",
         "type": "float"
        },
        {
         "name": "1_to_200_rd_median",
         "rawType": "float64",
         "type": "float"
        },
        {
         "name": "1_to_200_rd_sd",
         "rawType": "float64",
         "type": "float"
        },
        {
         "name": "days_since_200_rd",
         "rawType": "float64",
         "type": "float"
        },
        {
         "name": "1_to_200_rd_mean_days_penalty_15x",
         "rawType": "float64",
         "type": "float"
        },
        {
         "name": "1_to_500_rd_mean",
         "rawType": "float64",
         "type": "float"
        },
        {
         "name": "1_to_500_rd_median",
         "rawType": "float64",
         "type": "float"
        },
        {
         "name": "1_to_500_rd_sd",
         "rawType": "float64",
         "type": "float"
        },
        {
         "name": "days_since_500_rd",
         "rawType": "float64",
         "type": "float"
        },
        {
         "name": "1_to_500_rd_mean_days_penalty_15x",
         "rawType": "float64",
         "type": "float"
        },
        {
         "name": "0_to_4Week_mean",
         "rawType": "float64",
         "type": "float"
        },
        {
         "name": "0_to_4_week_rat_diff_av",
         "rawType": "float64",
         "type": "float"
        },
        {
         "name": "0_to_4_week_sd",
         "rawType": "float64",
         "type": "float"
        },
        {
         "name": "0_to_4Week_count",
         "rawType": "int64",
         "type": "integer"
        },
        {
         "name": "0_to_3_month_mean",
         "rawType": "float64",
         "type": "float"
        },
        {
         "name": "0_to_3_month_median",
         "rawType": "float64",
         "type": "float"
        },
        {
         "name": "0_to_3_month_weighted",
         "rawType": "float64",
         "type": "float"
        },
        {
         "name": "0_to_3_month_rat_diff_av",
         "rawType": "float64",
         "type": "float"
        },
        {
         "name": "0_to_3_month_sd",
         "rawType": "float64",
         "type": "float"
        },
        {
         "name": "0_to_3_month_count",
         "rawType": "int64",
         "type": "integer"
        },
        {
         "name": "0_to_3_month_wd_percent",
         "rawType": "float64",
         "type": "float"
        },
        {
         "name": "0_to_3_month_mean_count_penalised_1x",
         "rawType": "float64",
         "type": "float"
        },
        {
         "name": "0_to_3_month_mean_count_penalised_1.5x",
         "rawType": "float64",
         "type": "float"
        },
        {
         "name": "0_to_3_month_mean_count_penalised_2x",
         "rawType": "float64",
         "type": "float"
        },
        {
         "name": "0_to_3_month_mean_count_penalised_3x",
         "rawType": "float64",
         "type": "float"
        },
        {
         "name": "0_to_3_month_mean_count_penalised_5x",
         "rawType": "float64",
         "type": "float"
        },
        {
         "name": "0_to_3_month_mean_count_penalised_10x",
         "rawType": "float64",
         "type": "float"
        },
        {
         "name": "0_to_6_month_mean",
         "rawType": "float64",
         "type": "float"
        },
        {
         "name": "0_to_6_month_median",
         "rawType": "float64",
         "type": "float"
        },
        {
         "name": "0_to_6_month_weighted",
         "rawType": "float64",
         "type": "float"
        },
        {
         "name": "0_to_6_month_rat_diff_av",
         "rawType": "float64",
         "type": "float"
        },
        {
         "name": "0_to_6_month_sd",
         "rawType": "float64",
         "type": "float"
        },
        {
         "name": "0_to_6_month_count",
         "rawType": "int64",
         "type": "integer"
        },
        {
         "name": "0_to_6_month_wd_percent",
         "rawType": "float64",
         "type": "float"
        },
        {
         "name": "0_to_6_month_mean_count_penalised_1x",
         "rawType": "float64",
         "type": "float"
        }
       ],
       "ref": "10f6c3a9-fbd0-4993-ac52-0173619aab72",
       "rows": [
        [
         "0",
         "73.89985552",
         "73.57087967",
         "73.24190382",
         "72.91292798",
         "72.25497628",
         "74.18607659",
         "74.52158834",
         "2.683092848",
         "546",
         "73.54413585",
         "73.97156196",
         "74.257634",
         "2.721837214",
         "1154.0",
         "73.53000335",
         "74.57428457",
         "74.54266823",
         "4.582610847",
         null,
         null,
         "73.55421521",
         "-0.532311683",
         "1.663656564",
         "5",
         "73.81138067",
         "73.57298412",
         "73.59817628",
         "-0.124091726",
         "2.600079491",
         "21",
         "0.0",
         "74.02959856",
         "74.13870751",
         "74.24781645",
         "74.46603434",
         "74.90247012",
         "75.99355958",
         "74.47186102",
         "74.6419935",
         "74.20519865",
         "0.393106359",
         "2.45113486",
         "38",
         "0.026315789",
         "74.63408245"
        ],
        [
         "1",
         "72.82959055",
         "72.49094782",
         "72.15230509",
         "71.81366236",
         "71.13637689",
         "73.35923866",
         "73.62792151",
         "2.829707526",
         "511",
         "72.69567772",
         "72.97731266",
         "73.05651958",
         "2.693750668",
         "1001.0",
         "72.503208",
         "73.06620544",
         "73.07838888",
         "2.711705421",
         "2758.0",
         "72.78058181",
         "73.34620696",
         "0.087906665",
         "3.111949303",
         "5",
         "73.48527094",
         "73.62126149",
         "73.70850288",
         "0.366571003",
         "2.675944136",
         "22",
         "0.0",
         "73.69847166",
         "73.80507202",
         "73.91167237",
         "74.12487309",
         "74.55127452",
         "75.61727811",
         "73.09722796",
         "73.58590202",
         "73.38145767",
         "-0.207334295",
         "2.608283745",
         "43",
         "0.0",
         "73.24972653"
        ],
        [
         "2",
         "75.51486453",
         "75.34965988",
         "75.18445523",
         "75.01925058",
         "74.68884128",
         "75.05081548",
         "74.66638186",
         "2.653990415",
         "1491",
         "74.66234999",
         "74.25983414",
         "74.19029068",
         "2.85501766",
         "2701.0",
         "73.97121245",
         "74.14012574",
         "74.10655759",
         "5.653376916",
         null,
         null,
         "74.57666489",
         "-1.703487385",
         "1.746727147",
         "5",
         "76.2848369",
         "76.08954668",
         "75.93563",
         "0.213369001",
         "3.403199159",
         "15",
         "0.0",
         "76.54303579",
         "76.67213523",
         "76.80123468",
         "77.05943357",
         "77.57583135",
         "78.8668258",
         "76.36217935",
         "76.11950447",
         "76.1962173",
         "0.364205084",
         "3.110609014",
         "21",
         "0.0",
         "76.58039724"
        ],
        [
         "3",
         "72.201622",
         "71.91294687",
         "71.62427173",
         "71.3355966",
         "70.75824633",
         "72.56957842",
         "72.8584741",
         "2.719301388",
         "581",
         "71.94727356",
         "72.84850191",
         "72.97569256",
         "2.687002691",
         "1612.0",
         "72.4749003",
         "73.01911174",
         "73.00967771",
         "2.857534602",
         "3752.0",
         "72.77422806",
         "75.39817236",
         "3.184064153",
         "1.962418253",
         "5",
         "72.39036307",
         "72.79783781",
         "73.52347288",
         "0.071904593",
         "3.082353769",
         "22",
         "0.0",
         "72.60356379",
         "72.71016415",
         "72.81676451",
         "73.02996522",
         "73.45636666",
         "74.52237024",
         "72.67983142",
         "72.8456015",
         "72.83356849",
         "0.338058157",
         "3.059687134",
         "29",
         "0.0",
         "72.86552676"
        ],
        [
         "4",
         "70.93360903",
         "70.55564456",
         "70.17768009",
         "69.79971561",
         "69.04378667",
         "71.49049192",
         "71.69855451",
         "2.895529614",
         "308",
         "70.6357876",
         "71.76950893",
         "71.91573296",
         "2.878330544",
         "825.0",
         "71.24727597",
         "72.16863542",
         "72.17722162",
         "2.773217163",
         "2353.0",
         "71.85940636",
         "71.56060036",
         "0.066699978",
         "1.044379459",
         "2",
         "71.5358821",
         "71.97269411",
         "71.53820551",
         "0.014403275",
         "3.215757944",
         "23",
         "0.0",
         "71.74439652",
         "71.84865372",
         "71.95291093",
         "72.16142535",
         "72.57845417",
         "73.62102624",
         "71.27531621",
         "71.47105672",
         "71.45570124",
         "-0.303218738",
         "2.946494353",
         "55",
         "0.0",
         "71.41015618"
        ]
       ],
       "shape": {
        "columns": 45,
        "rows": 5
       }
      },
      "text/html": [
       "<div>\n",
       "<style scoped>\n",
       "    .dataframe tbody tr th:only-of-type {\n",
       "        vertical-align: middle;\n",
       "    }\n",
       "\n",
       "    .dataframe tbody tr th {\n",
       "        vertical-align: top;\n",
       "    }\n",
       "\n",
       "    .dataframe thead th {\n",
       "        text-align: right;\n",
       "    }\n",
       "</style>\n",
       "<table border=\"1\" class=\"dataframe\">\n",
       "  <thead>\n",
       "    <tr style=\"text-align: right;\">\n",
       "      <th></th>\n",
       "      <th>1_to_50_rd_mean_days_penalty_5x</th>\n",
       "      <th>1_to_50_rd_mean_days_penalty_10x</th>\n",
       "      <th>1_to_50_rd_mean_days_penalty_15x</th>\n",
       "      <th>1_to_50_rd_mean_days_penalty_20x</th>\n",
       "      <th>1_to_50_rd_mean_days_penalty_30x</th>\n",
       "      <th>1_to_100_rd_mean</th>\n",
       "      <th>1_to_100_rd_median</th>\n",
       "      <th>1_to_100_rd_sd</th>\n",
       "      <th>days_since_100_rd</th>\n",
       "      <th>1_to_100_rd_mean_days_penalty_15x</th>\n",
       "      <th>...</th>\n",
       "      <th>0_to_3_month_mean_count_penalised_5x</th>\n",
       "      <th>0_to_3_month_mean_count_penalised_10x</th>\n",
       "      <th>0_to_6_month_mean</th>\n",
       "      <th>0_to_6_month_median</th>\n",
       "      <th>0_to_6_month_weighted</th>\n",
       "      <th>0_to_6_month_rat_diff_av</th>\n",
       "      <th>0_to_6_month_sd</th>\n",
       "      <th>0_to_6_month_count</th>\n",
       "      <th>0_to_6_month_wd_percent</th>\n",
       "      <th>0_to_6_month_mean_count_penalised_1x</th>\n",
       "    </tr>\n",
       "  </thead>\n",
       "  <tbody>\n",
       "    <tr>\n",
       "      <th>0</th>\n",
       "      <td>73.899856</td>\n",
       "      <td>73.570880</td>\n",
       "      <td>73.241904</td>\n",
       "      <td>72.912928</td>\n",
       "      <td>72.254976</td>\n",
       "      <td>74.186077</td>\n",
       "      <td>74.521588</td>\n",
       "      <td>2.683093</td>\n",
       "      <td>546</td>\n",
       "      <td>73.544136</td>\n",
       "      <td>...</td>\n",
       "      <td>74.902470</td>\n",
       "      <td>75.993560</td>\n",
       "      <td>74.471861</td>\n",
       "      <td>74.641993</td>\n",
       "      <td>74.205199</td>\n",
       "      <td>0.393106</td>\n",
       "      <td>2.451135</td>\n",
       "      <td>38</td>\n",
       "      <td>0.026316</td>\n",
       "      <td>74.634082</td>\n",
       "    </tr>\n",
       "    <tr>\n",
       "      <th>1</th>\n",
       "      <td>72.829591</td>\n",
       "      <td>72.490948</td>\n",
       "      <td>72.152305</td>\n",
       "      <td>71.813662</td>\n",
       "      <td>71.136377</td>\n",
       "      <td>73.359239</td>\n",
       "      <td>73.627922</td>\n",
       "      <td>2.829708</td>\n",
       "      <td>511</td>\n",
       "      <td>72.695678</td>\n",
       "      <td>...</td>\n",
       "      <td>74.551275</td>\n",
       "      <td>75.617278</td>\n",
       "      <td>73.097228</td>\n",
       "      <td>73.585902</td>\n",
       "      <td>73.381458</td>\n",
       "      <td>-0.207334</td>\n",
       "      <td>2.608284</td>\n",
       "      <td>43</td>\n",
       "      <td>0.000000</td>\n",
       "      <td>73.249727</td>\n",
       "    </tr>\n",
       "    <tr>\n",
       "      <th>2</th>\n",
       "      <td>75.514865</td>\n",
       "      <td>75.349660</td>\n",
       "      <td>75.184455</td>\n",
       "      <td>75.019251</td>\n",
       "      <td>74.688841</td>\n",
       "      <td>75.050815</td>\n",
       "      <td>74.666382</td>\n",
       "      <td>2.653990</td>\n",
       "      <td>1491</td>\n",
       "      <td>74.662350</td>\n",
       "      <td>...</td>\n",
       "      <td>77.575831</td>\n",
       "      <td>78.866826</td>\n",
       "      <td>76.362179</td>\n",
       "      <td>76.119504</td>\n",
       "      <td>76.196217</td>\n",
       "      <td>0.364205</td>\n",
       "      <td>3.110609</td>\n",
       "      <td>21</td>\n",
       "      <td>0.000000</td>\n",
       "      <td>76.580397</td>\n",
       "    </tr>\n",
       "    <tr>\n",
       "      <th>3</th>\n",
       "      <td>72.201622</td>\n",
       "      <td>71.912947</td>\n",
       "      <td>71.624272</td>\n",
       "      <td>71.335597</td>\n",
       "      <td>70.758246</td>\n",
       "      <td>72.569578</td>\n",
       "      <td>72.858474</td>\n",
       "      <td>2.719301</td>\n",
       "      <td>581</td>\n",
       "      <td>71.947274</td>\n",
       "      <td>...</td>\n",
       "      <td>73.456367</td>\n",
       "      <td>74.522370</td>\n",
       "      <td>72.679831</td>\n",
       "      <td>72.845602</td>\n",
       "      <td>72.833568</td>\n",
       "      <td>0.338058</td>\n",
       "      <td>3.059687</td>\n",
       "      <td>29</td>\n",
       "      <td>0.000000</td>\n",
       "      <td>72.865527</td>\n",
       "    </tr>\n",
       "    <tr>\n",
       "      <th>4</th>\n",
       "      <td>70.933609</td>\n",
       "      <td>70.555645</td>\n",
       "      <td>70.177680</td>\n",
       "      <td>69.799716</td>\n",
       "      <td>69.043787</td>\n",
       "      <td>71.490492</td>\n",
       "      <td>71.698555</td>\n",
       "      <td>2.895530</td>\n",
       "      <td>308</td>\n",
       "      <td>70.635788</td>\n",
       "      <td>...</td>\n",
       "      <td>72.578454</td>\n",
       "      <td>73.621026</td>\n",
       "      <td>71.275316</td>\n",
       "      <td>71.471057</td>\n",
       "      <td>71.455701</td>\n",
       "      <td>-0.303219</td>\n",
       "      <td>2.946494</td>\n",
       "      <td>55</td>\n",
       "      <td>0.000000</td>\n",
       "      <td>71.410156</td>\n",
       "    </tr>\n",
       "  </tbody>\n",
       "</table>\n",
       "<p>5 rows × 45 columns</p>\n",
       "</div>"
      ],
      "text/plain": [
       "   1_to_50_rd_mean_days_penalty_5x  1_to_50_rd_mean_days_penalty_10x  \\\n",
       "0                        73.899856                         73.570880   \n",
       "1                        72.829591                         72.490948   \n",
       "2                        75.514865                         75.349660   \n",
       "3                        72.201622                         71.912947   \n",
       "4                        70.933609                         70.555645   \n",
       "\n",
       "   1_to_50_rd_mean_days_penalty_15x  1_to_50_rd_mean_days_penalty_20x  \\\n",
       "0                         73.241904                         72.912928   \n",
       "1                         72.152305                         71.813662   \n",
       "2                         75.184455                         75.019251   \n",
       "3                         71.624272                         71.335597   \n",
       "4                         70.177680                         69.799716   \n",
       "\n",
       "   1_to_50_rd_mean_days_penalty_30x  1_to_100_rd_mean  1_to_100_rd_median  \\\n",
       "0                         72.254976         74.186077           74.521588   \n",
       "1                         71.136377         73.359239           73.627922   \n",
       "2                         74.688841         75.050815           74.666382   \n",
       "3                         70.758246         72.569578           72.858474   \n",
       "4                         69.043787         71.490492           71.698555   \n",
       "\n",
       "   1_to_100_rd_sd  days_since_100_rd  1_to_100_rd_mean_days_penalty_15x  ...  \\\n",
       "0        2.683093                546                          73.544136  ...   \n",
       "1        2.829708                511                          72.695678  ...   \n",
       "2        2.653990               1491                          74.662350  ...   \n",
       "3        2.719301                581                          71.947274  ...   \n",
       "4        2.895530                308                          70.635788  ...   \n",
       "\n",
       "   0_to_3_month_mean_count_penalised_5x  \\\n",
       "0                             74.902470   \n",
       "1                             74.551275   \n",
       "2                             77.575831   \n",
       "3                             73.456367   \n",
       "4                             72.578454   \n",
       "\n",
       "   0_to_3_month_mean_count_penalised_10x  0_to_6_month_mean  \\\n",
       "0                              75.993560          74.471861   \n",
       "1                              75.617278          73.097228   \n",
       "2                              78.866826          76.362179   \n",
       "3                              74.522370          72.679831   \n",
       "4                              73.621026          71.275316   \n",
       "\n",
       "   0_to_6_month_median  0_to_6_month_weighted  0_to_6_month_rat_diff_av  \\\n",
       "0            74.641993              74.205199                  0.393106   \n",
       "1            73.585902              73.381458                 -0.207334   \n",
       "2            76.119504              76.196217                  0.364205   \n",
       "3            72.845602              72.833568                  0.338058   \n",
       "4            71.471057              71.455701                 -0.303219   \n",
       "\n",
       "   0_to_6_month_sd  0_to_6_month_count  0_to_6_month_wd_percent  \\\n",
       "0         2.451135                  38                 0.026316   \n",
       "1         2.608284                  43                 0.000000   \n",
       "2         3.110609                  21                 0.000000   \n",
       "3         3.059687                  29                 0.000000   \n",
       "4         2.946494                  55                 0.000000   \n",
       "\n",
       "   0_to_6_month_mean_count_penalised_1x  \n",
       "0                             74.634082  \n",
       "1                             73.249727  \n",
       "2                             76.580397  \n",
       "3                             72.865527  \n",
       "4                             71.410156  \n",
       "\n",
       "[5 rows x 45 columns]"
      ]
     },
     "execution_count": 57,
     "metadata": {},
     "output_type": "execute_result"
    }
   ],
   "source": [
    "df2.head()"
   ]
  },
  {
   "cell_type": "code",
   "execution_count": 58,
   "id": "00fba633",
   "metadata": {},
   "outputs": [
    {
     "data": {
      "application/vnd.microsoft.datawrangler.viewer.v0+json": {
       "columns": [
        {
         "name": "index",
         "rawType": "object",
         "type": "string"
        },
        {
         "name": "0",
         "rawType": "int64",
         "type": "integer"
        }
       ],
       "ref": "d6b143fe-ef61-41ca-ae14-bc56e9c9bea0",
       "rows": [
        [
         "1_to_50_rd_mean_days_penalty_5x",
         "0"
        ],
        [
         "1_to_50_rd_mean_days_penalty_10x",
         "0"
        ],
        [
         "1_to_50_rd_mean_days_penalty_15x",
         "0"
        ],
        [
         "1_to_50_rd_mean_days_penalty_20x",
         "0"
        ],
        [
         "1_to_50_rd_mean_days_penalty_30x",
         "0"
        ],
        [
         "1_to_100_rd_mean",
         "0"
        ],
        [
         "1_to_100_rd_median",
         "0"
        ],
        [
         "1_to_100_rd_sd",
         "0"
        ],
        [
         "days_since_100_rd",
         "0"
        ],
        [
         "1_to_100_rd_mean_days_penalty_15x",
         "0"
        ],
        [
         "1_to_200_rd_mean",
         "0"
        ],
        [
         "1_to_200_rd_median",
         "0"
        ],
        [
         "1_to_200_rd_sd",
         "0"
        ],
        [
         "days_since_200_rd",
         "13"
        ],
        [
         "1_to_200_rd_mean_days_penalty_15x",
         "13"
        ],
        [
         "1_to_500_rd_mean",
         "0"
        ],
        [
         "1_to_500_rd_median",
         "0"
        ],
        [
         "1_to_500_rd_sd",
         "0"
        ],
        [
         "days_since_500_rd",
         "1157"
        ],
        [
         "1_to_500_rd_mean_days_penalty_15x",
         "1157"
        ],
        [
         "0_to_4Week_mean",
         "66"
        ],
        [
         "0_to_4_week_rat_diff_av",
         "67"
        ],
        [
         "0_to_4_week_sd",
         "135"
        ],
        [
         "0_to_4Week_count",
         "0"
        ],
        [
         "0_to_3_month_mean",
         "2"
        ],
        [
         "0_to_3_month_median",
         "2"
        ],
        [
         "0_to_3_month_weighted",
         "2"
        ],
        [
         "0_to_3_month_rat_diff_av",
         "2"
        ],
        [
         "0_to_3_month_sd",
         "4"
        ],
        [
         "0_to_3_month_count",
         "0"
        ],
        [
         "0_to_3_month_wd_percent",
         "2"
        ],
        [
         "0_to_3_month_mean_count_penalised_1x",
         "2"
        ],
        [
         "0_to_3_month_mean_count_penalised_1.5x",
         "2"
        ],
        [
         "0_to_3_month_mean_count_penalised_2x",
         "2"
        ],
        [
         "0_to_3_month_mean_count_penalised_3x",
         "2"
        ],
        [
         "0_to_3_month_mean_count_penalised_5x",
         "2"
        ],
        [
         "0_to_3_month_mean_count_penalised_10x",
         "2"
        ],
        [
         "0_to_6_month_mean",
         "0"
        ],
        [
         "0_to_6_month_median",
         "0"
        ],
        [
         "0_to_6_month_weighted",
         "0"
        ],
        [
         "0_to_6_month_rat_diff_av",
         "0"
        ],
        [
         "0_to_6_month_sd",
         "0"
        ],
        [
         "0_to_6_month_count",
         "0"
        ],
        [
         "0_to_6_month_wd_percent",
         "0"
        ],
        [
         "0_to_6_month_mean_count_penalised_1x",
         "0"
        ]
       ],
       "shape": {
        "columns": 1,
        "rows": 45
       }
      },
      "text/plain": [
       "1_to_50_rd_mean_days_penalty_5x              0\n",
       "1_to_50_rd_mean_days_penalty_10x             0\n",
       "1_to_50_rd_mean_days_penalty_15x             0\n",
       "1_to_50_rd_mean_days_penalty_20x             0\n",
       "1_to_50_rd_mean_days_penalty_30x             0\n",
       "1_to_100_rd_mean                             0\n",
       "1_to_100_rd_median                           0\n",
       "1_to_100_rd_sd                               0\n",
       "days_since_100_rd                            0\n",
       "1_to_100_rd_mean_days_penalty_15x            0\n",
       "1_to_200_rd_mean                             0\n",
       "1_to_200_rd_median                           0\n",
       "1_to_200_rd_sd                               0\n",
       "days_since_200_rd                           13\n",
       "1_to_200_rd_mean_days_penalty_15x           13\n",
       "1_to_500_rd_mean                             0\n",
       "1_to_500_rd_median                           0\n",
       "1_to_500_rd_sd                               0\n",
       "days_since_500_rd                         1157\n",
       "1_to_500_rd_mean_days_penalty_15x         1157\n",
       "0_to_4Week_mean                             66\n",
       "0_to_4_week_rat_diff_av                     67\n",
       "0_to_4_week_sd                             135\n",
       "0_to_4Week_count                             0\n",
       "0_to_3_month_mean                            2\n",
       "0_to_3_month_median                          2\n",
       "0_to_3_month_weighted                        2\n",
       "0_to_3_month_rat_diff_av                     2\n",
       "0_to_3_month_sd                              4\n",
       "0_to_3_month_count                           0\n",
       "0_to_3_month_wd_percent                      2\n",
       "0_to_3_month_mean_count_penalised_1x         2\n",
       "0_to_3_month_mean_count_penalised_1.5x       2\n",
       "0_to_3_month_mean_count_penalised_2x         2\n",
       "0_to_3_month_mean_count_penalised_3x         2\n",
       "0_to_3_month_mean_count_penalised_5x         2\n",
       "0_to_3_month_mean_count_penalised_10x        2\n",
       "0_to_6_month_mean                            0\n",
       "0_to_6_month_median                          0\n",
       "0_to_6_month_weighted                        0\n",
       "0_to_6_month_rat_diff_av                     0\n",
       "0_to_6_month_sd                              0\n",
       "0_to_6_month_count                           0\n",
       "0_to_6_month_wd_percent                      0\n",
       "0_to_6_month_mean_count_penalised_1x         0\n",
       "dtype: int64"
      ]
     },
     "execution_count": 58,
     "metadata": {},
     "output_type": "execute_result"
    }
   ],
   "source": [
    "df2.isnull().sum()"
   ]
  },
  {
   "cell_type": "code",
   "execution_count": 59,
   "id": "895a882f",
   "metadata": {},
   "outputs": [],
   "source": [
    "cols_to_drop =[\n",
    "\t'1_to_50_rd_mean_days_penalty_15x','1_to_50_rd_mean_days_penalty_10x',\n",
    "    '1_to_50_rd_mean_days_penalty_15x','1_to_50_rd_mean_days_penalty_20x',\n",
    "    '1_to_50_rd_mean_days_penalty_30x','1_to_100_rd_median','1_to_200_rd_median',\n",
    "    '1_to_200_rd_mean_days_penalty_15x','1_to_500_rd_median','1_to_500_rd_mean_days_penalty_15x',\n",
    "    '0_to_3_month_median','0_to_3_month_weighted','0_to_3_month_rat_diff_av','0_to_3_month_mean_count_penalised_1x',\n",
    "    '0_to_3_month_mean_count_penalised_1.5x','0_to_3_month_mean_count_penalised_2x','0_to_3_month_mean_count_penalised_3x',\n",
    "    '0_to_3_month_mean_count_penalised_5x','0_to_3_month_mean_count_penalised_10x','0_to_6_month_median','0_to_6_month_mean_count_penalised_1x',\n",
    "    '0_to_6_month_wd_percent','days_since_500_rd','days_since_200_rd','0_to_3_month_wd_percent'\n",
    "\n",
    "\n",
    "\n",
    "\n",
    "\n",
    "    \n",
    "    \n",
    "]\n",
    "existing_cols_to_drop = [col for col in cols_to_drop if col in df2.columns]\n",
    "df2 = df2.drop(columns=existing_cols_to_drop, axis=1)"
   ]
  },
  {
   "cell_type": "code",
   "execution_count": 60,
   "id": "90f0db51",
   "metadata": {},
   "outputs": [
    {
     "data": {
      "application/vnd.microsoft.datawrangler.viewer.v0+json": {
       "columns": [
        {
         "name": "index",
         "rawType": "object",
         "type": "string"
        },
        {
         "name": "0",
         "rawType": "int64",
         "type": "integer"
        }
       ],
       "ref": "bd28e812-bff0-4806-a6b2-17dd75d7ccca",
       "rows": [
        [
         "1_to_50_rd_mean_days_penalty_5x",
         "0"
        ],
        [
         "1_to_100_rd_mean",
         "0"
        ],
        [
         "1_to_100_rd_sd",
         "0"
        ],
        [
         "days_since_100_rd",
         "0"
        ],
        [
         "1_to_100_rd_mean_days_penalty_15x",
         "0"
        ],
        [
         "1_to_200_rd_mean",
         "0"
        ],
        [
         "1_to_200_rd_sd",
         "0"
        ],
        [
         "1_to_500_rd_mean",
         "0"
        ],
        [
         "1_to_500_rd_sd",
         "0"
        ],
        [
         "0_to_4Week_mean",
         "0"
        ],
        [
         "0_to_4_week_rat_diff_av",
         "0"
        ],
        [
         "0_to_4_week_sd",
         "0"
        ],
        [
         "0_to_4Week_count",
         "0"
        ],
        [
         "0_to_3_month_mean",
         "0"
        ],
        [
         "0_to_3_month_sd",
         "0"
        ],
        [
         "0_to_3_month_count",
         "0"
        ],
        [
         "0_to_6_month_mean",
         "0"
        ],
        [
         "0_to_6_month_weighted",
         "0"
        ],
        [
         "0_to_6_month_rat_diff_av",
         "0"
        ],
        [
         "0_to_6_month_sd",
         "0"
        ],
        [
         "0_to_6_month_count",
         "0"
        ]
       ],
       "shape": {
        "columns": 1,
        "rows": 21
       }
      },
      "text/plain": [
       "1_to_50_rd_mean_days_penalty_5x      0\n",
       "1_to_100_rd_mean                     0\n",
       "1_to_100_rd_sd                       0\n",
       "days_since_100_rd                    0\n",
       "1_to_100_rd_mean_days_penalty_15x    0\n",
       "1_to_200_rd_mean                     0\n",
       "1_to_200_rd_sd                       0\n",
       "1_to_500_rd_mean                     0\n",
       "1_to_500_rd_sd                       0\n",
       "0_to_4Week_mean                      0\n",
       "0_to_4_week_rat_diff_av              0\n",
       "0_to_4_week_sd                       0\n",
       "0_to_4Week_count                     0\n",
       "0_to_3_month_mean                    0\n",
       "0_to_3_month_sd                      0\n",
       "0_to_3_month_count                   0\n",
       "0_to_6_month_mean                    0\n",
       "0_to_6_month_weighted                0\n",
       "0_to_6_month_rat_diff_av             0\n",
       "0_to_6_month_sd                      0\n",
       "0_to_6_month_count                   0\n",
       "dtype: int64"
      ]
     },
     "execution_count": 60,
     "metadata": {},
     "output_type": "execute_result"
    }
   ],
   "source": [
    "df2=df2.fillna(0)\n",
    "df2.isnull().sum()"
   ]
  },
  {
   "cell_type": "code",
   "execution_count": 61,
   "id": "ecd20cec",
   "metadata": {},
   "outputs": [
    {
     "data": {
      "application/vnd.microsoft.datawrangler.viewer.v0+json": {
       "columns": [
        {
         "name": "index",
         "rawType": "int64",
         "type": "integer"
        },
        {
         "name": "1_to_50_rd_mean_days_penalty_5x",
         "rawType": "float64",
         "type": "float"
        },
        {
         "name": "1_to_100_rd_mean",
         "rawType": "float64",
         "type": "float"
        },
        {
         "name": "1_to_100_rd_sd",
         "rawType": "float64",
         "type": "float"
        },
        {
         "name": "days_since_100_rd",
         "rawType": "int64",
         "type": "integer"
        },
        {
         "name": "1_to_100_rd_mean_days_penalty_15x",
         "rawType": "float64",
         "type": "float"
        },
        {
         "name": "1_to_200_rd_mean",
         "rawType": "float64",
         "type": "float"
        },
        {
         "name": "1_to_200_rd_sd",
         "rawType": "float64",
         "type": "float"
        },
        {
         "name": "1_to_500_rd_mean",
         "rawType": "float64",
         "type": "float"
        },
        {
         "name": "1_to_500_rd_sd",
         "rawType": "float64",
         "type": "float"
        },
        {
         "name": "0_to_4Week_mean",
         "rawType": "float64",
         "type": "float"
        },
        {
         "name": "0_to_4_week_rat_diff_av",
         "rawType": "float64",
         "type": "float"
        },
        {
         "name": "0_to_4_week_sd",
         "rawType": "float64",
         "type": "float"
        },
        {
         "name": "0_to_4Week_count",
         "rawType": "int64",
         "type": "integer"
        },
        {
         "name": "0_to_3_month_mean",
         "rawType": "float64",
         "type": "float"
        },
        {
         "name": "0_to_3_month_sd",
         "rawType": "float64",
         "type": "float"
        },
        {
         "name": "0_to_3_month_count",
         "rawType": "int64",
         "type": "integer"
        },
        {
         "name": "0_to_6_month_mean",
         "rawType": "float64",
         "type": "float"
        },
        {
         "name": "0_to_6_month_weighted",
         "rawType": "float64",
         "type": "float"
        },
        {
         "name": "0_to_6_month_rat_diff_av",
         "rawType": "float64",
         "type": "float"
        },
        {
         "name": "0_to_6_month_sd",
         "rawType": "float64",
         "type": "float"
        },
        {
         "name": "0_to_6_month_count",
         "rawType": "int64",
         "type": "integer"
        }
       ],
       "ref": "d3eb6a53-bd40-4529-9c5a-96b12c350cf5",
       "rows": [
        [
         "0",
         "73.89985552",
         "74.18607659",
         "2.683092848",
         "546",
         "73.54413585",
         "73.97156196",
         "2.721837214",
         "74.57428457",
         "4.582610847",
         "73.55421521",
         "-0.532311683",
         "1.663656564",
         "5",
         "73.81138067",
         "2.600079491",
         "21",
         "74.47186102",
         "74.20519865",
         "0.393106359",
         "2.45113486",
         "38"
        ],
        [
         "1",
         "72.82959055",
         "73.35923866",
         "2.829707526",
         "511",
         "72.69567772",
         "72.97731266",
         "2.693750668",
         "73.06620544",
         "2.711705421",
         "73.34620696",
         "0.087906665",
         "3.111949303",
         "5",
         "73.48527094",
         "2.675944136",
         "22",
         "73.09722796",
         "73.38145767",
         "-0.207334295",
         "2.608283745",
         "43"
        ],
        [
         "2",
         "75.51486453",
         "75.05081548",
         "2.653990415",
         "1491",
         "74.66234999",
         "74.25983414",
         "2.85501766",
         "74.14012574",
         "5.653376916",
         "74.57666489",
         "-1.703487385",
         "1.746727147",
         "5",
         "76.2848369",
         "3.403199159",
         "15",
         "76.36217935",
         "76.1962173",
         "0.364205084",
         "3.110609014",
         "21"
        ],
        [
         "3",
         "72.201622",
         "72.56957842",
         "2.719301388",
         "581",
         "71.94727356",
         "72.84850191",
         "2.687002691",
         "73.01911174",
         "2.857534602",
         "75.39817236",
         "3.184064153",
         "1.962418253",
         "5",
         "72.39036307",
         "3.082353769",
         "22",
         "72.67983142",
         "72.83356849",
         "0.338058157",
         "3.059687134",
         "29"
        ],
        [
         "4",
         "70.93360903",
         "71.49049192",
         "2.895529614",
         "308",
         "70.6357876",
         "71.76950893",
         "2.878330544",
         "72.16863542",
         "2.773217163",
         "71.56060036",
         "0.066699978",
         "1.044379459",
         "2",
         "71.5358821",
         "3.215757944",
         "23",
         "71.27531621",
         "71.45570124",
         "-0.303218738",
         "2.946494353",
         "55"
        ]
       ],
       "shape": {
        "columns": 21,
        "rows": 5
       }
      },
      "text/html": [
       "<div>\n",
       "<style scoped>\n",
       "    .dataframe tbody tr th:only-of-type {\n",
       "        vertical-align: middle;\n",
       "    }\n",
       "\n",
       "    .dataframe tbody tr th {\n",
       "        vertical-align: top;\n",
       "    }\n",
       "\n",
       "    .dataframe thead th {\n",
       "        text-align: right;\n",
       "    }\n",
       "</style>\n",
       "<table border=\"1\" class=\"dataframe\">\n",
       "  <thead>\n",
       "    <tr style=\"text-align: right;\">\n",
       "      <th></th>\n",
       "      <th>1_to_50_rd_mean_days_penalty_5x</th>\n",
       "      <th>1_to_100_rd_mean</th>\n",
       "      <th>1_to_100_rd_sd</th>\n",
       "      <th>days_since_100_rd</th>\n",
       "      <th>1_to_100_rd_mean_days_penalty_15x</th>\n",
       "      <th>1_to_200_rd_mean</th>\n",
       "      <th>1_to_200_rd_sd</th>\n",
       "      <th>1_to_500_rd_mean</th>\n",
       "      <th>1_to_500_rd_sd</th>\n",
       "      <th>0_to_4Week_mean</th>\n",
       "      <th>...</th>\n",
       "      <th>0_to_4_week_sd</th>\n",
       "      <th>0_to_4Week_count</th>\n",
       "      <th>0_to_3_month_mean</th>\n",
       "      <th>0_to_3_month_sd</th>\n",
       "      <th>0_to_3_month_count</th>\n",
       "      <th>0_to_6_month_mean</th>\n",
       "      <th>0_to_6_month_weighted</th>\n",
       "      <th>0_to_6_month_rat_diff_av</th>\n",
       "      <th>0_to_6_month_sd</th>\n",
       "      <th>0_to_6_month_count</th>\n",
       "    </tr>\n",
       "  </thead>\n",
       "  <tbody>\n",
       "    <tr>\n",
       "      <th>0</th>\n",
       "      <td>73.899856</td>\n",
       "      <td>74.186077</td>\n",
       "      <td>2.683093</td>\n",
       "      <td>546</td>\n",
       "      <td>73.544136</td>\n",
       "      <td>73.971562</td>\n",
       "      <td>2.721837</td>\n",
       "      <td>74.574285</td>\n",
       "      <td>4.582611</td>\n",
       "      <td>73.554215</td>\n",
       "      <td>...</td>\n",
       "      <td>1.663657</td>\n",
       "      <td>5</td>\n",
       "      <td>73.811381</td>\n",
       "      <td>2.600079</td>\n",
       "      <td>21</td>\n",
       "      <td>74.471861</td>\n",
       "      <td>74.205199</td>\n",
       "      <td>0.393106</td>\n",
       "      <td>2.451135</td>\n",
       "      <td>38</td>\n",
       "    </tr>\n",
       "    <tr>\n",
       "      <th>1</th>\n",
       "      <td>72.829591</td>\n",
       "      <td>73.359239</td>\n",
       "      <td>2.829708</td>\n",
       "      <td>511</td>\n",
       "      <td>72.695678</td>\n",
       "      <td>72.977313</td>\n",
       "      <td>2.693751</td>\n",
       "      <td>73.066205</td>\n",
       "      <td>2.711705</td>\n",
       "      <td>73.346207</td>\n",
       "      <td>...</td>\n",
       "      <td>3.111949</td>\n",
       "      <td>5</td>\n",
       "      <td>73.485271</td>\n",
       "      <td>2.675944</td>\n",
       "      <td>22</td>\n",
       "      <td>73.097228</td>\n",
       "      <td>73.381458</td>\n",
       "      <td>-0.207334</td>\n",
       "      <td>2.608284</td>\n",
       "      <td>43</td>\n",
       "    </tr>\n",
       "    <tr>\n",
       "      <th>2</th>\n",
       "      <td>75.514865</td>\n",
       "      <td>75.050815</td>\n",
       "      <td>2.653990</td>\n",
       "      <td>1491</td>\n",
       "      <td>74.662350</td>\n",
       "      <td>74.259834</td>\n",
       "      <td>2.855018</td>\n",
       "      <td>74.140126</td>\n",
       "      <td>5.653377</td>\n",
       "      <td>74.576665</td>\n",
       "      <td>...</td>\n",
       "      <td>1.746727</td>\n",
       "      <td>5</td>\n",
       "      <td>76.284837</td>\n",
       "      <td>3.403199</td>\n",
       "      <td>15</td>\n",
       "      <td>76.362179</td>\n",
       "      <td>76.196217</td>\n",
       "      <td>0.364205</td>\n",
       "      <td>3.110609</td>\n",
       "      <td>21</td>\n",
       "    </tr>\n",
       "    <tr>\n",
       "      <th>3</th>\n",
       "      <td>72.201622</td>\n",
       "      <td>72.569578</td>\n",
       "      <td>2.719301</td>\n",
       "      <td>581</td>\n",
       "      <td>71.947274</td>\n",
       "      <td>72.848502</td>\n",
       "      <td>2.687003</td>\n",
       "      <td>73.019112</td>\n",
       "      <td>2.857535</td>\n",
       "      <td>75.398172</td>\n",
       "      <td>...</td>\n",
       "      <td>1.962418</td>\n",
       "      <td>5</td>\n",
       "      <td>72.390363</td>\n",
       "      <td>3.082354</td>\n",
       "      <td>22</td>\n",
       "      <td>72.679831</td>\n",
       "      <td>72.833568</td>\n",
       "      <td>0.338058</td>\n",
       "      <td>3.059687</td>\n",
       "      <td>29</td>\n",
       "    </tr>\n",
       "    <tr>\n",
       "      <th>4</th>\n",
       "      <td>70.933609</td>\n",
       "      <td>71.490492</td>\n",
       "      <td>2.895530</td>\n",
       "      <td>308</td>\n",
       "      <td>70.635788</td>\n",
       "      <td>71.769509</td>\n",
       "      <td>2.878331</td>\n",
       "      <td>72.168635</td>\n",
       "      <td>2.773217</td>\n",
       "      <td>71.560600</td>\n",
       "      <td>...</td>\n",
       "      <td>1.044379</td>\n",
       "      <td>2</td>\n",
       "      <td>71.535882</td>\n",
       "      <td>3.215758</td>\n",
       "      <td>23</td>\n",
       "      <td>71.275316</td>\n",
       "      <td>71.455701</td>\n",
       "      <td>-0.303219</td>\n",
       "      <td>2.946494</td>\n",
       "      <td>55</td>\n",
       "    </tr>\n",
       "  </tbody>\n",
       "</table>\n",
       "<p>5 rows × 21 columns</p>\n",
       "</div>"
      ],
      "text/plain": [
       "   1_to_50_rd_mean_days_penalty_5x  1_to_100_rd_mean  1_to_100_rd_sd  \\\n",
       "0                        73.899856         74.186077        2.683093   \n",
       "1                        72.829591         73.359239        2.829708   \n",
       "2                        75.514865         75.050815        2.653990   \n",
       "3                        72.201622         72.569578        2.719301   \n",
       "4                        70.933609         71.490492        2.895530   \n",
       "\n",
       "   days_since_100_rd  1_to_100_rd_mean_days_penalty_15x  1_to_200_rd_mean  \\\n",
       "0                546                          73.544136         73.971562   \n",
       "1                511                          72.695678         72.977313   \n",
       "2               1491                          74.662350         74.259834   \n",
       "3                581                          71.947274         72.848502   \n",
       "4                308                          70.635788         71.769509   \n",
       "\n",
       "   1_to_200_rd_sd  1_to_500_rd_mean  1_to_500_rd_sd  0_to_4Week_mean  ...  \\\n",
       "0        2.721837         74.574285        4.582611        73.554215  ...   \n",
       "1        2.693751         73.066205        2.711705        73.346207  ...   \n",
       "2        2.855018         74.140126        5.653377        74.576665  ...   \n",
       "3        2.687003         73.019112        2.857535        75.398172  ...   \n",
       "4        2.878331         72.168635        2.773217        71.560600  ...   \n",
       "\n",
       "   0_to_4_week_sd  0_to_4Week_count  0_to_3_month_mean  0_to_3_month_sd  \\\n",
       "0        1.663657                 5          73.811381         2.600079   \n",
       "1        3.111949                 5          73.485271         2.675944   \n",
       "2        1.746727                 5          76.284837         3.403199   \n",
       "3        1.962418                 5          72.390363         3.082354   \n",
       "4        1.044379                 2          71.535882         3.215758   \n",
       "\n",
       "   0_to_3_month_count  0_to_6_month_mean  0_to_6_month_weighted  \\\n",
       "0                  21          74.471861              74.205199   \n",
       "1                  22          73.097228              73.381458   \n",
       "2                  15          76.362179              76.196217   \n",
       "3                  22          72.679831              72.833568   \n",
       "4                  23          71.275316              71.455701   \n",
       "\n",
       "   0_to_6_month_rat_diff_av  0_to_6_month_sd  0_to_6_month_count  \n",
       "0                  0.393106         2.451135                  38  \n",
       "1                 -0.207334         2.608284                  43  \n",
       "2                  0.364205         3.110609                  21  \n",
       "3                  0.338058         3.059687                  29  \n",
       "4                 -0.303219         2.946494                  55  \n",
       "\n",
       "[5 rows x 21 columns]"
      ]
     },
     "execution_count": 61,
     "metadata": {},
     "output_type": "execute_result"
    }
   ],
   "source": [
    "df2.head()"
   ]
  },
  {
   "cell_type": "code",
   "execution_count": 62,
   "id": "c9c000d3",
   "metadata": {},
   "outputs": [
    {
     "data": {
      "text/plain": [
       "(2483, 21)"
      ]
     },
     "execution_count": 62,
     "metadata": {},
     "output_type": "execute_result"
    }
   ],
   "source": [
    "df2.shape"
   ]
  },
  {
   "cell_type": "code",
   "execution_count": 63,
   "id": "08b446a2",
   "metadata": {},
   "outputs": [
    {
     "data": {
      "application/vnd.microsoft.datawrangler.viewer.v0+json": {
       "columns": [
        {
         "name": "index",
         "rawType": "int64",
         "type": "integer"
        },
        {
         "name": "0_to_6_month_mean_count_penalised_1.5x",
         "rawType": "float64",
         "type": "float"
        },
        {
         "name": "0_to_6_month_mean_count_penalised_2x",
         "rawType": "float64",
         "type": "float"
        },
        {
         "name": "0_to_6_month_mean_count_penalised_3x",
         "rawType": "float64",
         "type": "float"
        },
        {
         "name": "0_to_6_month_mean_count_penalised_5x",
         "rawType": "float64",
         "type": "float"
        },
        {
         "name": "0_to_9_month_mean",
         "rawType": "float64",
         "type": "float"
        },
        {
         "name": "0_to_9_month_median",
         "rawType": "float64",
         "type": "float"
        },
        {
         "name": "0_to_9_month_weighted",
         "rawType": "float64",
         "type": "float"
        },
        {
         "name": "0_to_9_month_rat_diff_av",
         "rawType": "float64",
         "type": "float"
        },
        {
         "name": "0_to_9_month_sd",
         "rawType": "float64",
         "type": "float"
        },
        {
         "name": "0_to_9_month_count",
         "rawType": "int64",
         "type": "integer"
        },
        {
         "name": "0_to_9_month_mean_count_penalised_2x",
         "rawType": "float64",
         "type": "float"
        },
        {
         "name": "0_to_1_year_mean",
         "rawType": "float64",
         "type": "float"
        },
        {
         "name": "0_to_1_year_median",
         "rawType": "float64",
         "type": "float"
        },
        {
         "name": "0_to_1_year_weighted",
         "rawType": "float64",
         "type": "float"
        },
        {
         "name": "0_to_1_year_rat_diff_av",
         "rawType": "float64",
         "type": "float"
        },
        {
         "name": "0_to_1_year_sd_adj",
         "rawType": "float64",
         "type": "float"
        },
        {
         "name": "0_to_1_year_sd_diff",
         "rawType": "float64",
         "type": "float"
        },
        {
         "name": "0_to_1_year_count",
         "rawType": "int64",
         "type": "integer"
        },
        {
         "name": "0_to_1_year_wd_percent",
         "rawType": "float64",
         "type": "float"
        },
        {
         "name": "0_to_1_year_mean_count_penalised_1x",
         "rawType": "float64",
         "type": "float"
        },
        {
         "name": "0_to_1_year_mean_count_penalised_1.5x",
         "rawType": "float64",
         "type": "float"
        },
        {
         "name": "0_to_1_year_mean_count_penalised_2x",
         "rawType": "float64",
         "type": "float"
        },
        {
         "name": "0_to_1_year_mean_count_penalised_3x",
         "rawType": "float64",
         "type": "float"
        },
        {
         "name": "0_to_1_year_mean_count_penalised_5x",
         "rawType": "float64",
         "type": "float"
        },
        {
         "name": "0_to_1_year_mean_count_penalised_10x",
         "rawType": "float64",
         "type": "float"
        },
        {
         "name": "0_to_15_month_mean",
         "rawType": "float64",
         "type": "float"
        },
        {
         "name": "0_to_15_month_median",
         "rawType": "float64",
         "type": "float"
        },
        {
         "name": "0_to_15_month_weighted",
         "rawType": "float64",
         "type": "float"
        },
        {
         "name": "0_to_15_month_rat_diff_av",
         "rawType": "float64",
         "type": "float"
        },
        {
         "name": "0_to_15_month_sd",
         "rawType": "float64",
         "type": "float"
        },
        {
         "name": "0_to_15_month_count",
         "rawType": "int64",
         "type": "integer"
        },
        {
         "name": "0_to_15_month_mean_count_penalised_2x",
         "rawType": "float64",
         "type": "float"
        },
        {
         "name": "0_to_18_month_mean",
         "rawType": "float64",
         "type": "float"
        },
        {
         "name": "0_to_18_month_median",
         "rawType": "float64",
         "type": "float"
        },
        {
         "name": "0_to_18_month_weighted",
         "rawType": "float64",
         "type": "float"
        },
        {
         "name": "0_to_18_month_rat_diff_av",
         "rawType": "float64",
         "type": "float"
        },
        {
         "name": "0_to_18_month_sd",
         "rawType": "float64",
         "type": "float"
        },
        {
         "name": "0_to_18_month_count",
         "rawType": "int64",
         "type": "integer"
        },
        {
         "name": "0_to_18_month_mean_count_penalised_2x",
         "rawType": "float64",
         "type": "float"
        },
        {
         "name": "0_to_21_month_mean",
         "rawType": "float64",
         "type": "float"
        },
        {
         "name": "0_to_21_month_median",
         "rawType": "float64",
         "type": "float"
        },
        {
         "name": "0_to_21_month_weighted",
         "rawType": "float64",
         "type": "float"
        },
        {
         "name": "0_to_21_month_rat_diff_av",
         "rawType": "float64",
         "type": "float"
        },
        {
         "name": "0_to_21_month_sd",
         "rawType": "float64",
         "type": "float"
        }
       ],
       "ref": "872627ec-5b8b-4a76-8f4f-583e7cbf9845",
       "rows": [
        [
         "0",
         "74.71519316",
         "74.79630387",
         "74.95852529",
         "75.28296813",
         "74.30566327",
         "74.49719173",
         "74.25847662",
         "0.259828653",
         "2.43493531",
         "52",
         "74.58301337",
         "74.00379636",
         "74.36314822",
         "74.13708949",
         "-0.041507842",
         "2.696857346",
         "2.703160619",
         "67",
         "0.014925373",
         "74.12596581",
         "74.18705053",
         "74.24813525",
         "74.37030469",
         "74.61464358",
         "75.2254908",
         "74.04667839",
         "74.36314822",
         "74.10765792",
         "0.02271426",
         "2.687327676",
         "81",
         "74.26890061",
         "74.18607659",
         "74.52158834",
         "74.12206872",
         "0.207367182",
         "2.683092848",
         "100",
         "74.38607659",
         "74.01981781",
         "74.49898479",
         "74.10521265",
         "0.068299928",
         "2.689240271"
        ],
        [
         "1",
         "73.32597582",
         "73.4022251",
         "73.55472367",
         "73.85972081",
         "73.20318809",
         "73.62792151",
         "73.26324749",
         "-0.058120945",
         "2.408550602",
         "56",
         "73.47044933",
         "73.22482535",
         "73.60358176",
         "73.2206252",
         "0.001204191",
         "2.463892674",
         "2.501665816",
         "66",
         "0.0",
         "73.34791684",
         "73.40946259",
         "73.47100834",
         "73.59409983",
         "73.84028281",
         "74.45574026",
         "73.3322696",
         "73.62792151",
         "73.25294652",
         "0.211653289",
         "2.633192963",
         "86",
         "73.54793515",
         "73.19849317",
         "73.41000066",
         "73.28357213",
         "0.177968662",
         "2.809743841",
         "113",
         "73.38663735",
         "73.05387528",
         "73.20119496",
         "73.23426564",
         "0.049021029",
         "2.748588119"
        ],
        [
         "2",
         "76.68950619",
         "76.79861513",
         "77.01683302",
         "77.4532688",
         "76.56608616",
         "76.10452558",
         "76.3322553",
         "0.73320829",
         "3.236070621",
         "26",
         "76.95831843",
         "76.08199125",
         "75.52987517",
         "76.31829352",
         "0.730979789",
         "3.093675003",
         "3.14505928",
         "33",
         "0.0",
         "76.2560689",
         "76.34310773",
         "76.43014656",
         "76.60422422",
         "76.95237953",
         "77.82276781",
         "76.08199125",
         "75.52987517",
         "76.2505239",
         "0.730979789",
         "3.093675003",
         "33",
         "76.43014656",
         "76.08199125",
         "75.52987517",
         "76.21264242",
         "0.730979789",
         "3.093675003",
         "33",
         "76.43014656",
         "76.08199125",
         "75.52987517",
         "76.18866509",
         "0.730979789",
         "3.093675003"
        ],
        [
         "3",
         "72.95837442",
         "73.05122209",
         "73.23691743",
         "73.60830811",
         "72.41573967",
         "72.81229884",
         "72.67192824",
         "0.036209679",
         "2.912646454",
         "45",
         "72.71388207",
         "72.36171466",
         "72.78118648",
         "72.56641364",
         "-0.084380035",
         "2.769261297",
         "2.828979525",
         "58",
         "0.0",
         "72.49302109",
         "72.55867431",
         "72.62432753",
         "72.75563396",
         "73.01824683",
         "73.67477899",
         "72.55640476",
         "72.8456015",
         "72.53480967",
         "0.036460798",
         "2.584748947",
         "75",
         "72.78734486",
         "72.52158995",
         "72.8456015",
         "72.52755758",
         "-0.017134279",
         "2.665568343",
         "93",
         "72.72898028",
         "72.54783228",
         "72.82895017",
         "72.52618456",
         "-0.041583562",
         "2.73780728"
        ],
        [
         "4",
         "71.47757616",
         "71.54499615",
         "71.67983612",
         "71.94951607",
         "71.48386944",
         "71.62879399",
         "71.42387893",
         "-0.160224286",
         "2.905188625",
         "85",
         "71.7007999",
         "71.49135516",
         "71.62879399",
         "71.45397346",
         "-0.16658732",
         "2.893173119",
         "2.907869637",
         "105",
         "0.00952381",
         "71.58894516",
         "71.63774017",
         "71.68653517",
         "71.78412518",
         "71.97930519",
         "72.46725523",
         "71.60408669",
         "71.80829911",
         "71.47286389",
         "-0.104514956",
         "2.860862138",
         "129",
         "71.78017687",
         "71.60820954",
         "71.76831502",
         "71.50540922",
         "-0.161780726",
         "2.836123218",
         "157",
         "71.76782692",
         "71.59555523",
         "71.56182391",
         "71.53700418",
         "-0.197852377",
         "2.877444734"
        ]
       ],
       "shape": {
        "columns": 44,
        "rows": 5
       }
      },
      "text/html": [
       "<div>\n",
       "<style scoped>\n",
       "    .dataframe tbody tr th:only-of-type {\n",
       "        vertical-align: middle;\n",
       "    }\n",
       "\n",
       "    .dataframe tbody tr th {\n",
       "        vertical-align: top;\n",
       "    }\n",
       "\n",
       "    .dataframe thead th {\n",
       "        text-align: right;\n",
       "    }\n",
       "</style>\n",
       "<table border=\"1\" class=\"dataframe\">\n",
       "  <thead>\n",
       "    <tr style=\"text-align: right;\">\n",
       "      <th></th>\n",
       "      <th>0_to_6_month_mean_count_penalised_1.5x</th>\n",
       "      <th>0_to_6_month_mean_count_penalised_2x</th>\n",
       "      <th>0_to_6_month_mean_count_penalised_3x</th>\n",
       "      <th>0_to_6_month_mean_count_penalised_5x</th>\n",
       "      <th>0_to_9_month_mean</th>\n",
       "      <th>0_to_9_month_median</th>\n",
       "      <th>0_to_9_month_weighted</th>\n",
       "      <th>0_to_9_month_rat_diff_av</th>\n",
       "      <th>0_to_9_month_sd</th>\n",
       "      <th>0_to_9_month_count</th>\n",
       "      <th>...</th>\n",
       "      <th>0_to_18_month_weighted</th>\n",
       "      <th>0_to_18_month_rat_diff_av</th>\n",
       "      <th>0_to_18_month_sd</th>\n",
       "      <th>0_to_18_month_count</th>\n",
       "      <th>0_to_18_month_mean_count_penalised_2x</th>\n",
       "      <th>0_to_21_month_mean</th>\n",
       "      <th>0_to_21_month_median</th>\n",
       "      <th>0_to_21_month_weighted</th>\n",
       "      <th>0_to_21_month_rat_diff_av</th>\n",
       "      <th>0_to_21_month_sd</th>\n",
       "    </tr>\n",
       "  </thead>\n",
       "  <tbody>\n",
       "    <tr>\n",
       "      <th>0</th>\n",
       "      <td>74.715193</td>\n",
       "      <td>74.796304</td>\n",
       "      <td>74.958525</td>\n",
       "      <td>75.282968</td>\n",
       "      <td>74.305663</td>\n",
       "      <td>74.497192</td>\n",
       "      <td>74.258477</td>\n",
       "      <td>0.259829</td>\n",
       "      <td>2.434935</td>\n",
       "      <td>52</td>\n",
       "      <td>...</td>\n",
       "      <td>74.122069</td>\n",
       "      <td>0.207367</td>\n",
       "      <td>2.683093</td>\n",
       "      <td>100</td>\n",
       "      <td>74.386077</td>\n",
       "      <td>74.019818</td>\n",
       "      <td>74.498985</td>\n",
       "      <td>74.105213</td>\n",
       "      <td>0.068300</td>\n",
       "      <td>2.689240</td>\n",
       "    </tr>\n",
       "    <tr>\n",
       "      <th>1</th>\n",
       "      <td>73.325976</td>\n",
       "      <td>73.402225</td>\n",
       "      <td>73.554724</td>\n",
       "      <td>73.859721</td>\n",
       "      <td>73.203188</td>\n",
       "      <td>73.627922</td>\n",
       "      <td>73.263247</td>\n",
       "      <td>-0.058121</td>\n",
       "      <td>2.408551</td>\n",
       "      <td>56</td>\n",
       "      <td>...</td>\n",
       "      <td>73.283572</td>\n",
       "      <td>0.177969</td>\n",
       "      <td>2.809744</td>\n",
       "      <td>113</td>\n",
       "      <td>73.386637</td>\n",
       "      <td>73.053875</td>\n",
       "      <td>73.201195</td>\n",
       "      <td>73.234266</td>\n",
       "      <td>0.049021</td>\n",
       "      <td>2.748588</td>\n",
       "    </tr>\n",
       "    <tr>\n",
       "      <th>2</th>\n",
       "      <td>76.689506</td>\n",
       "      <td>76.798615</td>\n",
       "      <td>77.016833</td>\n",
       "      <td>77.453269</td>\n",
       "      <td>76.566086</td>\n",
       "      <td>76.104526</td>\n",
       "      <td>76.332255</td>\n",
       "      <td>0.733208</td>\n",
       "      <td>3.236071</td>\n",
       "      <td>26</td>\n",
       "      <td>...</td>\n",
       "      <td>76.212642</td>\n",
       "      <td>0.730980</td>\n",
       "      <td>3.093675</td>\n",
       "      <td>33</td>\n",
       "      <td>76.430147</td>\n",
       "      <td>76.081991</td>\n",
       "      <td>75.529875</td>\n",
       "      <td>76.188665</td>\n",
       "      <td>0.730980</td>\n",
       "      <td>3.093675</td>\n",
       "    </tr>\n",
       "    <tr>\n",
       "      <th>3</th>\n",
       "      <td>72.958374</td>\n",
       "      <td>73.051222</td>\n",
       "      <td>73.236917</td>\n",
       "      <td>73.608308</td>\n",
       "      <td>72.415740</td>\n",
       "      <td>72.812299</td>\n",
       "      <td>72.671928</td>\n",
       "      <td>0.036210</td>\n",
       "      <td>2.912646</td>\n",
       "      <td>45</td>\n",
       "      <td>...</td>\n",
       "      <td>72.527558</td>\n",
       "      <td>-0.017134</td>\n",
       "      <td>2.665568</td>\n",
       "      <td>93</td>\n",
       "      <td>72.728980</td>\n",
       "      <td>72.547832</td>\n",
       "      <td>72.828950</td>\n",
       "      <td>72.526185</td>\n",
       "      <td>-0.041584</td>\n",
       "      <td>2.737807</td>\n",
       "    </tr>\n",
       "    <tr>\n",
       "      <th>4</th>\n",
       "      <td>71.477576</td>\n",
       "      <td>71.544996</td>\n",
       "      <td>71.679836</td>\n",
       "      <td>71.949516</td>\n",
       "      <td>71.483869</td>\n",
       "      <td>71.628794</td>\n",
       "      <td>71.423879</td>\n",
       "      <td>-0.160224</td>\n",
       "      <td>2.905189</td>\n",
       "      <td>85</td>\n",
       "      <td>...</td>\n",
       "      <td>71.505409</td>\n",
       "      <td>-0.161781</td>\n",
       "      <td>2.836123</td>\n",
       "      <td>157</td>\n",
       "      <td>71.767827</td>\n",
       "      <td>71.595555</td>\n",
       "      <td>71.561824</td>\n",
       "      <td>71.537004</td>\n",
       "      <td>-0.197852</td>\n",
       "      <td>2.877445</td>\n",
       "    </tr>\n",
       "  </tbody>\n",
       "</table>\n",
       "<p>5 rows × 44 columns</p>\n",
       "</div>"
      ],
      "text/plain": [
       "   0_to_6_month_mean_count_penalised_1.5x  \\\n",
       "0                               74.715193   \n",
       "1                               73.325976   \n",
       "2                               76.689506   \n",
       "3                               72.958374   \n",
       "4                               71.477576   \n",
       "\n",
       "   0_to_6_month_mean_count_penalised_2x  0_to_6_month_mean_count_penalised_3x  \\\n",
       "0                             74.796304                             74.958525   \n",
       "1                             73.402225                             73.554724   \n",
       "2                             76.798615                             77.016833   \n",
       "3                             73.051222                             73.236917   \n",
       "4                             71.544996                             71.679836   \n",
       "\n",
       "   0_to_6_month_mean_count_penalised_5x  0_to_9_month_mean  \\\n",
       "0                             75.282968          74.305663   \n",
       "1                             73.859721          73.203188   \n",
       "2                             77.453269          76.566086   \n",
       "3                             73.608308          72.415740   \n",
       "4                             71.949516          71.483869   \n",
       "\n",
       "   0_to_9_month_median  0_to_9_month_weighted  0_to_9_month_rat_diff_av  \\\n",
       "0            74.497192              74.258477                  0.259829   \n",
       "1            73.627922              73.263247                 -0.058121   \n",
       "2            76.104526              76.332255                  0.733208   \n",
       "3            72.812299              72.671928                  0.036210   \n",
       "4            71.628794              71.423879                 -0.160224   \n",
       "\n",
       "   0_to_9_month_sd  0_to_9_month_count  ...  0_to_18_month_weighted  \\\n",
       "0         2.434935                  52  ...               74.122069   \n",
       "1         2.408551                  56  ...               73.283572   \n",
       "2         3.236071                  26  ...               76.212642   \n",
       "3         2.912646                  45  ...               72.527558   \n",
       "4         2.905189                  85  ...               71.505409   \n",
       "\n",
       "   0_to_18_month_rat_diff_av  0_to_18_month_sd  0_to_18_month_count  \\\n",
       "0                   0.207367          2.683093                  100   \n",
       "1                   0.177969          2.809744                  113   \n",
       "2                   0.730980          3.093675                   33   \n",
       "3                  -0.017134          2.665568                   93   \n",
       "4                  -0.161781          2.836123                  157   \n",
       "\n",
       "   0_to_18_month_mean_count_penalised_2x  0_to_21_month_mean  \\\n",
       "0                              74.386077           74.019818   \n",
       "1                              73.386637           73.053875   \n",
       "2                              76.430147           76.081991   \n",
       "3                              72.728980           72.547832   \n",
       "4                              71.767827           71.595555   \n",
       "\n",
       "   0_to_21_month_median  0_to_21_month_weighted  0_to_21_month_rat_diff_av  \\\n",
       "0             74.498985               74.105213                   0.068300   \n",
       "1             73.201195               73.234266                   0.049021   \n",
       "2             75.529875               76.188665                   0.730980   \n",
       "3             72.828950               72.526185                  -0.041584   \n",
       "4             71.561824               71.537004                  -0.197852   \n",
       "\n",
       "   0_to_21_month_sd  \n",
       "0          2.689240  \n",
       "1          2.748588  \n",
       "2          3.093675  \n",
       "3          2.737807  \n",
       "4          2.877445  \n",
       "\n",
       "[5 rows x 44 columns]"
      ]
     },
     "execution_count": 63,
     "metadata": {},
     "output_type": "execute_result"
    }
   ],
   "source": [
    "df3 = pd.read_csv('data/columns_part_3.csv')\n",
    "df3.head()"
   ]
  },
  {
   "cell_type": "code",
   "execution_count": 64,
   "id": "bae1640a",
   "metadata": {},
   "outputs": [
    {
     "data": {
      "application/vnd.microsoft.datawrangler.viewer.v0+json": {
       "columns": [
        {
         "name": "index",
         "rawType": "object",
         "type": "string"
        },
        {
         "name": "0",
         "rawType": "int64",
         "type": "integer"
        }
       ],
       "ref": "769dda7f-fdad-4e3f-9d8b-9b0ddd486da2",
       "rows": [
        [
         "0_to_6_month_mean_count_penalised_1.5x",
         "0"
        ],
        [
         "0_to_6_month_mean_count_penalised_2x",
         "0"
        ],
        [
         "0_to_6_month_mean_count_penalised_3x",
         "0"
        ],
        [
         "0_to_6_month_mean_count_penalised_5x",
         "0"
        ],
        [
         "0_to_9_month_mean",
         "0"
        ],
        [
         "0_to_9_month_median",
         "0"
        ],
        [
         "0_to_9_month_weighted",
         "0"
        ],
        [
         "0_to_9_month_rat_diff_av",
         "0"
        ],
        [
         "0_to_9_month_sd",
         "0"
        ],
        [
         "0_to_9_month_count",
         "0"
        ],
        [
         "0_to_9_month_mean_count_penalised_2x",
         "0"
        ],
        [
         "0_to_1_year_mean",
         "0"
        ],
        [
         "0_to_1_year_median",
         "0"
        ],
        [
         "0_to_1_year_weighted",
         "0"
        ],
        [
         "0_to_1_year_rat_diff_av",
         "0"
        ],
        [
         "0_to_1_year_sd_adj",
         "0"
        ],
        [
         "0_to_1_year_sd_diff",
         "0"
        ],
        [
         "0_to_1_year_count",
         "0"
        ],
        [
         "0_to_1_year_wd_percent",
         "0"
        ],
        [
         "0_to_1_year_mean_count_penalised_1x",
         "0"
        ],
        [
         "0_to_1_year_mean_count_penalised_1.5x",
         "0"
        ],
        [
         "0_to_1_year_mean_count_penalised_2x",
         "0"
        ],
        [
         "0_to_1_year_mean_count_penalised_3x",
         "0"
        ],
        [
         "0_to_1_year_mean_count_penalised_5x",
         "0"
        ],
        [
         "0_to_1_year_mean_count_penalised_10x",
         "0"
        ],
        [
         "0_to_15_month_mean",
         "0"
        ],
        [
         "0_to_15_month_median",
         "0"
        ],
        [
         "0_to_15_month_weighted",
         "0"
        ],
        [
         "0_to_15_month_rat_diff_av",
         "0"
        ],
        [
         "0_to_15_month_sd",
         "0"
        ],
        [
         "0_to_15_month_count",
         "0"
        ],
        [
         "0_to_15_month_mean_count_penalised_2x",
         "0"
        ],
        [
         "0_to_18_month_mean",
         "0"
        ],
        [
         "0_to_18_month_median",
         "0"
        ],
        [
         "0_to_18_month_weighted",
         "0"
        ],
        [
         "0_to_18_month_rat_diff_av",
         "0"
        ],
        [
         "0_to_18_month_sd",
         "0"
        ],
        [
         "0_to_18_month_count",
         "0"
        ],
        [
         "0_to_18_month_mean_count_penalised_2x",
         "0"
        ],
        [
         "0_to_21_month_mean",
         "0"
        ],
        [
         "0_to_21_month_median",
         "0"
        ],
        [
         "0_to_21_month_weighted",
         "0"
        ],
        [
         "0_to_21_month_rat_diff_av",
         "0"
        ],
        [
         "0_to_21_month_sd",
         "0"
        ]
       ],
       "shape": {
        "columns": 1,
        "rows": 44
       }
      },
      "text/plain": [
       "0_to_6_month_mean_count_penalised_1.5x    0\n",
       "0_to_6_month_mean_count_penalised_2x      0\n",
       "0_to_6_month_mean_count_penalised_3x      0\n",
       "0_to_6_month_mean_count_penalised_5x      0\n",
       "0_to_9_month_mean                         0\n",
       "0_to_9_month_median                       0\n",
       "0_to_9_month_weighted                     0\n",
       "0_to_9_month_rat_diff_av                  0\n",
       "0_to_9_month_sd                           0\n",
       "0_to_9_month_count                        0\n",
       "0_to_9_month_mean_count_penalised_2x      0\n",
       "0_to_1_year_mean                          0\n",
       "0_to_1_year_median                        0\n",
       "0_to_1_year_weighted                      0\n",
       "0_to_1_year_rat_diff_av                   0\n",
       "0_to_1_year_sd_adj                        0\n",
       "0_to_1_year_sd_diff                       0\n",
       "0_to_1_year_count                         0\n",
       "0_to_1_year_wd_percent                    0\n",
       "0_to_1_year_mean_count_penalised_1x       0\n",
       "0_to_1_year_mean_count_penalised_1.5x     0\n",
       "0_to_1_year_mean_count_penalised_2x       0\n",
       "0_to_1_year_mean_count_penalised_3x       0\n",
       "0_to_1_year_mean_count_penalised_5x       0\n",
       "0_to_1_year_mean_count_penalised_10x      0\n",
       "0_to_15_month_mean                        0\n",
       "0_to_15_month_median                      0\n",
       "0_to_15_month_weighted                    0\n",
       "0_to_15_month_rat_diff_av                 0\n",
       "0_to_15_month_sd                          0\n",
       "0_to_15_month_count                       0\n",
       "0_to_15_month_mean_count_penalised_2x     0\n",
       "0_to_18_month_mean                        0\n",
       "0_to_18_month_median                      0\n",
       "0_to_18_month_weighted                    0\n",
       "0_to_18_month_rat_diff_av                 0\n",
       "0_to_18_month_sd                          0\n",
       "0_to_18_month_count                       0\n",
       "0_to_18_month_mean_count_penalised_2x     0\n",
       "0_to_21_month_mean                        0\n",
       "0_to_21_month_median                      0\n",
       "0_to_21_month_weighted                    0\n",
       "0_to_21_month_rat_diff_av                 0\n",
       "0_to_21_month_sd                          0\n",
       "dtype: int64"
      ]
     },
     "execution_count": 64,
     "metadata": {},
     "output_type": "execute_result"
    }
   ],
   "source": [
    "df3.isnull().sum()"
   ]
  },
  {
   "cell_type": "code",
   "execution_count": 65,
   "id": "37955afd",
   "metadata": {},
   "outputs": [],
   "source": [
    "cols_to_drop =[\n",
    "    '0_to_6_month_mean_count_penalised_1.5x','0_to_6_month_mean_count_penalised_2x',\n",
    "    '0_to_6_month_mean_count_penalised_3x','0_to_6_month_mean_count_penalised_5x',\n",
    "    '0_to_9_month_median','0_to_1_year_median','0_to_9_month_mean_count_penalised_2x',\n",
    "    '0_to_1_year_mean_count_penalised_1x','0_to_1_year_mean_count_penalised_1.5x',\n",
    "    '0_to_1_year_mean_count_penalised_2x','0_to_1_year_mean_count_penalised_3x',\n",
    "    '0_to_1_year_mean_count_penalised_5x','0_to_1_year_mean_count_penalised_10x',\n",
    "    '0_to_1_year_wd_percent','0_to_1_year_rat_diff_av','0_to_1_year_weighted',\n",
    "    '0_to_15_month_median','0_to_15_month_mean_count_penalised_2x','0_to_18_month_median',\n",
    "    '0_to_18_month_mean_count_penalised_2x','0_to_21_month_median'\n",
    "\n",
    "    \n",
    "]\n",
    "existing_cols_to_drop = [col for col in cols_to_drop if col in df3.columns]\n",
    "df3 = df3.drop(columns=existing_cols_to_drop, axis=1)"
   ]
  },
  {
   "cell_type": "code",
   "execution_count": 66,
   "id": "3fc398f3",
   "metadata": {},
   "outputs": [
    {
     "data": {
      "application/vnd.microsoft.datawrangler.viewer.v0+json": {
       "columns": [
        {
         "name": "index",
         "rawType": "object",
         "type": "string"
        },
        {
         "name": "0",
         "rawType": "int64",
         "type": "integer"
        }
       ],
       "ref": "5216263a-8f47-49a6-81c4-55a750639bac",
       "rows": [
        [
         "0_to_9_month_mean",
         "0"
        ],
        [
         "0_to_9_month_weighted",
         "0"
        ],
        [
         "0_to_9_month_rat_diff_av",
         "0"
        ],
        [
         "0_to_9_month_sd",
         "0"
        ],
        [
         "0_to_9_month_count",
         "0"
        ],
        [
         "0_to_1_year_mean",
         "0"
        ],
        [
         "0_to_1_year_sd_adj",
         "0"
        ],
        [
         "0_to_1_year_sd_diff",
         "0"
        ],
        [
         "0_to_1_year_count",
         "0"
        ],
        [
         "0_to_15_month_mean",
         "0"
        ],
        [
         "0_to_15_month_weighted",
         "0"
        ],
        [
         "0_to_15_month_rat_diff_av",
         "0"
        ],
        [
         "0_to_15_month_sd",
         "0"
        ],
        [
         "0_to_15_month_count",
         "0"
        ],
        [
         "0_to_18_month_mean",
         "0"
        ],
        [
         "0_to_18_month_weighted",
         "0"
        ],
        [
         "0_to_18_month_rat_diff_av",
         "0"
        ],
        [
         "0_to_18_month_sd",
         "0"
        ],
        [
         "0_to_18_month_count",
         "0"
        ],
        [
         "0_to_21_month_mean",
         "0"
        ],
        [
         "0_to_21_month_weighted",
         "0"
        ],
        [
         "0_to_21_month_rat_diff_av",
         "0"
        ],
        [
         "0_to_21_month_sd",
         "0"
        ]
       ],
       "shape": {
        "columns": 1,
        "rows": 23
       }
      },
      "text/plain": [
       "0_to_9_month_mean            0\n",
       "0_to_9_month_weighted        0\n",
       "0_to_9_month_rat_diff_av     0\n",
       "0_to_9_month_sd              0\n",
       "0_to_9_month_count           0\n",
       "0_to_1_year_mean             0\n",
       "0_to_1_year_sd_adj           0\n",
       "0_to_1_year_sd_diff          0\n",
       "0_to_1_year_count            0\n",
       "0_to_15_month_mean           0\n",
       "0_to_15_month_weighted       0\n",
       "0_to_15_month_rat_diff_av    0\n",
       "0_to_15_month_sd             0\n",
       "0_to_15_month_count          0\n",
       "0_to_18_month_mean           0\n",
       "0_to_18_month_weighted       0\n",
       "0_to_18_month_rat_diff_av    0\n",
       "0_to_18_month_sd             0\n",
       "0_to_18_month_count          0\n",
       "0_to_21_month_mean           0\n",
       "0_to_21_month_weighted       0\n",
       "0_to_21_month_rat_diff_av    0\n",
       "0_to_21_month_sd             0\n",
       "dtype: int64"
      ]
     },
     "execution_count": 66,
     "metadata": {},
     "output_type": "execute_result"
    }
   ],
   "source": [
    "df3.isnull().sum()"
   ]
  },
  {
   "cell_type": "code",
   "execution_count": 67,
   "id": "59958484",
   "metadata": {},
   "outputs": [
    {
     "data": {
      "application/vnd.microsoft.datawrangler.viewer.v0+json": {
       "columns": [
        {
         "name": "index",
         "rawType": "int64",
         "type": "integer"
        },
        {
         "name": "0_to_21_month_count",
         "rawType": "int64",
         "type": "integer"
        },
        {
         "name": "0_to_21_month_mean_count_penalised_2x",
         "rawType": "float64",
         "type": "float"
        },
        {
         "name": "0_to_2_year_mean",
         "rawType": "float64",
         "type": "float"
        },
        {
         "name": "0_to_2_year_median",
         "rawType": "float64",
         "type": "float"
        },
        {
         "name": "0_to_2_year_weighted",
         "rawType": "float64",
         "type": "float"
        },
        {
         "name": "0_to_2_year_rat_diff_av",
         "rawType": "float64",
         "type": "float"
        },
        {
         "name": "0_to_2_year_sd",
         "rawType": "float64",
         "type": "float"
        },
        {
         "name": "0_to_2_year_count",
         "rawType": "int64",
         "type": "integer"
        },
        {
         "name": "0_to_2_year_mean_count_penalised_1x",
         "rawType": "float64",
         "type": "float"
        },
        {
         "name": "0_to_2_year_mean_count_penalised_1.5x",
         "rawType": "float64",
         "type": "float"
        },
        {
         "name": "0_to_2_year_mean_count_penalised_2x",
         "rawType": "float64",
         "type": "float"
        },
        {
         "name": "0_to_2_year_mean_count_penalised_3x",
         "rawType": "float64",
         "type": "float"
        },
        {
         "name": "0_to_2_year_mean_count_penalised_5x",
         "rawType": "float64",
         "type": "float"
        },
        {
         "name": "0_to_2_year_mean_count_penalised_10x",
         "rawType": "float64",
         "type": "float"
        },
        {
         "name": "0_to_3_year_mean",
         "rawType": "float64",
         "type": "float"
        },
        {
         "name": "0_to_3_year_rat_diff_av",
         "rawType": "float64",
         "type": "float"
        },
        {
         "name": "0_to_3_year_sd_adj",
         "rawType": "float64",
         "type": "float"
        },
        {
         "name": "0_to_3_year_diff_skew",
         "rawType": "float64",
         "type": "float"
        },
        {
         "name": "0_to_3_year_shape",
         "rawType": "float64",
         "type": "float"
        },
        {
         "name": "0_to_3_year_scale",
         "rawType": "float64",
         "type": "float"
        },
        {
         "name": "0_to_3_year_loc",
         "rawType": "float64",
         "type": "float"
        },
        {
         "name": "0_to_3_year_sd_diff",
         "rawType": "float64",
         "type": "float"
        },
        {
         "name": "0_to_3_year_low_75_percent_mean",
         "rawType": "float64",
         "type": "float"
        },
        {
         "name": "0_to_3_year_high_75_percent_mean",
         "rawType": "float64",
         "type": "float"
        },
        {
         "name": "0_to_3_year_low_50_percent_mean",
         "rawType": "float64",
         "type": "float"
        },
        {
         "name": "0_to_3_year_high_50_percent_mean",
         "rawType": "float64",
         "type": "float"
        },
        {
         "name": "0_to_3_year_low_25_percent_mean",
         "rawType": "float64",
         "type": "float"
        },
        {
         "name": "0_to_3_year_high_25_percent_mean",
         "rawType": "float64",
         "type": "float"
        },
        {
         "name": "0_to_3_year_low_10_percent_mean",
         "rawType": "float64",
         "type": "float"
        },
        {
         "name": "0_to_3_year_high_10_percent_mean",
         "rawType": "float64",
         "type": "float"
        },
        {
         "name": "0_to_3_year_count",
         "rawType": "int64",
         "type": "integer"
        },
        {
         "name": "0_to_3_year_wd_percent",
         "rawType": "float64",
         "type": "float"
        },
        {
         "name": "0_to_5_year_mean",
         "rawType": "float64",
         "type": "float"
        },
        {
         "name": "0_to_5_year_rat_diff_av",
         "rawType": "float64",
         "type": "float"
        },
        {
         "name": "0_to_5_year_sd_adj",
         "rawType": "float64",
         "type": "float"
        },
        {
         "name": "0_to_5_year_sd_diff",
         "rawType": "float64",
         "type": "float"
        },
        {
         "name": "0_to_5_year_diff_skew",
         "rawType": "float64",
         "type": "float"
        },
        {
         "name": "0_to_5_year_shape",
         "rawType": "float64",
         "type": "float"
        },
        {
         "name": "0_to_5_year_scale",
         "rawType": "float64",
         "type": "float"
        },
        {
         "name": "0_to_5_year_loc",
         "rawType": "float64",
         "type": "float"
        },
        {
         "name": "0_to_5_year_low_25_percent_mean",
         "rawType": "float64",
         "type": "float"
        },
        {
         "name": "0_to_5_year_low_50_percent_mean",
         "rawType": "float64",
         "type": "float"
        },
        {
         "name": "0_to_5_year_low_75_percent_mean",
         "rawType": "float64",
         "type": "float"
        },
        {
         "name": "0_to_5_year_count",
         "rawType": "int64",
         "type": "integer"
        }
       ],
       "ref": "68e8b9b6-7ce2-4360-9b0f-d5dfa7ef46ee",
       "rows": [
        [
         "0",
         "126",
         "74.19799197",
         "73.99026529",
         "74.41184486",
         "74.08698582",
         "0.016322008",
         "2.637114104",
         "134",
         "74.07665213",
         "74.11984556",
         "74.16303898",
         "74.24942582",
         "74.42219951",
         "74.85413372",
         "74.03186824",
         "0.140601262",
         "2.735591689",
         "0.068794355",
         "0.746573274",
         "3.113135567",
         "-1.345383653",
         "2.763084255",
         "72.88527984",
         "75.20698363",
         "71.80372663",
         "76.26000985",
         "70.55548522",
         "77.42385892",
         "69.35407214",
         "78.86547323",
         "190",
         "0.015789474",
         "73.97060508",
         "0.020295664",
         "2.71660094",
         "2.740695285",
         "0.041354783",
         "0.612487888",
         "3.01497909",
         "-1.236162957",
         "70.52897003",
         "71.80532843",
         "72.85783447",
         "234"
        ],
        [
         "1",
         "135",
         "73.22600787",
         "73.08528218",
         "73.20242047",
         "73.19443212",
         "0.087118208",
         "2.749209539",
         "138",
         "73.17040783",
         "73.21297066",
         "73.25553349",
         "73.34065914",
         "73.51091045",
         "73.93653871",
         "72.93767629",
         "0.167693653",
         "2.643405313",
         "0.238135879",
         "1.313673346",
         "3.421360241",
         "-2.004428409",
         "2.727618706",
         "71.78353783",
         "74.04081748",
         "70.81508686",
         "75.08010302",
         "69.64868128",
         "76.37871874",
         "68.68296429",
         "77.66148642",
         "215",
         "0.009302326",
         "72.8422836",
         "-0.007251286",
         "2.698030647",
         "2.727618706",
         "0.117476573",
         "0.933815138",
         "3.25211679",
         "-1.778228365",
         "69.40461415",
         "70.62005688",
         "71.63623221",
         "298"
        ],
        [
         "2",
         "33",
         "76.43014656",
         "76.08199125",
         "75.52987517",
         "76.17242867",
         "0.730979789",
         "3.093675003",
         "33",
         "76.2560689",
         "76.34310773",
         "76.43014656",
         "76.60422422",
         "76.95237953",
         "77.82276781",
         "75.54113539",
         "0.549759008",
         "2.793921644",
         "0.782691904",
         "3.980020077",
         "4.411059985",
         "-2.863663327",
         "2.762555988",
         "74.29508068",
         "76.59636169",
         "73.40682075",
         "77.74904708",
         "72.44580489",
         "79.19622919",
         "71.75458877",
         "81.25187941",
         "59",
         "0.0",
         "74.90489583",
         "0.378462796",
         "2.782113067",
         "2.724467728",
         "0.488912995",
         "2.130600235",
         "3.939392902",
         "-2.466900455",
         "71.49286873",
         "72.72110887",
         "73.70376078",
         "113"
        ],
        [
         "3",
         "110",
         "72.7385248",
         "72.57112686",
         "72.81229884",
         "72.53899598",
         "-0.05953324",
         "2.765013662",
         "125",
         "72.66056958",
         "72.70529093",
         "72.75001229",
         "72.83945501",
         "73.01834045",
         "73.46555405",
         "72.66720959",
         "-0.095294887",
         "2.745807352",
         "-0.143575336",
         null,
         null,
         null,
         "2.784295596",
         "71.4962223",
         "73.88054186",
         "70.45001778",
         "74.91319611",
         "69.05832389",
         "76.15014616",
         "67.82765677",
         "77.03575827",
         "155",
         "0.0",
         "72.87748996",
         "-0.00366546",
         "2.703553942",
         "2.731579314",
         "-0.228728723",
         null,
         null,
         null,
         "69.33889699",
         "70.71757552",
         "71.79411808",
         "212"
        ],
        [
         "4",
         "185",
         "71.74259816",
         "71.64782715",
         "71.69855451",
         "71.55238573",
         "-0.150370944",
         "2.892505736",
         "188",
         "71.72075965",
         "71.7572259",
         "71.79369215",
         "71.86662464",
         "72.01248963",
         "72.37715211",
         "71.75184359",
         "-0.158682689",
         "2.758786882",
         "0.044343796",
         "0.628947156",
         "3.047405604",
         "-1.453200304",
         "2.879568749",
         "70.57394218",
         "72.92334937",
         "69.49533813",
         "74.00834905",
         "68.23732624",
         "75.28554781",
         "67.02047283",
         "76.38054817",
         "252",
         "0.007936508",
         "71.95946365",
         "-0.114460797",
         "2.870561033",
         "2.879568749",
         "-0.031272846",
         null,
         null,
         null,
         "68.42014388",
         "69.72711409",
         "70.78185387",
         "363"
        ]
       ],
       "shape": {
        "columns": 44,
        "rows": 5
       }
      },
      "text/html": [
       "<div>\n",
       "<style scoped>\n",
       "    .dataframe tbody tr th:only-of-type {\n",
       "        vertical-align: middle;\n",
       "    }\n",
       "\n",
       "    .dataframe tbody tr th {\n",
       "        vertical-align: top;\n",
       "    }\n",
       "\n",
       "    .dataframe thead th {\n",
       "        text-align: right;\n",
       "    }\n",
       "</style>\n",
       "<table border=\"1\" class=\"dataframe\">\n",
       "  <thead>\n",
       "    <tr style=\"text-align: right;\">\n",
       "      <th></th>\n",
       "      <th>0_to_21_month_count</th>\n",
       "      <th>0_to_21_month_mean_count_penalised_2x</th>\n",
       "      <th>0_to_2_year_mean</th>\n",
       "      <th>0_to_2_year_median</th>\n",
       "      <th>0_to_2_year_weighted</th>\n",
       "      <th>0_to_2_year_rat_diff_av</th>\n",
       "      <th>0_to_2_year_sd</th>\n",
       "      <th>0_to_2_year_count</th>\n",
       "      <th>0_to_2_year_mean_count_penalised_1x</th>\n",
       "      <th>0_to_2_year_mean_count_penalised_1.5x</th>\n",
       "      <th>...</th>\n",
       "      <th>0_to_5_year_sd_adj</th>\n",
       "      <th>0_to_5_year_sd_diff</th>\n",
       "      <th>0_to_5_year_diff_skew</th>\n",
       "      <th>0_to_5_year_shape</th>\n",
       "      <th>0_to_5_year_scale</th>\n",
       "      <th>0_to_5_year_loc</th>\n",
       "      <th>0_to_5_year_low_25_percent_mean</th>\n",
       "      <th>0_to_5_year_low_50_percent_mean</th>\n",
       "      <th>0_to_5_year_low_75_percent_mean</th>\n",
       "      <th>0_to_5_year_count</th>\n",
       "    </tr>\n",
       "  </thead>\n",
       "  <tbody>\n",
       "    <tr>\n",
       "      <th>0</th>\n",
       "      <td>126</td>\n",
       "      <td>74.197992</td>\n",
       "      <td>73.990265</td>\n",
       "      <td>74.411845</td>\n",
       "      <td>74.086986</td>\n",
       "      <td>0.016322</td>\n",
       "      <td>2.637114</td>\n",
       "      <td>134</td>\n",
       "      <td>74.076652</td>\n",
       "      <td>74.119846</td>\n",
       "      <td>...</td>\n",
       "      <td>2.716601</td>\n",
       "      <td>2.740695</td>\n",
       "      <td>0.041355</td>\n",
       "      <td>0.612488</td>\n",
       "      <td>3.014979</td>\n",
       "      <td>-1.236163</td>\n",
       "      <td>70.528970</td>\n",
       "      <td>71.805328</td>\n",
       "      <td>72.857834</td>\n",
       "      <td>234</td>\n",
       "    </tr>\n",
       "    <tr>\n",
       "      <th>1</th>\n",
       "      <td>135</td>\n",
       "      <td>73.226008</td>\n",
       "      <td>73.085282</td>\n",
       "      <td>73.202420</td>\n",
       "      <td>73.194432</td>\n",
       "      <td>0.087118</td>\n",
       "      <td>2.749210</td>\n",
       "      <td>138</td>\n",
       "      <td>73.170408</td>\n",
       "      <td>73.212971</td>\n",
       "      <td>...</td>\n",
       "      <td>2.698031</td>\n",
       "      <td>2.727619</td>\n",
       "      <td>0.117477</td>\n",
       "      <td>0.933815</td>\n",
       "      <td>3.252117</td>\n",
       "      <td>-1.778228</td>\n",
       "      <td>69.404614</td>\n",
       "      <td>70.620057</td>\n",
       "      <td>71.636232</td>\n",
       "      <td>298</td>\n",
       "    </tr>\n",
       "    <tr>\n",
       "      <th>2</th>\n",
       "      <td>33</td>\n",
       "      <td>76.430147</td>\n",
       "      <td>76.081991</td>\n",
       "      <td>75.529875</td>\n",
       "      <td>76.172429</td>\n",
       "      <td>0.730980</td>\n",
       "      <td>3.093675</td>\n",
       "      <td>33</td>\n",
       "      <td>76.256069</td>\n",
       "      <td>76.343108</td>\n",
       "      <td>...</td>\n",
       "      <td>2.782113</td>\n",
       "      <td>2.724468</td>\n",
       "      <td>0.488913</td>\n",
       "      <td>2.130600</td>\n",
       "      <td>3.939393</td>\n",
       "      <td>-2.466900</td>\n",
       "      <td>71.492869</td>\n",
       "      <td>72.721109</td>\n",
       "      <td>73.703761</td>\n",
       "      <td>113</td>\n",
       "    </tr>\n",
       "    <tr>\n",
       "      <th>3</th>\n",
       "      <td>110</td>\n",
       "      <td>72.738525</td>\n",
       "      <td>72.571127</td>\n",
       "      <td>72.812299</td>\n",
       "      <td>72.538996</td>\n",
       "      <td>-0.059533</td>\n",
       "      <td>2.765014</td>\n",
       "      <td>125</td>\n",
       "      <td>72.660570</td>\n",
       "      <td>72.705291</td>\n",
       "      <td>...</td>\n",
       "      <td>2.703554</td>\n",
       "      <td>2.731579</td>\n",
       "      <td>-0.228729</td>\n",
       "      <td>NaN</td>\n",
       "      <td>NaN</td>\n",
       "      <td>NaN</td>\n",
       "      <td>69.338897</td>\n",
       "      <td>70.717576</td>\n",
       "      <td>71.794118</td>\n",
       "      <td>212</td>\n",
       "    </tr>\n",
       "    <tr>\n",
       "      <th>4</th>\n",
       "      <td>185</td>\n",
       "      <td>71.742598</td>\n",
       "      <td>71.647827</td>\n",
       "      <td>71.698555</td>\n",
       "      <td>71.552386</td>\n",
       "      <td>-0.150371</td>\n",
       "      <td>2.892506</td>\n",
       "      <td>188</td>\n",
       "      <td>71.720760</td>\n",
       "      <td>71.757226</td>\n",
       "      <td>...</td>\n",
       "      <td>2.870561</td>\n",
       "      <td>2.879569</td>\n",
       "      <td>-0.031273</td>\n",
       "      <td>NaN</td>\n",
       "      <td>NaN</td>\n",
       "      <td>NaN</td>\n",
       "      <td>68.420144</td>\n",
       "      <td>69.727114</td>\n",
       "      <td>70.781854</td>\n",
       "      <td>363</td>\n",
       "    </tr>\n",
       "  </tbody>\n",
       "</table>\n",
       "<p>5 rows × 44 columns</p>\n",
       "</div>"
      ],
      "text/plain": [
       "   0_to_21_month_count  0_to_21_month_mean_count_penalised_2x  \\\n",
       "0                  126                              74.197992   \n",
       "1                  135                              73.226008   \n",
       "2                   33                              76.430147   \n",
       "3                  110                              72.738525   \n",
       "4                  185                              71.742598   \n",
       "\n",
       "   0_to_2_year_mean  0_to_2_year_median  0_to_2_year_weighted  \\\n",
       "0         73.990265           74.411845             74.086986   \n",
       "1         73.085282           73.202420             73.194432   \n",
       "2         76.081991           75.529875             76.172429   \n",
       "3         72.571127           72.812299             72.538996   \n",
       "4         71.647827           71.698555             71.552386   \n",
       "\n",
       "   0_to_2_year_rat_diff_av  0_to_2_year_sd  0_to_2_year_count  \\\n",
       "0                 0.016322        2.637114                134   \n",
       "1                 0.087118        2.749210                138   \n",
       "2                 0.730980        3.093675                 33   \n",
       "3                -0.059533        2.765014                125   \n",
       "4                -0.150371        2.892506                188   \n",
       "\n",
       "   0_to_2_year_mean_count_penalised_1x  0_to_2_year_mean_count_penalised_1.5x  \\\n",
       "0                            74.076652                              74.119846   \n",
       "1                            73.170408                              73.212971   \n",
       "2                            76.256069                              76.343108   \n",
       "3                            72.660570                              72.705291   \n",
       "4                            71.720760                              71.757226   \n",
       "\n",
       "   ...  0_to_5_year_sd_adj  0_to_5_year_sd_diff  0_to_5_year_diff_skew  \\\n",
       "0  ...            2.716601             2.740695               0.041355   \n",
       "1  ...            2.698031             2.727619               0.117477   \n",
       "2  ...            2.782113             2.724468               0.488913   \n",
       "3  ...            2.703554             2.731579              -0.228729   \n",
       "4  ...            2.870561             2.879569              -0.031273   \n",
       "\n",
       "   0_to_5_year_shape  0_to_5_year_scale  0_to_5_year_loc  \\\n",
       "0           0.612488           3.014979        -1.236163   \n",
       "1           0.933815           3.252117        -1.778228   \n",
       "2           2.130600           3.939393        -2.466900   \n",
       "3                NaN                NaN              NaN   \n",
       "4                NaN                NaN              NaN   \n",
       "\n",
       "   0_to_5_year_low_25_percent_mean  0_to_5_year_low_50_percent_mean  \\\n",
       "0                        70.528970                        71.805328   \n",
       "1                        69.404614                        70.620057   \n",
       "2                        71.492869                        72.721109   \n",
       "3                        69.338897                        70.717576   \n",
       "4                        68.420144                        69.727114   \n",
       "\n",
       "   0_to_5_year_low_75_percent_mean  0_to_5_year_count  \n",
       "0                        72.857834                234  \n",
       "1                        71.636232                298  \n",
       "2                        73.703761                113  \n",
       "3                        71.794118                212  \n",
       "4                        70.781854                363  \n",
       "\n",
       "[5 rows x 44 columns]"
      ]
     },
     "execution_count": 67,
     "metadata": {},
     "output_type": "execute_result"
    }
   ],
   "source": [
    "df4 = pd.read_csv('data/columns_part_4.csv')\n",
    "df4.head()"
   ]
  },
  {
   "cell_type": "code",
   "execution_count": 68,
   "id": "6ac027c2",
   "metadata": {},
   "outputs": [
    {
     "data": {
      "application/vnd.microsoft.datawrangler.viewer.v0+json": {
       "columns": [
        {
         "name": "index",
         "rawType": "object",
         "type": "string"
        },
        {
         "name": "0",
         "rawType": "int64",
         "type": "integer"
        }
       ],
       "ref": "7d64c478-3ce4-434e-9d99-6aaac151e14e",
       "rows": [
        [
         "0_to_21_month_count",
         "0"
        ],
        [
         "0_to_21_month_mean_count_penalised_2x",
         "0"
        ],
        [
         "0_to_2_year_mean",
         "0"
        ],
        [
         "0_to_2_year_median",
         "0"
        ],
        [
         "0_to_2_year_weighted",
         "0"
        ],
        [
         "0_to_2_year_rat_diff_av",
         "0"
        ],
        [
         "0_to_2_year_sd",
         "0"
        ],
        [
         "0_to_2_year_count",
         "0"
        ],
        [
         "0_to_2_year_mean_count_penalised_1x",
         "0"
        ],
        [
         "0_to_2_year_mean_count_penalised_1.5x",
         "0"
        ],
        [
         "0_to_2_year_mean_count_penalised_2x",
         "0"
        ],
        [
         "0_to_2_year_mean_count_penalised_3x",
         "0"
        ],
        [
         "0_to_2_year_mean_count_penalised_5x",
         "0"
        ],
        [
         "0_to_2_year_mean_count_penalised_10x",
         "0"
        ],
        [
         "0_to_3_year_mean",
         "0"
        ],
        [
         "0_to_3_year_rat_diff_av",
         "0"
        ],
        [
         "0_to_3_year_sd_adj",
         "0"
        ],
        [
         "0_to_3_year_diff_skew",
         "0"
        ],
        [
         "0_to_3_year_shape",
         "438"
        ],
        [
         "0_to_3_year_scale",
         "438"
        ],
        [
         "0_to_3_year_loc",
         "438"
        ],
        [
         "0_to_3_year_sd_diff",
         "0"
        ],
        [
         "0_to_3_year_low_75_percent_mean",
         "0"
        ],
        [
         "0_to_3_year_high_75_percent_mean",
         "0"
        ],
        [
         "0_to_3_year_low_50_percent_mean",
         "0"
        ],
        [
         "0_to_3_year_high_50_percent_mean",
         "0"
        ],
        [
         "0_to_3_year_low_25_percent_mean",
         "0"
        ],
        [
         "0_to_3_year_high_25_percent_mean",
         "0"
        ],
        [
         "0_to_3_year_low_10_percent_mean",
         "0"
        ],
        [
         "0_to_3_year_high_10_percent_mean",
         "0"
        ],
        [
         "0_to_3_year_count",
         "0"
        ],
        [
         "0_to_3_year_wd_percent",
         "0"
        ],
        [
         "0_to_5_year_mean",
         "0"
        ],
        [
         "0_to_5_year_rat_diff_av",
         "0"
        ],
        [
         "0_to_5_year_sd_adj",
         "0"
        ],
        [
         "0_to_5_year_sd_diff",
         "0"
        ],
        [
         "0_to_5_year_diff_skew",
         "0"
        ],
        [
         "0_to_5_year_shape",
         "315"
        ],
        [
         "0_to_5_year_scale",
         "315"
        ],
        [
         "0_to_5_year_loc",
         "315"
        ],
        [
         "0_to_5_year_low_25_percent_mean",
         "0"
        ],
        [
         "0_to_5_year_low_50_percent_mean",
         "0"
        ],
        [
         "0_to_5_year_low_75_percent_mean",
         "0"
        ],
        [
         "0_to_5_year_count",
         "0"
        ]
       ],
       "shape": {
        "columns": 1,
        "rows": 44
       }
      },
      "text/plain": [
       "0_to_21_month_count                        0\n",
       "0_to_21_month_mean_count_penalised_2x      0\n",
       "0_to_2_year_mean                           0\n",
       "0_to_2_year_median                         0\n",
       "0_to_2_year_weighted                       0\n",
       "0_to_2_year_rat_diff_av                    0\n",
       "0_to_2_year_sd                             0\n",
       "0_to_2_year_count                          0\n",
       "0_to_2_year_mean_count_penalised_1x        0\n",
       "0_to_2_year_mean_count_penalised_1.5x      0\n",
       "0_to_2_year_mean_count_penalised_2x        0\n",
       "0_to_2_year_mean_count_penalised_3x        0\n",
       "0_to_2_year_mean_count_penalised_5x        0\n",
       "0_to_2_year_mean_count_penalised_10x       0\n",
       "0_to_3_year_mean                           0\n",
       "0_to_3_year_rat_diff_av                    0\n",
       "0_to_3_year_sd_adj                         0\n",
       "0_to_3_year_diff_skew                      0\n",
       "0_to_3_year_shape                        438\n",
       "0_to_3_year_scale                        438\n",
       "0_to_3_year_loc                          438\n",
       "0_to_3_year_sd_diff                        0\n",
       "0_to_3_year_low_75_percent_mean            0\n",
       "0_to_3_year_high_75_percent_mean           0\n",
       "0_to_3_year_low_50_percent_mean            0\n",
       "0_to_3_year_high_50_percent_mean           0\n",
       "0_to_3_year_low_25_percent_mean            0\n",
       "0_to_3_year_high_25_percent_mean           0\n",
       "0_to_3_year_low_10_percent_mean            0\n",
       "0_to_3_year_high_10_percent_mean           0\n",
       "0_to_3_year_count                          0\n",
       "0_to_3_year_wd_percent                     0\n",
       "0_to_5_year_mean                           0\n",
       "0_to_5_year_rat_diff_av                    0\n",
       "0_to_5_year_sd_adj                         0\n",
       "0_to_5_year_sd_diff                        0\n",
       "0_to_5_year_diff_skew                      0\n",
       "0_to_5_year_shape                        315\n",
       "0_to_5_year_scale                        315\n",
       "0_to_5_year_loc                          315\n",
       "0_to_5_year_low_25_percent_mean            0\n",
       "0_to_5_year_low_50_percent_mean            0\n",
       "0_to_5_year_low_75_percent_mean            0\n",
       "0_to_5_year_count                          0\n",
       "dtype: int64"
      ]
     },
     "execution_count": 68,
     "metadata": {},
     "output_type": "execute_result"
    }
   ],
   "source": [
    "df4.isnull().sum()"
   ]
  },
  {
   "cell_type": "code",
   "execution_count": 69,
   "id": "586b22d3",
   "metadata": {},
   "outputs": [],
   "source": [
    "cols_to_drop =[\n",
    "\t'0_to_21_month_mean_count_penalised_2x','0_to_2_year_median','0_to_2_year_mean_count_penalised_1x',\n",
    "    '0_to_2_year_mean_count_penalised_1.5x','0_to_2_year_mean_count_penalised_2x',\n",
    "    '0_to_2_year_mean_count_penalised_3x','0_to_2_year_mean_count_penalised_5x',\n",
    "    '0_to_2_year_mean_count_penalised_10x','0_to_2_year_wd_percent','0_to_2_year_rat_diff_av',\n",
    "    '0_to_2_year_weighted','0_to_3_year_median','0_to_3_year_shape','0_to_3_year_scale','0_to_3_year_loc',\n",
    "    '0_to_5_year_shape','0_to_5_year_scale','0_to_5_year_loc',\n",
    "\n",
    "\n",
    "    \n",
    "    \n",
    "]\n",
    "existing_cols_to_drop = [col for col in cols_to_drop if col in df4.columns]\n",
    "df4 = df4.drop(columns=existing_cols_to_drop, axis=1)"
   ]
  },
  {
   "cell_type": "code",
   "execution_count": 70,
   "id": "45aafa33",
   "metadata": {},
   "outputs": [
    {
     "data": {
      "application/vnd.microsoft.datawrangler.viewer.v0+json": {
       "columns": [
        {
         "name": "index",
         "rawType": "object",
         "type": "string"
        },
        {
         "name": "0",
         "rawType": "int64",
         "type": "integer"
        }
       ],
       "ref": "ce654013-57fd-442f-850f-6bfee4118310",
       "rows": [
        [
         "0_to_21_month_count",
         "0"
        ],
        [
         "0_to_2_year_mean",
         "0"
        ],
        [
         "0_to_2_year_sd",
         "0"
        ],
        [
         "0_to_2_year_count",
         "0"
        ],
        [
         "0_to_3_year_mean",
         "0"
        ],
        [
         "0_to_3_year_rat_diff_av",
         "0"
        ],
        [
         "0_to_3_year_sd_adj",
         "0"
        ],
        [
         "0_to_3_year_diff_skew",
         "0"
        ],
        [
         "0_to_3_year_sd_diff",
         "0"
        ],
        [
         "0_to_3_year_low_75_percent_mean",
         "0"
        ],
        [
         "0_to_3_year_high_75_percent_mean",
         "0"
        ],
        [
         "0_to_3_year_low_50_percent_mean",
         "0"
        ],
        [
         "0_to_3_year_high_50_percent_mean",
         "0"
        ],
        [
         "0_to_3_year_low_25_percent_mean",
         "0"
        ],
        [
         "0_to_3_year_high_25_percent_mean",
         "0"
        ],
        [
         "0_to_3_year_low_10_percent_mean",
         "0"
        ],
        [
         "0_to_3_year_high_10_percent_mean",
         "0"
        ],
        [
         "0_to_3_year_count",
         "0"
        ],
        [
         "0_to_3_year_wd_percent",
         "0"
        ],
        [
         "0_to_5_year_mean",
         "0"
        ],
        [
         "0_to_5_year_rat_diff_av",
         "0"
        ],
        [
         "0_to_5_year_sd_adj",
         "0"
        ],
        [
         "0_to_5_year_sd_diff",
         "0"
        ],
        [
         "0_to_5_year_diff_skew",
         "0"
        ],
        [
         "0_to_5_year_low_25_percent_mean",
         "0"
        ],
        [
         "0_to_5_year_low_50_percent_mean",
         "0"
        ],
        [
         "0_to_5_year_low_75_percent_mean",
         "0"
        ],
        [
         "0_to_5_year_count",
         "0"
        ]
       ],
       "shape": {
        "columns": 1,
        "rows": 28
       }
      },
      "text/plain": [
       "0_to_21_month_count                 0\n",
       "0_to_2_year_mean                    0\n",
       "0_to_2_year_sd                      0\n",
       "0_to_2_year_count                   0\n",
       "0_to_3_year_mean                    0\n",
       "0_to_3_year_rat_diff_av             0\n",
       "0_to_3_year_sd_adj                  0\n",
       "0_to_3_year_diff_skew               0\n",
       "0_to_3_year_sd_diff                 0\n",
       "0_to_3_year_low_75_percent_mean     0\n",
       "0_to_3_year_high_75_percent_mean    0\n",
       "0_to_3_year_low_50_percent_mean     0\n",
       "0_to_3_year_high_50_percent_mean    0\n",
       "0_to_3_year_low_25_percent_mean     0\n",
       "0_to_3_year_high_25_percent_mean    0\n",
       "0_to_3_year_low_10_percent_mean     0\n",
       "0_to_3_year_high_10_percent_mean    0\n",
       "0_to_3_year_count                   0\n",
       "0_to_3_year_wd_percent              0\n",
       "0_to_5_year_mean                    0\n",
       "0_to_5_year_rat_diff_av             0\n",
       "0_to_5_year_sd_adj                  0\n",
       "0_to_5_year_sd_diff                 0\n",
       "0_to_5_year_diff_skew               0\n",
       "0_to_5_year_low_25_percent_mean     0\n",
       "0_to_5_year_low_50_percent_mean     0\n",
       "0_to_5_year_low_75_percent_mean     0\n",
       "0_to_5_year_count                   0\n",
       "dtype: int64"
      ]
     },
     "execution_count": 70,
     "metadata": {},
     "output_type": "execute_result"
    }
   ],
   "source": [
    "df4.isnull().sum()"
   ]
  },
  {
   "cell_type": "code",
   "execution_count": 71,
   "id": "db0df08a",
   "metadata": {},
   "outputs": [
    {
     "data": {
      "application/vnd.microsoft.datawrangler.viewer.v0+json": {
       "columns": [
        {
         "name": "index",
         "rawType": "int64",
         "type": "integer"
        },
        {
         "name": "0_to_10_year_mean",
         "rawType": "float64",
         "type": "float"
        },
        {
         "name": "0_to_10_year_rat_diff_av",
         "rawType": "float64",
         "type": "float"
        },
        {
         "name": "0_to_10_year_count",
         "rawType": "int64",
         "type": "integer"
        },
        {
         "name": "0_to_10_year_wd_percent",
         "rawType": "float64",
         "type": "float"
        },
        {
         "name": "0_to_10_year_sd_adj",
         "rawType": "float64",
         "type": "float"
        },
        {
         "name": "0_to_10_year_sd_diff",
         "rawType": "float64",
         "type": "float"
        },
        {
         "name": "0_to_10_year_diff_skew",
         "rawType": "float64",
         "type": "float"
        },
        {
         "name": "0_to_10_year_shape",
         "rawType": "float64",
         "type": "float"
        },
        {
         "name": "0_to_10_year_scale",
         "rawType": "float64",
         "type": "float"
        },
        {
         "name": "0_to_10_year_loc",
         "rawType": "float64",
         "type": "float"
        },
        {
         "name": "year_minus_0_mean",
         "rawType": "float64",
         "type": "float"
        },
        {
         "name": "year_minus_0_sd",
         "rawType": "float64",
         "type": "float"
        },
        {
         "name": "year_minus_0_count",
         "rawType": "int64",
         "type": "integer"
        },
        {
         "name": "year_minus_0_mean_count_penalised_2x",
         "rawType": "float64",
         "type": "float"
        },
        {
         "name": "year_minus_1_mean",
         "rawType": "float64",
         "type": "float"
        },
        {
         "name": "year_minus_1_sd",
         "rawType": "float64",
         "type": "float"
        },
        {
         "name": "year_minus_1_count",
         "rawType": "int64",
         "type": "integer"
        },
        {
         "name": "year_minus_1_mean_count_penalised_2x",
         "rawType": "float64",
         "type": "float"
        },
        {
         "name": "year_minus_2_mean",
         "rawType": "float64",
         "type": "float"
        },
        {
         "name": "year_minus_2_sd",
         "rawType": "float64",
         "type": "float"
        },
        {
         "name": "year_minus_2_count",
         "rawType": "int64",
         "type": "integer"
        },
        {
         "name": "year_minus_2_mean_count_penalised_2x",
         "rawType": "float64",
         "type": "float"
        },
        {
         "name": "year_minus_3_mean",
         "rawType": "float64",
         "type": "float"
        },
        {
         "name": "year_minus_3_sd",
         "rawType": "float64",
         "type": "float"
        },
        {
         "name": "year_minus_3_count",
         "rawType": "int64",
         "type": "integer"
        },
        {
         "name": "year_minus_3_mean_count_penalised_2x",
         "rawType": "float64",
         "type": "float"
        },
        {
         "name": "year_minus_4_mean",
         "rawType": "float64",
         "type": "float"
        },
        {
         "name": "year_minus_4_count",
         "rawType": "int64",
         "type": "integer"
        },
        {
         "name": "year_minus_5_mean",
         "rawType": "float64",
         "type": "float"
        },
        {
         "name": "year_minus_5_count",
         "rawType": "int64",
         "type": "integer"
        },
        {
         "name": "year_minus_6_mean",
         "rawType": "float64",
         "type": "float"
        },
        {
         "name": "year_minus_7_mean",
         "rawType": "float64",
         "type": "float"
        },
        {
         "name": "year_minus_8_mean",
         "rawType": "float64",
         "type": "float"
        },
        {
         "name": "year_minus_9_mean",
         "rawType": "float64",
         "type": "float"
        },
        {
         "name": "year_minus_10_mean",
         "rawType": "float64",
         "type": "float"
        },
        {
         "name": "4_to_6_month_mean",
         "rawType": "float64",
         "type": "float"
        },
        {
         "name": "7_to_9_month_mean",
         "rawType": "float64",
         "type": "float"
        },
        {
         "name": "10_to_12_month_mean",
         "rawType": "float64",
         "type": "float"
        },
        {
         "name": "13_to_15_month_mean",
         "rawType": "float64",
         "type": "float"
        },
        {
         "name": "16_to_18_month_mean",
         "rawType": "float64",
         "type": "float"
        },
        {
         "name": "19_to_21_month_mean",
         "rawType": "float64",
         "type": "float"
        },
        {
         "name": "22_to_24_month_mean",
         "rawType": "float64",
         "type": "float"
        },
        {
         "name": "days_since_median_rd",
         "rawType": "int64",
         "type": "integer"
        },
        {
         "name": "days_since_first_rd",
         "rawType": "int64",
         "type": "integer"
        }
       ],
       "ref": "2baaff91-997c-4fe0-839a-a4a810e4e41c",
       "rows": [
        [
         "0",
         "74.39913575",
         "0.020295664",
         "449",
         "0.008908686",
         "2.71660094",
         "2.740695285",
         "0.142530656",
         "1.018412457",
         "3.333687824",
         "-1.877614729",
         "73.89865941",
         "2.667376987",
         "64",
         "74.14865941",
         "74.07401924",
         "2.6255835",
         "70",
         "74.31306496",
         "74.13141815",
         "2.980714017",
         "56",
         "74.39867939",
         "73.42364084",
         "2.305404722",
         "23",
         "73.84066967",
         "74.01537545",
         "21",
         "74.51926588",
         "69",
         "74.97498302",
         "75.80792681",
         "76.20390453",
         "71.74587117",
         "73.34388715",
         "74.52052396",
         "73.87267505",
         "75.03028769",
         "74.09181178",
         "74.42662552",
         "73.34870231",
         "71.80764084",
         "1581",
         "5845"
        ],
        [
         "1",
         "72.92226979",
         "-0.007251286",
         "818",
         "0.002444988",
         "2.698030647",
         "2.727618706",
         "0.105222136",
         "0.890213849",
         "3.217790196",
         "-1.714374579",
         "73.12412353",
         "2.344676951",
         "64",
         "73.37412353",
         "73.05168966",
         "3.072065442",
         "74",
         "73.28418494",
         "72.64688035",
         "2.460241072",
         "74",
         "72.87937563",
         "72.30931954",
         "2.926658521",
         "66",
         "72.55550252",
         "73.64736677",
         "20",
         "73.75063066",
         "77",
         "73.22503987",
         "73.01685364",
         "72.86148644",
         "72.30575292",
         "73.46936316",
         "72.6033022",
         "73.37687726",
         "75.22402882",
         "73.53458532",
         "72.09865962",
         "72.30804247",
         "74.49859275",
         "2379",
         "6426"
        ],
        [
         "2",
         "74.14012574",
         "0.378462796",
         "230",
         "0.0",
         "2.865346499",
         "2.733677144",
         "0.482854236",
         "2.107421811",
         "3.94416406",
         "-2.464676209",
         "76.08199125",
         "3.093675003",
         "33",
         "76.43014656",
         null,
         null,
         "0",
         null,
         "74.85466449",
         "2.232271178",
         "26",
         "75.24689676",
         "74.30626797",
         "2.360781092",
         "38",
         "74.63071082",
         "73.98050361",
         "16",
         "72.67586454",
         "54",
         "75.02018696",
         "73.55988994",
         null,
         null,
         null,
         "77.04207888",
         "79.61672454",
         "74.44750015",
         null,
         null,
         null,
         null,
         "1910",
         "2821"
        ],
        [
         "3",
         "72.98890411",
         "-0.00366546",
         "726",
         "0.002754821",
         "2.703553942",
         "2.731579314",
         "0.077430489",
         "0.78312343",
         "3.137484423",
         "-1.547130055",
         "72.4571272",
         "2.769177498",
         "55",
         "72.72680714",
         "72.66069802",
         "2.778411354",
         "70",
         "72.89974374",
         "73.06755433",
         "2.672316586",
         "30",
         "73.4327027",
         "73.17621871",
         "2.834925717",
         "27",
         "73.56111889",
         "73.69508264",
         "30",
         "72.87014802",
         "54",
         "73.16803888",
         "74.0667596",
         "73.02549857",
         "72.83037626",
         "73.35885222",
         "73.58958907",
         "71.38591672",
         "72.15112319",
         "73.17161158",
         "72.38626763",
         "72.16340812",
         "71.74447315",
         "3030",
         "6266"
        ],
        [
         "4",
         "72.51509958",
         "-0.114460797",
         "975",
         "0.002051282",
         "2.870561033",
         "2.879568749",
         "-0.036941901",
         null,
         null,
         null,
         "71.49135516",
         "2.893173119",
         "105",
         "71.68653517",
         "71.84577366",
         "2.897017834",
         "83",
         "72.06530218",
         "72.05739187",
         "2.315496011",
         "64",
         "72.30739187",
         "72.53316014",
         "2.671151116",
         "64",
         "72.78316014",
         "72.29145684",
         "47",
         "72.71985526",
         "90",
         "72.5632836",
         "72.43786209",
         "73.28226684",
         "74.07249643",
         "73.6719909",
         "70.6117217",
         "71.55901134",
         "71.93320817",
         "72.09728714",
         "72.08013621",
         "71.18660141",
         "74.87126236",
         "2315",
         "5012"
        ]
       ],
       "shape": {
        "columns": 44,
        "rows": 5
       }
      },
      "text/html": [
       "<div>\n",
       "<style scoped>\n",
       "    .dataframe tbody tr th:only-of-type {\n",
       "        vertical-align: middle;\n",
       "    }\n",
       "\n",
       "    .dataframe tbody tr th {\n",
       "        vertical-align: top;\n",
       "    }\n",
       "\n",
       "    .dataframe thead th {\n",
       "        text-align: right;\n",
       "    }\n",
       "</style>\n",
       "<table border=\"1\" class=\"dataframe\">\n",
       "  <thead>\n",
       "    <tr style=\"text-align: right;\">\n",
       "      <th></th>\n",
       "      <th>0_to_10_year_mean</th>\n",
       "      <th>0_to_10_year_rat_diff_av</th>\n",
       "      <th>0_to_10_year_count</th>\n",
       "      <th>0_to_10_year_wd_percent</th>\n",
       "      <th>0_to_10_year_sd_adj</th>\n",
       "      <th>0_to_10_year_sd_diff</th>\n",
       "      <th>0_to_10_year_diff_skew</th>\n",
       "      <th>0_to_10_year_shape</th>\n",
       "      <th>0_to_10_year_scale</th>\n",
       "      <th>0_to_10_year_loc</th>\n",
       "      <th>...</th>\n",
       "      <th>year_minus_10_mean</th>\n",
       "      <th>4_to_6_month_mean</th>\n",
       "      <th>7_to_9_month_mean</th>\n",
       "      <th>10_to_12_month_mean</th>\n",
       "      <th>13_to_15_month_mean</th>\n",
       "      <th>16_to_18_month_mean</th>\n",
       "      <th>19_to_21_month_mean</th>\n",
       "      <th>22_to_24_month_mean</th>\n",
       "      <th>days_since_median_rd</th>\n",
       "      <th>days_since_first_rd</th>\n",
       "    </tr>\n",
       "  </thead>\n",
       "  <tbody>\n",
       "    <tr>\n",
       "      <th>0</th>\n",
       "      <td>74.399136</td>\n",
       "      <td>0.020296</td>\n",
       "      <td>449</td>\n",
       "      <td>0.008909</td>\n",
       "      <td>2.716601</td>\n",
       "      <td>2.740695</td>\n",
       "      <td>0.142531</td>\n",
       "      <td>1.018412</td>\n",
       "      <td>3.333688</td>\n",
       "      <td>-1.877615</td>\n",
       "      <td>...</td>\n",
       "      <td>73.343887</td>\n",
       "      <td>74.520524</td>\n",
       "      <td>73.872675</td>\n",
       "      <td>75.030288</td>\n",
       "      <td>74.091812</td>\n",
       "      <td>74.426626</td>\n",
       "      <td>73.348702</td>\n",
       "      <td>71.807641</td>\n",
       "      <td>1581</td>\n",
       "      <td>5845</td>\n",
       "    </tr>\n",
       "    <tr>\n",
       "      <th>1</th>\n",
       "      <td>72.922270</td>\n",
       "      <td>-0.007251</td>\n",
       "      <td>818</td>\n",
       "      <td>0.002445</td>\n",
       "      <td>2.698031</td>\n",
       "      <td>2.727619</td>\n",
       "      <td>0.105222</td>\n",
       "      <td>0.890214</td>\n",
       "      <td>3.217790</td>\n",
       "      <td>-1.714375</td>\n",
       "      <td>...</td>\n",
       "      <td>73.469363</td>\n",
       "      <td>72.603302</td>\n",
       "      <td>73.376877</td>\n",
       "      <td>75.224029</td>\n",
       "      <td>73.534585</td>\n",
       "      <td>72.098660</td>\n",
       "      <td>72.308042</td>\n",
       "      <td>74.498593</td>\n",
       "      <td>2379</td>\n",
       "      <td>6426</td>\n",
       "    </tr>\n",
       "    <tr>\n",
       "      <th>2</th>\n",
       "      <td>74.140126</td>\n",
       "      <td>0.378463</td>\n",
       "      <td>230</td>\n",
       "      <td>0.000000</td>\n",
       "      <td>2.865346</td>\n",
       "      <td>2.733677</td>\n",
       "      <td>0.482854</td>\n",
       "      <td>2.107422</td>\n",
       "      <td>3.944164</td>\n",
       "      <td>-2.464676</td>\n",
       "      <td>...</td>\n",
       "      <td>NaN</td>\n",
       "      <td>77.042079</td>\n",
       "      <td>79.616725</td>\n",
       "      <td>74.447500</td>\n",
       "      <td>NaN</td>\n",
       "      <td>NaN</td>\n",
       "      <td>NaN</td>\n",
       "      <td>NaN</td>\n",
       "      <td>1910</td>\n",
       "      <td>2821</td>\n",
       "    </tr>\n",
       "    <tr>\n",
       "      <th>3</th>\n",
       "      <td>72.988904</td>\n",
       "      <td>-0.003665</td>\n",
       "      <td>726</td>\n",
       "      <td>0.002755</td>\n",
       "      <td>2.703554</td>\n",
       "      <td>2.731579</td>\n",
       "      <td>0.077430</td>\n",
       "      <td>0.783123</td>\n",
       "      <td>3.137484</td>\n",
       "      <td>-1.547130</td>\n",
       "      <td>...</td>\n",
       "      <td>73.358852</td>\n",
       "      <td>73.589589</td>\n",
       "      <td>71.385917</td>\n",
       "      <td>72.151123</td>\n",
       "      <td>73.171612</td>\n",
       "      <td>72.386268</td>\n",
       "      <td>72.163408</td>\n",
       "      <td>71.744473</td>\n",
       "      <td>3030</td>\n",
       "      <td>6266</td>\n",
       "    </tr>\n",
       "    <tr>\n",
       "      <th>4</th>\n",
       "      <td>72.515100</td>\n",
       "      <td>-0.114461</td>\n",
       "      <td>975</td>\n",
       "      <td>0.002051</td>\n",
       "      <td>2.870561</td>\n",
       "      <td>2.879569</td>\n",
       "      <td>-0.036942</td>\n",
       "      <td>NaN</td>\n",
       "      <td>NaN</td>\n",
       "      <td>NaN</td>\n",
       "      <td>...</td>\n",
       "      <td>73.671991</td>\n",
       "      <td>70.611722</td>\n",
       "      <td>71.559011</td>\n",
       "      <td>71.933208</td>\n",
       "      <td>72.097287</td>\n",
       "      <td>72.080136</td>\n",
       "      <td>71.186601</td>\n",
       "      <td>74.871262</td>\n",
       "      <td>2315</td>\n",
       "      <td>5012</td>\n",
       "    </tr>\n",
       "  </tbody>\n",
       "</table>\n",
       "<p>5 rows × 44 columns</p>\n",
       "</div>"
      ],
      "text/plain": [
       "   0_to_10_year_mean  0_to_10_year_rat_diff_av  0_to_10_year_count  \\\n",
       "0          74.399136                  0.020296                 449   \n",
       "1          72.922270                 -0.007251                 818   \n",
       "2          74.140126                  0.378463                 230   \n",
       "3          72.988904                 -0.003665                 726   \n",
       "4          72.515100                 -0.114461                 975   \n",
       "\n",
       "   0_to_10_year_wd_percent  0_to_10_year_sd_adj  0_to_10_year_sd_diff  \\\n",
       "0                 0.008909             2.716601              2.740695   \n",
       "1                 0.002445             2.698031              2.727619   \n",
       "2                 0.000000             2.865346              2.733677   \n",
       "3                 0.002755             2.703554              2.731579   \n",
       "4                 0.002051             2.870561              2.879569   \n",
       "\n",
       "   0_to_10_year_diff_skew  0_to_10_year_shape  0_to_10_year_scale  \\\n",
       "0                0.142531            1.018412            3.333688   \n",
       "1                0.105222            0.890214            3.217790   \n",
       "2                0.482854            2.107422            3.944164   \n",
       "3                0.077430            0.783123            3.137484   \n",
       "4               -0.036942                 NaN                 NaN   \n",
       "\n",
       "   0_to_10_year_loc  ...  year_minus_10_mean  4_to_6_month_mean  \\\n",
       "0         -1.877615  ...           73.343887          74.520524   \n",
       "1         -1.714375  ...           73.469363          72.603302   \n",
       "2         -2.464676  ...                 NaN          77.042079   \n",
       "3         -1.547130  ...           73.358852          73.589589   \n",
       "4               NaN  ...           73.671991          70.611722   \n",
       "\n",
       "   7_to_9_month_mean  10_to_12_month_mean  13_to_15_month_mean  \\\n",
       "0          73.872675            75.030288            74.091812   \n",
       "1          73.376877            75.224029            73.534585   \n",
       "2          79.616725            74.447500                  NaN   \n",
       "3          71.385917            72.151123            73.171612   \n",
       "4          71.559011            71.933208            72.097287   \n",
       "\n",
       "   16_to_18_month_mean  19_to_21_month_mean  22_to_24_month_mean  \\\n",
       "0            74.426626            73.348702            71.807641   \n",
       "1            72.098660            72.308042            74.498593   \n",
       "2                  NaN                  NaN                  NaN   \n",
       "3            72.386268            72.163408            71.744473   \n",
       "4            72.080136            71.186601            74.871262   \n",
       "\n",
       "   days_since_median_rd  days_since_first_rd  \n",
       "0                  1581                 5845  \n",
       "1                  2379                 6426  \n",
       "2                  1910                 2821  \n",
       "3                  3030                 6266  \n",
       "4                  2315                 5012  \n",
       "\n",
       "[5 rows x 44 columns]"
      ]
     },
     "execution_count": 71,
     "metadata": {},
     "output_type": "execute_result"
    }
   ],
   "source": [
    "df5 = pd.read_csv('data/columns_part_5.csv')\n",
    "df5.head()"
   ]
  },
  {
   "cell_type": "code",
   "execution_count": 72,
   "id": "99418c0c",
   "metadata": {},
   "outputs": [
    {
     "data": {
      "application/vnd.microsoft.datawrangler.viewer.v0+json": {
       "columns": [
        {
         "name": "index",
         "rawType": "object",
         "type": "string"
        },
        {
         "name": "0",
         "rawType": "int64",
         "type": "integer"
        }
       ],
       "ref": "d0cd7bf6-3c3c-4899-9f67-b7427aace5c1",
       "rows": [
        [
         "0_to_10_year_mean",
         "0"
        ],
        [
         "0_to_10_year_rat_diff_av",
         "0"
        ],
        [
         "0_to_10_year_count",
         "0"
        ],
        [
         "0_to_10_year_wd_percent",
         "0"
        ],
        [
         "0_to_10_year_sd_adj",
         "0"
        ],
        [
         "0_to_10_year_sd_diff",
         "0"
        ],
        [
         "0_to_10_year_diff_skew",
         "0"
        ],
        [
         "0_to_10_year_shape",
         "177"
        ],
        [
         "0_to_10_year_scale",
         "177"
        ],
        [
         "0_to_10_year_loc",
         "177"
        ],
        [
         "year_minus_0_mean",
         "0"
        ],
        [
         "year_minus_0_sd",
         "0"
        ],
        [
         "year_minus_0_count",
         "0"
        ],
        [
         "year_minus_0_mean_count_penalised_2x",
         "0"
        ],
        [
         "year_minus_1_mean",
         "45"
        ],
        [
         "year_minus_1_sd",
         "45"
        ],
        [
         "year_minus_1_count",
         "0"
        ],
        [
         "year_minus_1_mean_count_penalised_2x",
         "45"
        ],
        [
         "year_minus_2_mean",
         "23"
        ],
        [
         "year_minus_2_sd",
         "23"
        ],
        [
         "year_minus_2_count",
         "0"
        ],
        [
         "year_minus_2_mean_count_penalised_2x",
         "23"
        ],
        [
         "year_minus_3_mean",
         "0"
        ],
        [
         "year_minus_3_sd",
         "0"
        ],
        [
         "year_minus_3_count",
         "0"
        ],
        [
         "year_minus_3_mean_count_penalised_2x",
         "0"
        ],
        [
         "year_minus_4_mean",
         "107"
        ],
        [
         "year_minus_4_count",
         "0"
        ],
        [
         "year_minus_5_mean",
         "109"
        ],
        [
         "year_minus_5_count",
         "0"
        ],
        [
         "year_minus_6_mean",
         "197"
        ],
        [
         "year_minus_7_mean",
         "476"
        ],
        [
         "year_minus_8_mean",
         "446"
        ],
        [
         "year_minus_9_mean",
         "696"
        ],
        [
         "year_minus_10_mean",
         "959"
        ],
        [
         "4_to_6_month_mean",
         "0"
        ],
        [
         "7_to_9_month_mean",
         "28"
        ],
        [
         "10_to_12_month_mean",
         "533"
        ],
        [
         "13_to_15_month_mean",
         "118"
        ],
        [
         "16_to_18_month_mean",
         "78"
        ],
        [
         "19_to_21_month_mean",
         "96"
        ],
        [
         "22_to_24_month_mean",
         "668"
        ],
        [
         "days_since_median_rd",
         "0"
        ],
        [
         "days_since_first_rd",
         "0"
        ]
       ],
       "shape": {
        "columns": 1,
        "rows": 44
       }
      },
      "text/plain": [
       "0_to_10_year_mean                         0\n",
       "0_to_10_year_rat_diff_av                  0\n",
       "0_to_10_year_count                        0\n",
       "0_to_10_year_wd_percent                   0\n",
       "0_to_10_year_sd_adj                       0\n",
       "0_to_10_year_sd_diff                      0\n",
       "0_to_10_year_diff_skew                    0\n",
       "0_to_10_year_shape                      177\n",
       "0_to_10_year_scale                      177\n",
       "0_to_10_year_loc                        177\n",
       "year_minus_0_mean                         0\n",
       "year_minus_0_sd                           0\n",
       "year_minus_0_count                        0\n",
       "year_minus_0_mean_count_penalised_2x      0\n",
       "year_minus_1_mean                        45\n",
       "year_minus_1_sd                          45\n",
       "year_minus_1_count                        0\n",
       "year_minus_1_mean_count_penalised_2x     45\n",
       "year_minus_2_mean                        23\n",
       "year_minus_2_sd                          23\n",
       "year_minus_2_count                        0\n",
       "year_minus_2_mean_count_penalised_2x     23\n",
       "year_minus_3_mean                         0\n",
       "year_minus_3_sd                           0\n",
       "year_minus_3_count                        0\n",
       "year_minus_3_mean_count_penalised_2x      0\n",
       "year_minus_4_mean                       107\n",
       "year_minus_4_count                        0\n",
       "year_minus_5_mean                       109\n",
       "year_minus_5_count                        0\n",
       "year_minus_6_mean                       197\n",
       "year_minus_7_mean                       476\n",
       "year_minus_8_mean                       446\n",
       "year_minus_9_mean                       696\n",
       "year_minus_10_mean                      959\n",
       "4_to_6_month_mean                         0\n",
       "7_to_9_month_mean                        28\n",
       "10_to_12_month_mean                     533\n",
       "13_to_15_month_mean                     118\n",
       "16_to_18_month_mean                      78\n",
       "19_to_21_month_mean                      96\n",
       "22_to_24_month_mean                     668\n",
       "days_since_median_rd                      0\n",
       "days_since_first_rd                       0\n",
       "dtype: int64"
      ]
     },
     "execution_count": 72,
     "metadata": {},
     "output_type": "execute_result"
    }
   ],
   "source": [
    "df5.isnull().sum()"
   ]
  },
  {
   "cell_type": "code",
   "execution_count": 73,
   "id": "91916a88",
   "metadata": {},
   "outputs": [],
   "source": [
    "cols_to_drop =[\n",
    "\t'0_to_10_year_shape','0_to_10_year_scale','0_to_10_year_loc','year_minus_0_mean_count_penalised_2x',\n",
    "    'year_minus_1_mean','year_minus_1_mean_count_penalised_2x','year_minus_3_mean_count_penalised_2x',\n",
    "    'year_minus_2_mean_count_penalised_2x','year_minus_5_mean','year_minus_4_mean','year_minus_6_mean',\n",
    "    'year_minus_7_mean','year_minus_8_mean','year_minus_9_mean','year_minus_10_mean',\n",
    "    '7_to_9_month_mean','10_to_12_month_mean','13_to_15_month_mean',\n",
    "    '16_to_18_month_mean','19_to_21_month_mean','22_to_24_month_mean',\n",
    "\n",
    "\n",
    "\n",
    "\n",
    "\n",
    "\n",
    "    \n",
    "    \n",
    "]\n",
    "existing_cols_to_drop = [col for col in cols_to_drop if col in df5.columns]\n",
    "df5 = df5.drop(columns=existing_cols_to_drop, axis=1)"
   ]
  },
  {
   "cell_type": "code",
   "execution_count": 74,
   "id": "0f2acda0",
   "metadata": {},
   "outputs": [],
   "source": [
    "df5.fillna(0, inplace=True)"
   ]
  },
  {
   "cell_type": "code",
   "execution_count": 75,
   "id": "1a14e145",
   "metadata": {},
   "outputs": [
    {
     "data": {
      "application/vnd.microsoft.datawrangler.viewer.v0+json": {
       "columns": [
        {
         "name": "index",
         "rawType": "object",
         "type": "string"
        },
        {
         "name": "0",
         "rawType": "int64",
         "type": "integer"
        }
       ],
       "ref": "0c00307d-a6b8-48e6-8aa3-68747417d6ec",
       "rows": [
        [
         "0_to_10_year_mean",
         "0"
        ],
        [
         "0_to_10_year_rat_diff_av",
         "0"
        ],
        [
         "0_to_10_year_count",
         "0"
        ],
        [
         "0_to_10_year_wd_percent",
         "0"
        ],
        [
         "0_to_10_year_sd_adj",
         "0"
        ],
        [
         "0_to_10_year_sd_diff",
         "0"
        ],
        [
         "0_to_10_year_diff_skew",
         "0"
        ],
        [
         "year_minus_0_mean",
         "0"
        ],
        [
         "year_minus_0_sd",
         "0"
        ],
        [
         "year_minus_0_count",
         "0"
        ],
        [
         "year_minus_1_sd",
         "0"
        ],
        [
         "year_minus_1_count",
         "0"
        ],
        [
         "year_minus_2_mean",
         "0"
        ],
        [
         "year_minus_2_sd",
         "0"
        ],
        [
         "year_minus_2_count",
         "0"
        ],
        [
         "year_minus_3_mean",
         "0"
        ],
        [
         "year_minus_3_sd",
         "0"
        ],
        [
         "year_minus_3_count",
         "0"
        ],
        [
         "year_minus_4_count",
         "0"
        ],
        [
         "year_minus_5_count",
         "0"
        ],
        [
         "4_to_6_month_mean",
         "0"
        ],
        [
         "days_since_median_rd",
         "0"
        ],
        [
         "days_since_first_rd",
         "0"
        ]
       ],
       "shape": {
        "columns": 1,
        "rows": 23
       }
      },
      "text/plain": [
       "0_to_10_year_mean           0\n",
       "0_to_10_year_rat_diff_av    0\n",
       "0_to_10_year_count          0\n",
       "0_to_10_year_wd_percent     0\n",
       "0_to_10_year_sd_adj         0\n",
       "0_to_10_year_sd_diff        0\n",
       "0_to_10_year_diff_skew      0\n",
       "year_minus_0_mean           0\n",
       "year_minus_0_sd             0\n",
       "year_minus_0_count          0\n",
       "year_minus_1_sd             0\n",
       "year_minus_1_count          0\n",
       "year_minus_2_mean           0\n",
       "year_minus_2_sd             0\n",
       "year_minus_2_count          0\n",
       "year_minus_3_mean           0\n",
       "year_minus_3_sd             0\n",
       "year_minus_3_count          0\n",
       "year_minus_4_count          0\n",
       "year_minus_5_count          0\n",
       "4_to_6_month_mean           0\n",
       "days_since_median_rd        0\n",
       "days_since_first_rd         0\n",
       "dtype: int64"
      ]
     },
     "execution_count": 75,
     "metadata": {},
     "output_type": "execute_result"
    }
   ],
   "source": [
    "df5.isnull().sum()"
   ]
  },
  {
   "cell_type": "code",
   "execution_count": 76,
   "id": "797c8388",
   "metadata": {},
   "outputs": [
    {
     "data": {
      "application/vnd.microsoft.datawrangler.viewer.v0+json": {
       "columns": [
        {
         "name": "index",
         "rawType": "int64",
         "type": "integer"
        },
        {
         "name": "adj_score",
         "rawType": "float64",
         "type": "float"
        },
        {
         "name": "rd_score",
         "rawType": "int64",
         "type": "integer"
        },
        {
         "name": "season_phase",
         "rawType": "int64",
         "type": "integer"
        },
        {
         "name": "tournament_tier_field_strength",
         "rawType": "int64",
         "type": "integer"
        },
        {
         "name": "tournament_tier_top50_av",
         "rawType": "int64",
         "type": "integer"
        },
        {
         "name": "elo_rating_pre_rd",
         "rawType": "int64",
         "type": "integer"
        },
        {
         "name": "wd_percentage_adj",
         "rawType": "float64",
         "type": "float"
        },
        {
         "name": "field_strength",
         "rawType": "float64",
         "type": "float"
        },
        {
         "name": "tour_tier",
         "rawType": "int64",
         "type": "integer"
        },
        {
         "name": "tour_0_to_1_year_count",
         "rawType": "int64",
         "type": "integer"
        },
        {
         "name": "tour_0_to_10_year_count",
         "rawType": "int64",
         "type": "integer"
        },
        {
         "name": "1_tournament_mean",
         "rawType": "float64",
         "type": "float"
        },
        {
         "name": "1_tournament_count",
         "rawType": "int64",
         "type": "integer"
        },
        {
         "name": "1_rd_mean",
         "rawType": "float64",
         "type": "float"
        },
        {
         "name": "days_since_1_rd",
         "rawType": "int64",
         "type": "integer"
        },
        {
         "name": "2_to_4_rd_mean",
         "rawType": "float64",
         "type": "float"
        },
        {
         "name": "5_to_12_rd_mean",
         "rawType": "float64",
         "type": "float"
        },
        {
         "name": "13_to_28_rd_mean",
         "rawType": "float64",
         "type": "float"
        },
        {
         "name": "29_to_60_rd_mean",
         "rawType": "float64",
         "type": "float"
        },
        {
         "name": "61_to_120_rd_mean",
         "rawType": "float64",
         "type": "float"
        },
        {
         "name": "121_to_240_rd_mean",
         "rawType": "float64",
         "type": "float"
        },
        {
         "name": "1_to_20_rd_mean",
         "rawType": "float64",
         "type": "float"
        },
        {
         "name": "0_to_20_rd_sd",
         "rawType": "float64",
         "type": "float"
        },
        {
         "name": "1_to_50_rd_mean",
         "rawType": "float64",
         "type": "float"
        },
        {
         "name": "1_to_50_rd_sd",
         "rawType": "float64",
         "type": "float"
        },
        {
         "name": "days_since_50_rd",
         "rawType": "int64",
         "type": "integer"
        },
        {
         "name": "1_to_50_rd_mean_days_penalty_5x",
         "rawType": "float64",
         "type": "float"
        },
        {
         "name": "1_to_100_rd_mean",
         "rawType": "float64",
         "type": "float"
        },
        {
         "name": "1_to_100_rd_sd",
         "rawType": "float64",
         "type": "float"
        },
        {
         "name": "days_since_100_rd",
         "rawType": "int64",
         "type": "integer"
        },
        {
         "name": "1_to_100_rd_mean_days_penalty_15x",
         "rawType": "float64",
         "type": "float"
        },
        {
         "name": "1_to_200_rd_mean",
         "rawType": "float64",
         "type": "float"
        },
        {
         "name": "1_to_200_rd_sd",
         "rawType": "float64",
         "type": "float"
        },
        {
         "name": "1_to_500_rd_mean",
         "rawType": "float64",
         "type": "float"
        },
        {
         "name": "1_to_500_rd_sd",
         "rawType": "float64",
         "type": "float"
        },
        {
         "name": "0_to_4Week_mean",
         "rawType": "float64",
         "type": "float"
        },
        {
         "name": "0_to_4_week_rat_diff_av",
         "rawType": "float64",
         "type": "float"
        },
        {
         "name": "0_to_4_week_sd",
         "rawType": "float64",
         "type": "float"
        },
        {
         "name": "0_to_4Week_count",
         "rawType": "int64",
         "type": "integer"
        },
        {
         "name": "0_to_3_month_mean",
         "rawType": "float64",
         "type": "float"
        },
        {
         "name": "0_to_3_month_sd",
         "rawType": "float64",
         "type": "float"
        },
        {
         "name": "0_to_3_month_count",
         "rawType": "int64",
         "type": "integer"
        },
        {
         "name": "0_to_6_month_mean",
         "rawType": "float64",
         "type": "float"
        },
        {
         "name": "0_to_6_month_weighted",
         "rawType": "float64",
         "type": "float"
        },
        {
         "name": "0_to_6_month_rat_diff_av",
         "rawType": "float64",
         "type": "float"
        },
        {
         "name": "0_to_6_month_sd",
         "rawType": "float64",
         "type": "float"
        },
        {
         "name": "0_to_6_month_count",
         "rawType": "int64",
         "type": "integer"
        },
        {
         "name": "0_to_9_month_mean",
         "rawType": "float64",
         "type": "float"
        },
        {
         "name": "0_to_9_month_weighted",
         "rawType": "float64",
         "type": "float"
        },
        {
         "name": "0_to_9_month_rat_diff_av",
         "rawType": "float64",
         "type": "float"
        },
        {
         "name": "0_to_9_month_sd",
         "rawType": "float64",
         "type": "float"
        },
        {
         "name": "0_to_9_month_count",
         "rawType": "int64",
         "type": "integer"
        },
        {
         "name": "0_to_1_year_mean",
         "rawType": "float64",
         "type": "float"
        },
        {
         "name": "0_to_1_year_sd_adj",
         "rawType": "float64",
         "type": "float"
        },
        {
         "name": "0_to_1_year_sd_diff",
         "rawType": "float64",
         "type": "float"
        },
        {
         "name": "0_to_1_year_count",
         "rawType": "int64",
         "type": "integer"
        },
        {
         "name": "0_to_15_month_mean",
         "rawType": "float64",
         "type": "float"
        },
        {
         "name": "0_to_15_month_weighted",
         "rawType": "float64",
         "type": "float"
        },
        {
         "name": "0_to_15_month_rat_diff_av",
         "rawType": "float64",
         "type": "float"
        },
        {
         "name": "0_to_15_month_sd",
         "rawType": "float64",
         "type": "float"
        },
        {
         "name": "0_to_15_month_count",
         "rawType": "int64",
         "type": "integer"
        },
        {
         "name": "0_to_18_month_mean",
         "rawType": "float64",
         "type": "float"
        },
        {
         "name": "0_to_18_month_weighted",
         "rawType": "float64",
         "type": "float"
        },
        {
         "name": "0_to_18_month_rat_diff_av",
         "rawType": "float64",
         "type": "float"
        },
        {
         "name": "0_to_18_month_sd",
         "rawType": "float64",
         "type": "float"
        },
        {
         "name": "0_to_18_month_count",
         "rawType": "int64",
         "type": "integer"
        },
        {
         "name": "0_to_21_month_mean",
         "rawType": "float64",
         "type": "float"
        },
        {
         "name": "0_to_21_month_weighted",
         "rawType": "float64",
         "type": "float"
        },
        {
         "name": "0_to_21_month_rat_diff_av",
         "rawType": "float64",
         "type": "float"
        },
        {
         "name": "0_to_21_month_sd",
         "rawType": "float64",
         "type": "float"
        },
        {
         "name": "0_to_21_month_count",
         "rawType": "int64",
         "type": "integer"
        },
        {
         "name": "0_to_2_year_mean",
         "rawType": "float64",
         "type": "float"
        },
        {
         "name": "0_to_2_year_sd",
         "rawType": "float64",
         "type": "float"
        },
        {
         "name": "0_to_2_year_count",
         "rawType": "int64",
         "type": "integer"
        },
        {
         "name": "0_to_3_year_mean",
         "rawType": "float64",
         "type": "float"
        },
        {
         "name": "0_to_3_year_rat_diff_av",
         "rawType": "float64",
         "type": "float"
        },
        {
         "name": "0_to_3_year_sd_adj",
         "rawType": "float64",
         "type": "float"
        },
        {
         "name": "0_to_3_year_diff_skew",
         "rawType": "float64",
         "type": "float"
        },
        {
         "name": "0_to_3_year_sd_diff",
         "rawType": "float64",
         "type": "float"
        },
        {
         "name": "0_to_3_year_low_75_percent_mean",
         "rawType": "float64",
         "type": "float"
        },
        {
         "name": "0_to_3_year_high_75_percent_mean",
         "rawType": "float64",
         "type": "float"
        },
        {
         "name": "0_to_3_year_low_50_percent_mean",
         "rawType": "float64",
         "type": "float"
        },
        {
         "name": "0_to_3_year_high_50_percent_mean",
         "rawType": "float64",
         "type": "float"
        },
        {
         "name": "0_to_3_year_low_25_percent_mean",
         "rawType": "float64",
         "type": "float"
        },
        {
         "name": "0_to_3_year_high_25_percent_mean",
         "rawType": "float64",
         "type": "float"
        },
        {
         "name": "0_to_3_year_low_10_percent_mean",
         "rawType": "float64",
         "type": "float"
        },
        {
         "name": "0_to_3_year_high_10_percent_mean",
         "rawType": "float64",
         "type": "float"
        },
        {
         "name": "0_to_3_year_count",
         "rawType": "int64",
         "type": "integer"
        },
        {
         "name": "0_to_3_year_wd_percent",
         "rawType": "float64",
         "type": "float"
        },
        {
         "name": "0_to_5_year_mean",
         "rawType": "float64",
         "type": "float"
        },
        {
         "name": "0_to_5_year_rat_diff_av",
         "rawType": "float64",
         "type": "float"
        },
        {
         "name": "0_to_5_year_sd_adj",
         "rawType": "float64",
         "type": "float"
        },
        {
         "name": "0_to_5_year_sd_diff",
         "rawType": "float64",
         "type": "float"
        },
        {
         "name": "0_to_5_year_diff_skew",
         "rawType": "float64",
         "type": "float"
        },
        {
         "name": "0_to_5_year_low_25_percent_mean",
         "rawType": "float64",
         "type": "float"
        },
        {
         "name": "0_to_5_year_low_50_percent_mean",
         "rawType": "float64",
         "type": "float"
        },
        {
         "name": "0_to_5_year_low_75_percent_mean",
         "rawType": "float64",
         "type": "float"
        },
        {
         "name": "0_to_5_year_count",
         "rawType": "int64",
         "type": "integer"
        },
        {
         "name": "0_to_10_year_mean",
         "rawType": "float64",
         "type": "float"
        },
        {
         "name": "0_to_10_year_rat_diff_av",
         "rawType": "float64",
         "type": "float"
        },
        {
         "name": "0_to_10_year_count",
         "rawType": "int64",
         "type": "integer"
        },
        {
         "name": "0_to_10_year_wd_percent",
         "rawType": "float64",
         "type": "float"
        },
        {
         "name": "0_to_10_year_sd_adj",
         "rawType": "float64",
         "type": "float"
        },
        {
         "name": "0_to_10_year_sd_diff",
         "rawType": "float64",
         "type": "float"
        },
        {
         "name": "0_to_10_year_diff_skew",
         "rawType": "float64",
         "type": "float"
        },
        {
         "name": "year_minus_0_mean",
         "rawType": "float64",
         "type": "float"
        },
        {
         "name": "year_minus_0_sd",
         "rawType": "float64",
         "type": "float"
        },
        {
         "name": "year_minus_0_count",
         "rawType": "int64",
         "type": "integer"
        },
        {
         "name": "year_minus_1_sd",
         "rawType": "float64",
         "type": "float"
        },
        {
         "name": "year_minus_1_count",
         "rawType": "int64",
         "type": "integer"
        },
        {
         "name": "year_minus_2_mean",
         "rawType": "float64",
         "type": "float"
        },
        {
         "name": "year_minus_2_sd",
         "rawType": "float64",
         "type": "float"
        },
        {
         "name": "year_minus_2_count",
         "rawType": "int64",
         "type": "integer"
        },
        {
         "name": "year_minus_3_mean",
         "rawType": "float64",
         "type": "float"
        },
        {
         "name": "year_minus_3_sd",
         "rawType": "float64",
         "type": "float"
        },
        {
         "name": "year_minus_3_count",
         "rawType": "int64",
         "type": "integer"
        },
        {
         "name": "year_minus_4_count",
         "rawType": "int64",
         "type": "integer"
        },
        {
         "name": "year_minus_5_count",
         "rawType": "int64",
         "type": "integer"
        },
        {
         "name": "4_to_6_month_mean",
         "rawType": "float64",
         "type": "float"
        },
        {
         "name": "days_since_median_rd",
         "rawType": "int64",
         "type": "integer"
        },
        {
         "name": "days_since_first_rd",
         "rawType": "int64",
         "type": "integer"
        }
       ],
       "ref": "2467376e-a98e-4883-bb90-3c7a97986dc8",
       "rows": [
        [
         "0",
         "73.21539165",
         "72",
         "0",
         "9",
         "13",
         "1274",
         "0.013216085",
         "75.56473612",
         "15",
         "26",
         "135",
         "74.21385577",
         "3",
         "70.82211257",
         "1",
         "73.96255131",
         "73.39020308",
         "75.37443456",
         "73.82730776",
         "74.05159491",
         "74.01794147",
         "73.97774268",
         "2.550378851",
         "74.22883137",
         "2.430071466",
         "231",
         "73.89985552",
         "74.18607659",
         "2.683092848",
         "546",
         "73.54413585",
         "73.97156196",
         "2.721837214",
         "74.57428457",
         "4.582610847",
         "73.55421521",
         "-0.532311683",
         "1.663656564",
         "5",
         "73.81138067",
         "2.600079491",
         "21",
         "74.47186102",
         "74.20519865",
         "0.393106359",
         "2.45113486",
         "38",
         "74.30566327",
         "74.25847662",
         "0.259828653",
         "2.43493531",
         "52",
         "74.00379636",
         "2.696857346",
         "2.703160619",
         "67",
         "74.04667839",
         "74.10765792",
         "0.02271426",
         "2.687327676",
         "81",
         "74.18607659",
         "74.12206872",
         "0.207367182",
         "2.683092848",
         "100",
         "74.01981781",
         "74.10521265",
         "0.068299928",
         "2.689240271",
         "126",
         "73.99026529",
         "2.637114104",
         "134",
         "74.03186824",
         "0.140601262",
         "2.735591689",
         "0.068794355",
         "2.763084255",
         "72.88527984",
         "75.20698363",
         "71.80372663",
         "76.26000985",
         "70.55548522",
         "77.42385892",
         "69.35407214",
         "78.86547323",
         "190",
         "0.015789474",
         "73.97060508",
         "0.020295664",
         "2.71660094",
         "2.740695285",
         "0.041354783",
         "70.52897003",
         "71.80532843",
         "72.85783447",
         "234",
         "74.39913575",
         "0.020295664",
         "449",
         "0.008908686",
         "2.71660094",
         "2.740695285",
         "0.142530656",
         "73.89865941",
         "2.667376987",
         "64",
         "2.6255835",
         "70",
         "74.13141815",
         "2.980714017",
         "56",
         "73.42364084",
         "2.305404722",
         "23",
         "21",
         "69",
         "74.52052396",
         "1581",
         "5845"
        ],
        [
         "1",
         "73.21539165",
         "72",
         "0",
         "9",
         "13",
         "1271",
         "0.00629101",
         "75.56473612",
         "15",
         "20",
         "82",
         "72.84784043",
         "3",
         "76.89257936",
         "1",
         "73.30611049",
         "73.45046291",
         "73.36876756",
         "73.1977175",
         "73.16381055",
         "72.56886362",
         "73.62270389",
         "2.597272162",
         "73.16823328",
         "2.488038695",
         "218",
         "72.82959055",
         "73.35923866",
         "2.829707526",
         "511",
         "72.69567772",
         "72.97731266",
         "2.693750668",
         "73.06620544",
         "2.711705421",
         "73.34620696",
         "0.087906665",
         "3.111949303",
         "5",
         "73.48527094",
         "2.675944136",
         "22",
         "73.09722796",
         "73.38145767",
         "-0.207334295",
         "2.608283745",
         "43",
         "73.20318809",
         "73.26324749",
         "-0.058120945",
         "2.408550602",
         "56",
         "73.22482535",
         "2.463892674",
         "2.501665816",
         "66",
         "73.3322696",
         "73.25294652",
         "0.211653289",
         "2.633192963",
         "86",
         "73.19849317",
         "73.28357213",
         "0.177968662",
         "2.809743841",
         "113",
         "73.05387528",
         "73.23426564",
         "0.049021029",
         "2.748588119",
         "135",
         "73.08528218",
         "2.749209539",
         "138",
         "72.93767629",
         "0.167693653",
         "2.643405313",
         "0.238135879",
         "2.727618706",
         "71.78353783",
         "74.04081748",
         "70.81508686",
         "75.08010302",
         "69.64868128",
         "76.37871874",
         "68.68296429",
         "77.66148642",
         "215",
         "0.009302326",
         "72.8422836",
         "-0.007251286",
         "2.698030647",
         "2.727618706",
         "0.117476573",
         "69.40461415",
         "70.62005688",
         "71.63623221",
         "298",
         "72.92226979",
         "-0.007251286",
         "818",
         "0.002444988",
         "2.698030647",
         "2.727618706",
         "0.105222136",
         "73.12412353",
         "2.344676951",
         "64",
         "3.072065442",
         "74",
         "72.64688035",
         "2.460241072",
         "74",
         "72.30931954",
         "2.926658521",
         "66",
         "20",
         "77",
         "72.6033022",
         "2379",
         "6426"
        ],
        [
         "2",
         "73.21539165",
         "72",
         "0",
         "9",
         "13",
         "1274",
         "0.0025",
         "75.56473612",
         "15",
         "33",
         "33",
         "74.9061941",
         "3",
         "73.85734596",
         "1",
         "74.31214393",
         "77.72089099",
         "76.40493198",
         "74.58834385",
         "73.76070245",
         "73.60074187",
         "76.14621048",
         "3.025574296",
         "75.68006918",
         "2.830100005",
         "916",
         "75.51486453",
         "75.05081548",
         "2.653990415",
         "1491",
         "74.66234999",
         "74.25983414",
         "2.85501766",
         "74.14012574",
         "5.653376916",
         "74.57666489",
         "-1.703487385",
         "1.746727147",
         "5",
         "76.2848369",
         "3.403199159",
         "15",
         "76.36217935",
         "76.1962173",
         "0.364205084",
         "3.110609014",
         "21",
         "76.56608616",
         "76.3322553",
         "0.73320829",
         "3.236070621",
         "26",
         "76.08199125",
         "3.093675003",
         "3.14505928",
         "33",
         "76.08199125",
         "76.2505239",
         "0.730979789",
         "3.093675003",
         "33",
         "76.08199125",
         "76.21264242",
         "0.730979789",
         "3.093675003",
         "33",
         "76.08199125",
         "76.18866509",
         "0.730979789",
         "3.093675003",
         "33",
         "76.08199125",
         "3.093675003",
         "33",
         "75.54113539",
         "0.549759008",
         "2.793921644",
         "0.782691904",
         "2.762555988",
         "74.29508068",
         "76.59636169",
         "73.40682075",
         "77.74904708",
         "72.44580489",
         "79.19622919",
         "71.75458877",
         "81.25187941",
         "59",
         "0.0",
         "74.90489583",
         "0.378462796",
         "2.782113067",
         "2.724467728",
         "0.488912995",
         "71.49286873",
         "72.72110887",
         "73.70376078",
         "113",
         "74.14012574",
         "0.378462796",
         "230",
         "0.0",
         "2.865346499",
         "2.733677144",
         "0.482854236",
         "76.08199125",
         "3.093675003",
         "33",
         "0.0",
         "0",
         "74.85466449",
         "2.232271178",
         "26",
         "74.30626797",
         "2.360781092",
         "38",
         "16",
         "54",
         "77.04207888",
         "1910",
         "2821"
        ],
        [
         "3",
         "73.21539165",
         "72",
         "0",
         "9",
         "13",
         "1277",
         "0.0025",
         "75.56473612",
         "15",
         "37",
         "71",
         "75.60846738",
         "3",
         "72.8456015",
         "1",
         "76.36131692",
         "72.57862145",
         "71.80862612",
         "72.54434617",
         "72.78828695",
         "73.11575521",
         "72.41719203",
         "3.232824054",
         "72.49029714",
         "2.847239772",
         "300",
         "72.201622",
         "72.56957842",
         "2.719301388",
         "581",
         "71.94727356",
         "72.84850191",
         "2.687002691",
         "73.01911174",
         "2.857534602",
         "75.39817236",
         "3.184064153",
         "1.962418253",
         "5",
         "72.39036307",
         "3.082353769",
         "22",
         "72.67983142",
         "72.83356849",
         "0.338058157",
         "3.059687134",
         "29",
         "72.41573967",
         "72.67192824",
         "0.036209679",
         "2.912646454",
         "45",
         "72.36171466",
         "2.769261297",
         "2.828979525",
         "58",
         "72.55640476",
         "72.53480967",
         "0.036460798",
         "2.584748947",
         "75",
         "72.52158995",
         "72.52755758",
         "-0.017134279",
         "2.665568343",
         "93",
         "72.54783228",
         "72.52618456",
         "-0.041583562",
         "2.73780728",
         "110",
         "72.57112686",
         "2.765013662",
         "125",
         "72.66720959",
         "-0.095294887",
         "2.745807352",
         "-0.143575336",
         "2.784295596",
         "71.4962223",
         "73.88054186",
         "70.45001778",
         "74.91319611",
         "69.05832389",
         "76.15014616",
         "67.82765677",
         "77.03575827",
         "155",
         "0.0",
         "72.87748996",
         "-0.00366546",
         "2.703553942",
         "2.731579314",
         "-0.228728723",
         "69.33889699",
         "70.71757552",
         "71.79411808",
         "212",
         "72.98890411",
         "-0.00366546",
         "726",
         "0.002754821",
         "2.703553942",
         "2.731579314",
         "0.077430489",
         "72.4571272",
         "2.769177498",
         "55",
         "2.778411354",
         "70",
         "73.06755433",
         "2.672316586",
         "30",
         "73.17621871",
         "2.834925717",
         "27",
         "30",
         "54",
         "73.58958907",
         "3030",
         "6266"
        ],
        [
         "4",
         "77.28291341",
         "76",
         "0",
         "9",
         "13",
         "1272",
         "0.005840049",
         "75.56473612",
         "15",
         "5",
         "70",
         "73.47954339",
         "2",
         "70.82211257",
         "1",
         "73.08605831",
         "71.01021934",
         "71.96430462",
         "71.29088793",
         "71.59869534",
         "71.91915787",
         "71.43896447",
         "3.22113612",
         "71.31157351",
         "3.040734617",
         "175",
         "70.93360903",
         "71.49049192",
         "2.895529614",
         "308",
         "70.6357876",
         "71.76950893",
         "2.878330544",
         "72.16863542",
         "2.773217163",
         "71.56060036",
         "0.066699978",
         "1.044379459",
         "2",
         "71.5358821",
         "3.215757944",
         "23",
         "71.27531621",
         "71.45570124",
         "-0.303218738",
         "2.946494353",
         "55",
         "71.48386944",
         "71.42387893",
         "-0.160224286",
         "2.905188625",
         "85",
         "71.49135516",
         "2.893173119",
         "2.907869637",
         "105",
         "71.60408669",
         "71.47286389",
         "-0.104514956",
         "2.860862138",
         "129",
         "71.60820954",
         "71.50540922",
         "-0.161780726",
         "2.836123218",
         "157",
         "71.59555523",
         "71.53700418",
         "-0.197852377",
         "2.877444734",
         "185",
         "71.64782715",
         "2.892505736",
         "188",
         "71.75184359",
         "-0.158682689",
         "2.758786882",
         "0.044343796",
         "2.879568749",
         "70.57394218",
         "72.92334937",
         "69.49533813",
         "74.00834905",
         "68.23732624",
         "75.28554781",
         "67.02047283",
         "76.38054817",
         "252",
         "0.007936508",
         "71.95946365",
         "-0.114460797",
         "2.870561033",
         "2.879568749",
         "-0.031272846",
         "68.42014388",
         "69.72711409",
         "70.78185387",
         "363",
         "72.51509958",
         "-0.114460797",
         "975",
         "0.002051282",
         "2.870561033",
         "2.879568749",
         "-0.036941901",
         "71.49135516",
         "2.893173119",
         "105",
         "2.897017834",
         "83",
         "72.05739187",
         "2.315496011",
         "64",
         "72.53316014",
         "2.671151116",
         "64",
         "47",
         "90",
         "70.6117217",
         "2315",
         "5012"
        ]
       ],
       "shape": {
        "columns": 121,
        "rows": 5
       }
      },
      "text/html": [
       "<div>\n",
       "<style scoped>\n",
       "    .dataframe tbody tr th:only-of-type {\n",
       "        vertical-align: middle;\n",
       "    }\n",
       "\n",
       "    .dataframe tbody tr th {\n",
       "        vertical-align: top;\n",
       "    }\n",
       "\n",
       "    .dataframe thead th {\n",
       "        text-align: right;\n",
       "    }\n",
       "</style>\n",
       "<table border=\"1\" class=\"dataframe\">\n",
       "  <thead>\n",
       "    <tr style=\"text-align: right;\">\n",
       "      <th></th>\n",
       "      <th>adj_score</th>\n",
       "      <th>rd_score</th>\n",
       "      <th>season_phase</th>\n",
       "      <th>tournament_tier_field_strength</th>\n",
       "      <th>tournament_tier_top50_av</th>\n",
       "      <th>elo_rating_pre_rd</th>\n",
       "      <th>wd_percentage_adj</th>\n",
       "      <th>field_strength</th>\n",
       "      <th>tour_tier</th>\n",
       "      <th>tour_0_to_1_year_count</th>\n",
       "      <th>...</th>\n",
       "      <th>year_minus_2_sd</th>\n",
       "      <th>year_minus_2_count</th>\n",
       "      <th>year_minus_3_mean</th>\n",
       "      <th>year_minus_3_sd</th>\n",
       "      <th>year_minus_3_count</th>\n",
       "      <th>year_minus_4_count</th>\n",
       "      <th>year_minus_5_count</th>\n",
       "      <th>4_to_6_month_mean</th>\n",
       "      <th>days_since_median_rd</th>\n",
       "      <th>days_since_first_rd</th>\n",
       "    </tr>\n",
       "  </thead>\n",
       "  <tbody>\n",
       "    <tr>\n",
       "      <th>0</th>\n",
       "      <td>73.215392</td>\n",
       "      <td>72</td>\n",
       "      <td>0</td>\n",
       "      <td>9</td>\n",
       "      <td>13</td>\n",
       "      <td>1274</td>\n",
       "      <td>0.013216</td>\n",
       "      <td>75.564736</td>\n",
       "      <td>15</td>\n",
       "      <td>26</td>\n",
       "      <td>...</td>\n",
       "      <td>2.980714</td>\n",
       "      <td>56</td>\n",
       "      <td>73.423641</td>\n",
       "      <td>2.305405</td>\n",
       "      <td>23</td>\n",
       "      <td>21</td>\n",
       "      <td>69</td>\n",
       "      <td>74.520524</td>\n",
       "      <td>1581</td>\n",
       "      <td>5845</td>\n",
       "    </tr>\n",
       "    <tr>\n",
       "      <th>1</th>\n",
       "      <td>73.215392</td>\n",
       "      <td>72</td>\n",
       "      <td>0</td>\n",
       "      <td>9</td>\n",
       "      <td>13</td>\n",
       "      <td>1271</td>\n",
       "      <td>0.006291</td>\n",
       "      <td>75.564736</td>\n",
       "      <td>15</td>\n",
       "      <td>20</td>\n",
       "      <td>...</td>\n",
       "      <td>2.460241</td>\n",
       "      <td>74</td>\n",
       "      <td>72.309320</td>\n",
       "      <td>2.926659</td>\n",
       "      <td>66</td>\n",
       "      <td>20</td>\n",
       "      <td>77</td>\n",
       "      <td>72.603302</td>\n",
       "      <td>2379</td>\n",
       "      <td>6426</td>\n",
       "    </tr>\n",
       "    <tr>\n",
       "      <th>2</th>\n",
       "      <td>73.215392</td>\n",
       "      <td>72</td>\n",
       "      <td>0</td>\n",
       "      <td>9</td>\n",
       "      <td>13</td>\n",
       "      <td>1274</td>\n",
       "      <td>0.002500</td>\n",
       "      <td>75.564736</td>\n",
       "      <td>15</td>\n",
       "      <td>33</td>\n",
       "      <td>...</td>\n",
       "      <td>2.232271</td>\n",
       "      <td>26</td>\n",
       "      <td>74.306268</td>\n",
       "      <td>2.360781</td>\n",
       "      <td>38</td>\n",
       "      <td>16</td>\n",
       "      <td>54</td>\n",
       "      <td>77.042079</td>\n",
       "      <td>1910</td>\n",
       "      <td>2821</td>\n",
       "    </tr>\n",
       "    <tr>\n",
       "      <th>3</th>\n",
       "      <td>73.215392</td>\n",
       "      <td>72</td>\n",
       "      <td>0</td>\n",
       "      <td>9</td>\n",
       "      <td>13</td>\n",
       "      <td>1277</td>\n",
       "      <td>0.002500</td>\n",
       "      <td>75.564736</td>\n",
       "      <td>15</td>\n",
       "      <td>37</td>\n",
       "      <td>...</td>\n",
       "      <td>2.672317</td>\n",
       "      <td>30</td>\n",
       "      <td>73.176219</td>\n",
       "      <td>2.834926</td>\n",
       "      <td>27</td>\n",
       "      <td>30</td>\n",
       "      <td>54</td>\n",
       "      <td>73.589589</td>\n",
       "      <td>3030</td>\n",
       "      <td>6266</td>\n",
       "    </tr>\n",
       "    <tr>\n",
       "      <th>4</th>\n",
       "      <td>77.282913</td>\n",
       "      <td>76</td>\n",
       "      <td>0</td>\n",
       "      <td>9</td>\n",
       "      <td>13</td>\n",
       "      <td>1272</td>\n",
       "      <td>0.005840</td>\n",
       "      <td>75.564736</td>\n",
       "      <td>15</td>\n",
       "      <td>5</td>\n",
       "      <td>...</td>\n",
       "      <td>2.315496</td>\n",
       "      <td>64</td>\n",
       "      <td>72.533160</td>\n",
       "      <td>2.671151</td>\n",
       "      <td>64</td>\n",
       "      <td>47</td>\n",
       "      <td>90</td>\n",
       "      <td>70.611722</td>\n",
       "      <td>2315</td>\n",
       "      <td>5012</td>\n",
       "    </tr>\n",
       "  </tbody>\n",
       "</table>\n",
       "<p>5 rows × 121 columns</p>\n",
       "</div>"
      ],
      "text/plain": [
       "   adj_score  rd_score  season_phase  tournament_tier_field_strength  \\\n",
       "0  73.215392        72             0                               9   \n",
       "1  73.215392        72             0                               9   \n",
       "2  73.215392        72             0                               9   \n",
       "3  73.215392        72             0                               9   \n",
       "4  77.282913        76             0                               9   \n",
       "\n",
       "   tournament_tier_top50_av  elo_rating_pre_rd  wd_percentage_adj  \\\n",
       "0                        13               1274           0.013216   \n",
       "1                        13               1271           0.006291   \n",
       "2                        13               1274           0.002500   \n",
       "3                        13               1277           0.002500   \n",
       "4                        13               1272           0.005840   \n",
       "\n",
       "   field_strength  tour_tier  tour_0_to_1_year_count  ...  year_minus_2_sd  \\\n",
       "0       75.564736         15                      26  ...         2.980714   \n",
       "1       75.564736         15                      20  ...         2.460241   \n",
       "2       75.564736         15                      33  ...         2.232271   \n",
       "3       75.564736         15                      37  ...         2.672317   \n",
       "4       75.564736         15                       5  ...         2.315496   \n",
       "\n",
       "   year_minus_2_count  year_minus_3_mean  year_minus_3_sd  year_minus_3_count  \\\n",
       "0                  56          73.423641         2.305405                  23   \n",
       "1                  74          72.309320         2.926659                  66   \n",
       "2                  26          74.306268         2.360781                  38   \n",
       "3                  30          73.176219         2.834926                  27   \n",
       "4                  64          72.533160         2.671151                  64   \n",
       "\n",
       "   year_minus_4_count  year_minus_5_count  4_to_6_month_mean  \\\n",
       "0                  21                  69          74.520524   \n",
       "1                  20                  77          72.603302   \n",
       "2                  16                  54          77.042079   \n",
       "3                  30                  54          73.589589   \n",
       "4                  47                  90          70.611722   \n",
       "\n",
       "   days_since_median_rd  days_since_first_rd  \n",
       "0                  1581                 5845  \n",
       "1                  2379                 6426  \n",
       "2                  1910                 2821  \n",
       "3                  3030                 6266  \n",
       "4                  2315                 5012  \n",
       "\n",
       "[5 rows x 121 columns]"
      ]
     },
     "execution_count": 76,
     "metadata": {},
     "output_type": "execute_result"
    }
   ],
   "source": [
    "df0 = pd.concat([df1, df2, df3, df4, df5], axis=1)\n",
    "df0.head()"
   ]
  },
  {
   "cell_type": "code",
   "execution_count": 77,
   "id": "07e4abbd",
   "metadata": {},
   "outputs": [
    {
     "data": {
      "application/vnd.microsoft.datawrangler.viewer.v0+json": {
       "columns": [
        {
         "name": "index",
         "rawType": "object",
         "type": "string"
        },
        {
         "name": "0",
         "rawType": "int64",
         "type": "integer"
        }
       ],
       "ref": "e2bc7fab-d4fa-4038-8701-8fd1dbbd9389",
       "rows": [
        [
         "adj_score",
         "0"
        ],
        [
         "rd_score",
         "0"
        ],
        [
         "season_phase",
         "0"
        ],
        [
         "tournament_tier_field_strength",
         "0"
        ],
        [
         "tournament_tier_top50_av",
         "0"
        ],
        [
         "elo_rating_pre_rd",
         "0"
        ],
        [
         "wd_percentage_adj",
         "0"
        ],
        [
         "field_strength",
         "0"
        ],
        [
         "tour_tier",
         "0"
        ],
        [
         "tour_0_to_1_year_count",
         "0"
        ],
        [
         "tour_0_to_10_year_count",
         "0"
        ],
        [
         "1_tournament_mean",
         "0"
        ],
        [
         "1_tournament_count",
         "0"
        ],
        [
         "1_rd_mean",
         "0"
        ],
        [
         "days_since_1_rd",
         "0"
        ],
        [
         "2_to_4_rd_mean",
         "0"
        ],
        [
         "5_to_12_rd_mean",
         "0"
        ],
        [
         "13_to_28_rd_mean",
         "0"
        ],
        [
         "29_to_60_rd_mean",
         "0"
        ],
        [
         "61_to_120_rd_mean",
         "0"
        ],
        [
         "121_to_240_rd_mean",
         "0"
        ],
        [
         "1_to_20_rd_mean",
         "0"
        ],
        [
         "0_to_20_rd_sd",
         "0"
        ],
        [
         "1_to_50_rd_mean",
         "0"
        ],
        [
         "1_to_50_rd_sd",
         "0"
        ],
        [
         "days_since_50_rd",
         "0"
        ],
        [
         "1_to_50_rd_mean_days_penalty_5x",
         "0"
        ],
        [
         "1_to_100_rd_mean",
         "0"
        ],
        [
         "1_to_100_rd_sd",
         "0"
        ],
        [
         "days_since_100_rd",
         "0"
        ],
        [
         "1_to_100_rd_mean_days_penalty_15x",
         "0"
        ],
        [
         "1_to_200_rd_mean",
         "0"
        ],
        [
         "1_to_200_rd_sd",
         "0"
        ],
        [
         "1_to_500_rd_mean",
         "0"
        ],
        [
         "1_to_500_rd_sd",
         "0"
        ],
        [
         "0_to_4Week_mean",
         "0"
        ],
        [
         "0_to_4_week_rat_diff_av",
         "0"
        ],
        [
         "0_to_4_week_sd",
         "0"
        ],
        [
         "0_to_4Week_count",
         "0"
        ],
        [
         "0_to_3_month_mean",
         "0"
        ],
        [
         "0_to_3_month_sd",
         "0"
        ],
        [
         "0_to_3_month_count",
         "0"
        ],
        [
         "0_to_6_month_mean",
         "0"
        ],
        [
         "0_to_6_month_weighted",
         "0"
        ],
        [
         "0_to_6_month_rat_diff_av",
         "0"
        ],
        [
         "0_to_6_month_sd",
         "0"
        ],
        [
         "0_to_6_month_count",
         "0"
        ],
        [
         "0_to_9_month_mean",
         "0"
        ],
        [
         "0_to_9_month_weighted",
         "0"
        ],
        [
         "0_to_9_month_rat_diff_av",
         "0"
        ]
       ],
       "shape": {
        "columns": 1,
        "rows": 121
       }
      },
      "text/plain": [
       "adj_score                         0\n",
       "rd_score                          0\n",
       "season_phase                      0\n",
       "tournament_tier_field_strength    0\n",
       "tournament_tier_top50_av          0\n",
       "                                 ..\n",
       "year_minus_4_count                0\n",
       "year_minus_5_count                0\n",
       "4_to_6_month_mean                 0\n",
       "days_since_median_rd              0\n",
       "days_since_first_rd               0\n",
       "Length: 121, dtype: int64"
      ]
     },
     "execution_count": 77,
     "metadata": {},
     "output_type": "execute_result"
    }
   ],
   "source": [
    "df0.isnull().sum()"
   ]
  },
  {
   "cell_type": "code",
   "execution_count": 78,
   "id": "8f9bc6b1",
   "metadata": {},
   "outputs": [
    {
     "name": "stdout",
     "output_type": "stream",
     "text": [
      "['adj_score', 'rd_score', 'season_phase', 'tournament_tier_field_strength', 'tournament_tier_top50_av', 'elo_rating_pre_rd', 'wd_percentage_adj', 'field_strength', 'tour_tier', 'tour_0_to_1_year_count', 'tour_0_to_10_year_count', '1_tournament_mean', '1_tournament_count', '1_rd_mean', 'days_since_1_rd', '2_to_4_rd_mean', '5_to_12_rd_mean', '13_to_28_rd_mean', '29_to_60_rd_mean', '61_to_120_rd_mean', '121_to_240_rd_mean', '1_to_20_rd_mean', '0_to_20_rd_sd', '1_to_50_rd_mean', '1_to_50_rd_sd', 'days_since_50_rd', '1_to_50_rd_mean_days_penalty_5x', '1_to_100_rd_mean', '1_to_100_rd_sd', 'days_since_100_rd', '1_to_100_rd_mean_days_penalty_15x', '1_to_200_rd_mean', '1_to_200_rd_sd', '1_to_500_rd_mean', '1_to_500_rd_sd', '0_to_4Week_mean', '0_to_4_week_rat_diff_av', '0_to_4_week_sd', '0_to_4Week_count', '0_to_3_month_mean', '0_to_3_month_sd', '0_to_3_month_count', '0_to_6_month_mean', '0_to_6_month_weighted', '0_to_6_month_rat_diff_av', '0_to_6_month_sd', '0_to_6_month_count', '0_to_9_month_mean', '0_to_9_month_weighted', '0_to_9_month_rat_diff_av', '0_to_9_month_sd', '0_to_9_month_count', '0_to_1_year_mean', '0_to_1_year_sd_adj', '0_to_1_year_sd_diff', '0_to_1_year_count', '0_to_15_month_mean', '0_to_15_month_weighted', '0_to_15_month_rat_diff_av', '0_to_15_month_sd', '0_to_15_month_count', '0_to_18_month_mean', '0_to_18_month_weighted', '0_to_18_month_rat_diff_av', '0_to_18_month_sd', '0_to_18_month_count', '0_to_21_month_mean', '0_to_21_month_weighted', '0_to_21_month_rat_diff_av', '0_to_21_month_sd', '0_to_21_month_count', '0_to_2_year_mean', '0_to_2_year_sd', '0_to_2_year_count', '0_to_3_year_mean', '0_to_3_year_rat_diff_av', '0_to_3_year_sd_adj', '0_to_3_year_diff_skew', '0_to_3_year_sd_diff', '0_to_3_year_low_75_percent_mean', '0_to_3_year_high_75_percent_mean', '0_to_3_year_low_50_percent_mean', '0_to_3_year_high_50_percent_mean', '0_to_3_year_low_25_percent_mean', '0_to_3_year_high_25_percent_mean', '0_to_3_year_low_10_percent_mean', '0_to_3_year_high_10_percent_mean', '0_to_3_year_count', '0_to_3_year_wd_percent', '0_to_5_year_mean', '0_to_5_year_rat_diff_av', '0_to_5_year_sd_adj', '0_to_5_year_sd_diff', '0_to_5_year_diff_skew', '0_to_5_year_low_25_percent_mean', '0_to_5_year_low_50_percent_mean', '0_to_5_year_low_75_percent_mean', '0_to_5_year_count', '0_to_10_year_mean', '0_to_10_year_rat_diff_av', '0_to_10_year_count', '0_to_10_year_wd_percent', '0_to_10_year_sd_adj', '0_to_10_year_sd_diff', '0_to_10_year_diff_skew', 'year_minus_0_mean', 'year_minus_0_sd', 'year_minus_0_count', 'year_minus_1_sd', 'year_minus_1_count', 'year_minus_2_mean', 'year_minus_2_sd', 'year_minus_2_count', 'year_minus_3_mean', 'year_minus_3_sd', 'year_minus_3_count', 'year_minus_4_count', 'year_minus_5_count', '4_to_6_month_mean', 'days_since_median_rd', 'days_since_first_rd']\n"
     ]
    }
   ],
   "source": [
    "print(df0.columns.tolist())"
   ]
  },
  {
   "cell_type": "code",
   "execution_count": 95,
   "id": "e2a72d61",
   "metadata": {},
   "outputs": [],
   "source": [
    "df0.to_csv('df0.csv', index=False)"
   ]
  },
  {
   "cell_type": "code",
   "execution_count": 96,
   "id": "9233d5e8",
   "metadata": {},
   "outputs": [],
   "source": [
    "from sklearn.model_selection import train_test_split\n",
    "\n",
    "X = df0.drop('adj_score', axis=1)\n",
    "y = df0['adj_score']\n",
    "\n",
    "\n",
    "X_train, X_test, y_train, y_test = train_test_split(X, y, test_size=0.2, random_state=42)\n"
   ]
  },
  {
   "cell_type": "code",
   "execution_count": 97,
   "id": "07af93f7",
   "metadata": {},
   "outputs": [
    {
     "data": {
      "text/html": [
       "<style>#sk-container-id-3 {\n",
       "  /* Definition of color scheme common for light and dark mode */\n",
       "  --sklearn-color-text: #000;\n",
       "  --sklearn-color-text-muted: #666;\n",
       "  --sklearn-color-line: gray;\n",
       "  /* Definition of color scheme for unfitted estimators */\n",
       "  --sklearn-color-unfitted-level-0: #fff5e6;\n",
       "  --sklearn-color-unfitted-level-1: #f6e4d2;\n",
       "  --sklearn-color-unfitted-level-2: #ffe0b3;\n",
       "  --sklearn-color-unfitted-level-3: chocolate;\n",
       "  /* Definition of color scheme for fitted estimators */\n",
       "  --sklearn-color-fitted-level-0: #f0f8ff;\n",
       "  --sklearn-color-fitted-level-1: #d4ebff;\n",
       "  --sklearn-color-fitted-level-2: #b3dbfd;\n",
       "  --sklearn-color-fitted-level-3: cornflowerblue;\n",
       "\n",
       "  /* Specific color for light theme */\n",
       "  --sklearn-color-text-on-default-background: var(--sg-text-color, var(--theme-code-foreground, var(--jp-content-font-color1, black)));\n",
       "  --sklearn-color-background: var(--sg-background-color, var(--theme-background, var(--jp-layout-color0, white)));\n",
       "  --sklearn-color-border-box: var(--sg-text-color, var(--theme-code-foreground, var(--jp-content-font-color1, black)));\n",
       "  --sklearn-color-icon: #696969;\n",
       "\n",
       "  @media (prefers-color-scheme: dark) {\n",
       "    /* Redefinition of color scheme for dark theme */\n",
       "    --sklearn-color-text-on-default-background: var(--sg-text-color, var(--theme-code-foreground, var(--jp-content-font-color1, white)));\n",
       "    --sklearn-color-background: var(--sg-background-color, var(--theme-background, var(--jp-layout-color0, #111)));\n",
       "    --sklearn-color-border-box: var(--sg-text-color, var(--theme-code-foreground, var(--jp-content-font-color1, white)));\n",
       "    --sklearn-color-icon: #878787;\n",
       "  }\n",
       "}\n",
       "\n",
       "#sk-container-id-3 {\n",
       "  color: var(--sklearn-color-text);\n",
       "}\n",
       "\n",
       "#sk-container-id-3 pre {\n",
       "  padding: 0;\n",
       "}\n",
       "\n",
       "#sk-container-id-3 input.sk-hidden--visually {\n",
       "  border: 0;\n",
       "  clip: rect(1px 1px 1px 1px);\n",
       "  clip: rect(1px, 1px, 1px, 1px);\n",
       "  height: 1px;\n",
       "  margin: -1px;\n",
       "  overflow: hidden;\n",
       "  padding: 0;\n",
       "  position: absolute;\n",
       "  width: 1px;\n",
       "}\n",
       "\n",
       "#sk-container-id-3 div.sk-dashed-wrapped {\n",
       "  border: 1px dashed var(--sklearn-color-line);\n",
       "  margin: 0 0.4em 0.5em 0.4em;\n",
       "  box-sizing: border-box;\n",
       "  padding-bottom: 0.4em;\n",
       "  background-color: var(--sklearn-color-background);\n",
       "}\n",
       "\n",
       "#sk-container-id-3 div.sk-container {\n",
       "  /* jupyter's `normalize.less` sets `[hidden] { display: none; }`\n",
       "     but bootstrap.min.css set `[hidden] { display: none !important; }`\n",
       "     so we also need the `!important` here to be able to override the\n",
       "     default hidden behavior on the sphinx rendered scikit-learn.org.\n",
       "     See: https://github.com/scikit-learn/scikit-learn/issues/21755 */\n",
       "  display: inline-block !important;\n",
       "  position: relative;\n",
       "}\n",
       "\n",
       "#sk-container-id-3 div.sk-text-repr-fallback {\n",
       "  display: none;\n",
       "}\n",
       "\n",
       "div.sk-parallel-item,\n",
       "div.sk-serial,\n",
       "div.sk-item {\n",
       "  /* draw centered vertical line to link estimators */\n",
       "  background-image: linear-gradient(var(--sklearn-color-text-on-default-background), var(--sklearn-color-text-on-default-background));\n",
       "  background-size: 2px 100%;\n",
       "  background-repeat: no-repeat;\n",
       "  background-position: center center;\n",
       "}\n",
       "\n",
       "/* Parallel-specific style estimator block */\n",
       "\n",
       "#sk-container-id-3 div.sk-parallel-item::after {\n",
       "  content: \"\";\n",
       "  width: 100%;\n",
       "  border-bottom: 2px solid var(--sklearn-color-text-on-default-background);\n",
       "  flex-grow: 1;\n",
       "}\n",
       "\n",
       "#sk-container-id-3 div.sk-parallel {\n",
       "  display: flex;\n",
       "  align-items: stretch;\n",
       "  justify-content: center;\n",
       "  background-color: var(--sklearn-color-background);\n",
       "  position: relative;\n",
       "}\n",
       "\n",
       "#sk-container-id-3 div.sk-parallel-item {\n",
       "  display: flex;\n",
       "  flex-direction: column;\n",
       "}\n",
       "\n",
       "#sk-container-id-3 div.sk-parallel-item:first-child::after {\n",
       "  align-self: flex-end;\n",
       "  width: 50%;\n",
       "}\n",
       "\n",
       "#sk-container-id-3 div.sk-parallel-item:last-child::after {\n",
       "  align-self: flex-start;\n",
       "  width: 50%;\n",
       "}\n",
       "\n",
       "#sk-container-id-3 div.sk-parallel-item:only-child::after {\n",
       "  width: 0;\n",
       "}\n",
       "\n",
       "/* Serial-specific style estimator block */\n",
       "\n",
       "#sk-container-id-3 div.sk-serial {\n",
       "  display: flex;\n",
       "  flex-direction: column;\n",
       "  align-items: center;\n",
       "  background-color: var(--sklearn-color-background);\n",
       "  padding-right: 1em;\n",
       "  padding-left: 1em;\n",
       "}\n",
       "\n",
       "\n",
       "/* Toggleable style: style used for estimator/Pipeline/ColumnTransformer box that is\n",
       "clickable and can be expanded/collapsed.\n",
       "- Pipeline and ColumnTransformer use this feature and define the default style\n",
       "- Estimators will overwrite some part of the style using the `sk-estimator` class\n",
       "*/\n",
       "\n",
       "/* Pipeline and ColumnTransformer style (default) */\n",
       "\n",
       "#sk-container-id-3 div.sk-toggleable {\n",
       "  /* Default theme specific background. It is overwritten whether we have a\n",
       "  specific estimator or a Pipeline/ColumnTransformer */\n",
       "  background-color: var(--sklearn-color-background);\n",
       "}\n",
       "\n",
       "/* Toggleable label */\n",
       "#sk-container-id-3 label.sk-toggleable__label {\n",
       "  cursor: pointer;\n",
       "  display: flex;\n",
       "  width: 100%;\n",
       "  margin-bottom: 0;\n",
       "  padding: 0.5em;\n",
       "  box-sizing: border-box;\n",
       "  text-align: center;\n",
       "  align-items: start;\n",
       "  justify-content: space-between;\n",
       "  gap: 0.5em;\n",
       "}\n",
       "\n",
       "#sk-container-id-3 label.sk-toggleable__label .caption {\n",
       "  font-size: 0.6rem;\n",
       "  font-weight: lighter;\n",
       "  color: var(--sklearn-color-text-muted);\n",
       "}\n",
       "\n",
       "#sk-container-id-3 label.sk-toggleable__label-arrow:before {\n",
       "  /* Arrow on the left of the label */\n",
       "  content: \"▸\";\n",
       "  float: left;\n",
       "  margin-right: 0.25em;\n",
       "  color: var(--sklearn-color-icon);\n",
       "}\n",
       "\n",
       "#sk-container-id-3 label.sk-toggleable__label-arrow:hover:before {\n",
       "  color: var(--sklearn-color-text);\n",
       "}\n",
       "\n",
       "/* Toggleable content - dropdown */\n",
       "\n",
       "#sk-container-id-3 div.sk-toggleable__content {\n",
       "  max-height: 0;\n",
       "  max-width: 0;\n",
       "  overflow: hidden;\n",
       "  text-align: left;\n",
       "  /* unfitted */\n",
       "  background-color: var(--sklearn-color-unfitted-level-0);\n",
       "}\n",
       "\n",
       "#sk-container-id-3 div.sk-toggleable__content.fitted {\n",
       "  /* fitted */\n",
       "  background-color: var(--sklearn-color-fitted-level-0);\n",
       "}\n",
       "\n",
       "#sk-container-id-3 div.sk-toggleable__content pre {\n",
       "  margin: 0.2em;\n",
       "  border-radius: 0.25em;\n",
       "  color: var(--sklearn-color-text);\n",
       "  /* unfitted */\n",
       "  background-color: var(--sklearn-color-unfitted-level-0);\n",
       "}\n",
       "\n",
       "#sk-container-id-3 div.sk-toggleable__content.fitted pre {\n",
       "  /* unfitted */\n",
       "  background-color: var(--sklearn-color-fitted-level-0);\n",
       "}\n",
       "\n",
       "#sk-container-id-3 input.sk-toggleable__control:checked~div.sk-toggleable__content {\n",
       "  /* Expand drop-down */\n",
       "  max-height: 200px;\n",
       "  max-width: 100%;\n",
       "  overflow: auto;\n",
       "}\n",
       "\n",
       "#sk-container-id-3 input.sk-toggleable__control:checked~label.sk-toggleable__label-arrow:before {\n",
       "  content: \"▾\";\n",
       "}\n",
       "\n",
       "/* Pipeline/ColumnTransformer-specific style */\n",
       "\n",
       "#sk-container-id-3 div.sk-label input.sk-toggleable__control:checked~label.sk-toggleable__label {\n",
       "  color: var(--sklearn-color-text);\n",
       "  background-color: var(--sklearn-color-unfitted-level-2);\n",
       "}\n",
       "\n",
       "#sk-container-id-3 div.sk-label.fitted input.sk-toggleable__control:checked~label.sk-toggleable__label {\n",
       "  background-color: var(--sklearn-color-fitted-level-2);\n",
       "}\n",
       "\n",
       "/* Estimator-specific style */\n",
       "\n",
       "/* Colorize estimator box */\n",
       "#sk-container-id-3 div.sk-estimator input.sk-toggleable__control:checked~label.sk-toggleable__label {\n",
       "  /* unfitted */\n",
       "  background-color: var(--sklearn-color-unfitted-level-2);\n",
       "}\n",
       "\n",
       "#sk-container-id-3 div.sk-estimator.fitted input.sk-toggleable__control:checked~label.sk-toggleable__label {\n",
       "  /* fitted */\n",
       "  background-color: var(--sklearn-color-fitted-level-2);\n",
       "}\n",
       "\n",
       "#sk-container-id-3 div.sk-label label.sk-toggleable__label,\n",
       "#sk-container-id-3 div.sk-label label {\n",
       "  /* The background is the default theme color */\n",
       "  color: var(--sklearn-color-text-on-default-background);\n",
       "}\n",
       "\n",
       "/* On hover, darken the color of the background */\n",
       "#sk-container-id-3 div.sk-label:hover label.sk-toggleable__label {\n",
       "  color: var(--sklearn-color-text);\n",
       "  background-color: var(--sklearn-color-unfitted-level-2);\n",
       "}\n",
       "\n",
       "/* Label box, darken color on hover, fitted */\n",
       "#sk-container-id-3 div.sk-label.fitted:hover label.sk-toggleable__label.fitted {\n",
       "  color: var(--sklearn-color-text);\n",
       "  background-color: var(--sklearn-color-fitted-level-2);\n",
       "}\n",
       "\n",
       "/* Estimator label */\n",
       "\n",
       "#sk-container-id-3 div.sk-label label {\n",
       "  font-family: monospace;\n",
       "  font-weight: bold;\n",
       "  display: inline-block;\n",
       "  line-height: 1.2em;\n",
       "}\n",
       "\n",
       "#sk-container-id-3 div.sk-label-container {\n",
       "  text-align: center;\n",
       "}\n",
       "\n",
       "/* Estimator-specific */\n",
       "#sk-container-id-3 div.sk-estimator {\n",
       "  font-family: monospace;\n",
       "  border: 1px dotted var(--sklearn-color-border-box);\n",
       "  border-radius: 0.25em;\n",
       "  box-sizing: border-box;\n",
       "  margin-bottom: 0.5em;\n",
       "  /* unfitted */\n",
       "  background-color: var(--sklearn-color-unfitted-level-0);\n",
       "}\n",
       "\n",
       "#sk-container-id-3 div.sk-estimator.fitted {\n",
       "  /* fitted */\n",
       "  background-color: var(--sklearn-color-fitted-level-0);\n",
       "}\n",
       "\n",
       "/* on hover */\n",
       "#sk-container-id-3 div.sk-estimator:hover {\n",
       "  /* unfitted */\n",
       "  background-color: var(--sklearn-color-unfitted-level-2);\n",
       "}\n",
       "\n",
       "#sk-container-id-3 div.sk-estimator.fitted:hover {\n",
       "  /* fitted */\n",
       "  background-color: var(--sklearn-color-fitted-level-2);\n",
       "}\n",
       "\n",
       "/* Specification for estimator info (e.g. \"i\" and \"?\") */\n",
       "\n",
       "/* Common style for \"i\" and \"?\" */\n",
       "\n",
       ".sk-estimator-doc-link,\n",
       "a:link.sk-estimator-doc-link,\n",
       "a:visited.sk-estimator-doc-link {\n",
       "  float: right;\n",
       "  font-size: smaller;\n",
       "  line-height: 1em;\n",
       "  font-family: monospace;\n",
       "  background-color: var(--sklearn-color-background);\n",
       "  border-radius: 1em;\n",
       "  height: 1em;\n",
       "  width: 1em;\n",
       "  text-decoration: none !important;\n",
       "  margin-left: 0.5em;\n",
       "  text-align: center;\n",
       "  /* unfitted */\n",
       "  border: var(--sklearn-color-unfitted-level-1) 1pt solid;\n",
       "  color: var(--sklearn-color-unfitted-level-1);\n",
       "}\n",
       "\n",
       ".sk-estimator-doc-link.fitted,\n",
       "a:link.sk-estimator-doc-link.fitted,\n",
       "a:visited.sk-estimator-doc-link.fitted {\n",
       "  /* fitted */\n",
       "  border: var(--sklearn-color-fitted-level-1) 1pt solid;\n",
       "  color: var(--sklearn-color-fitted-level-1);\n",
       "}\n",
       "\n",
       "/* On hover */\n",
       "div.sk-estimator:hover .sk-estimator-doc-link:hover,\n",
       ".sk-estimator-doc-link:hover,\n",
       "div.sk-label-container:hover .sk-estimator-doc-link:hover,\n",
       ".sk-estimator-doc-link:hover {\n",
       "  /* unfitted */\n",
       "  background-color: var(--sklearn-color-unfitted-level-3);\n",
       "  color: var(--sklearn-color-background);\n",
       "  text-decoration: none;\n",
       "}\n",
       "\n",
       "div.sk-estimator.fitted:hover .sk-estimator-doc-link.fitted:hover,\n",
       ".sk-estimator-doc-link.fitted:hover,\n",
       "div.sk-label-container:hover .sk-estimator-doc-link.fitted:hover,\n",
       ".sk-estimator-doc-link.fitted:hover {\n",
       "  /* fitted */\n",
       "  background-color: var(--sklearn-color-fitted-level-3);\n",
       "  color: var(--sklearn-color-background);\n",
       "  text-decoration: none;\n",
       "}\n",
       "\n",
       "/* Span, style for the box shown on hovering the info icon */\n",
       ".sk-estimator-doc-link span {\n",
       "  display: none;\n",
       "  z-index: 9999;\n",
       "  position: relative;\n",
       "  font-weight: normal;\n",
       "  right: .2ex;\n",
       "  padding: .5ex;\n",
       "  margin: .5ex;\n",
       "  width: min-content;\n",
       "  min-width: 20ex;\n",
       "  max-width: 50ex;\n",
       "  color: var(--sklearn-color-text);\n",
       "  box-shadow: 2pt 2pt 4pt #999;\n",
       "  /* unfitted */\n",
       "  background: var(--sklearn-color-unfitted-level-0);\n",
       "  border: .5pt solid var(--sklearn-color-unfitted-level-3);\n",
       "}\n",
       "\n",
       ".sk-estimator-doc-link.fitted span {\n",
       "  /* fitted */\n",
       "  background: var(--sklearn-color-fitted-level-0);\n",
       "  border: var(--sklearn-color-fitted-level-3);\n",
       "}\n",
       "\n",
       ".sk-estimator-doc-link:hover span {\n",
       "  display: block;\n",
       "}\n",
       "\n",
       "/* \"?\"-specific style due to the `<a>` HTML tag */\n",
       "\n",
       "#sk-container-id-3 a.estimator_doc_link {\n",
       "  float: right;\n",
       "  font-size: 1rem;\n",
       "  line-height: 1em;\n",
       "  font-family: monospace;\n",
       "  background-color: var(--sklearn-color-background);\n",
       "  border-radius: 1rem;\n",
       "  height: 1rem;\n",
       "  width: 1rem;\n",
       "  text-decoration: none;\n",
       "  /* unfitted */\n",
       "  color: var(--sklearn-color-unfitted-level-1);\n",
       "  border: var(--sklearn-color-unfitted-level-1) 1pt solid;\n",
       "}\n",
       "\n",
       "#sk-container-id-3 a.estimator_doc_link.fitted {\n",
       "  /* fitted */\n",
       "  border: var(--sklearn-color-fitted-level-1) 1pt solid;\n",
       "  color: var(--sklearn-color-fitted-level-1);\n",
       "}\n",
       "\n",
       "/* On hover */\n",
       "#sk-container-id-3 a.estimator_doc_link:hover {\n",
       "  /* unfitted */\n",
       "  background-color: var(--sklearn-color-unfitted-level-3);\n",
       "  color: var(--sklearn-color-background);\n",
       "  text-decoration: none;\n",
       "}\n",
       "\n",
       "#sk-container-id-3 a.estimator_doc_link.fitted:hover {\n",
       "  /* fitted */\n",
       "  background-color: var(--sklearn-color-fitted-level-3);\n",
       "}\n",
       "</style><div id=\"sk-container-id-3\" class=\"sk-top-container\"><div class=\"sk-text-repr-fallback\"><pre>RandomForestRegressor(random_state=42)</pre><b>In a Jupyter environment, please rerun this cell to show the HTML representation or trust the notebook. <br />On GitHub, the HTML representation is unable to render, please try loading this page with nbviewer.org.</b></div><div class=\"sk-container\" hidden><div class=\"sk-item\"><div class=\"sk-estimator fitted sk-toggleable\"><input class=\"sk-toggleable__control sk-hidden--visually\" id=\"sk-estimator-id-3\" type=\"checkbox\" checked><label for=\"sk-estimator-id-3\" class=\"sk-toggleable__label fitted sk-toggleable__label-arrow\"><div><div>RandomForestRegressor</div></div><div><a class=\"sk-estimator-doc-link fitted\" rel=\"noreferrer\" target=\"_blank\" href=\"https://scikit-learn.org/1.6/modules/generated/sklearn.ensemble.RandomForestRegressor.html\">?<span>Documentation for RandomForestRegressor</span></a><span class=\"sk-estimator-doc-link fitted\">i<span>Fitted</span></span></div></label><div class=\"sk-toggleable__content fitted\"><pre>RandomForestRegressor(random_state=42)</pre></div> </div></div></div></div>"
      ],
      "text/plain": [
       "RandomForestRegressor(random_state=42)"
      ]
     },
     "execution_count": 97,
     "metadata": {},
     "output_type": "execute_result"
    }
   ],
   "source": [
    "from sklearn.ensemble import RandomForestRegressor\n",
    "\n",
    "rf = RandomForestRegressor(n_estimators=100, random_state=42)\n",
    "rf.fit(X_train, y_train)\n"
   ]
  },
  {
   "cell_type": "code",
   "execution_count": null,
   "id": "5bd2eb76",
   "metadata": {},
   "outputs": [],
   "source": [
    "y_pred = rf.predict(X_test)\n"
   ]
  },
  {
   "cell_type": "code",
   "execution_count": 99,
   "id": "93e271b5",
   "metadata": {},
   "outputs": [
    {
     "name": "stdout",
     "output_type": "stream",
     "text": [
      "Mean Squared Error: 0.64\n",
      "Mean Absolute Error: 0.60\n",
      "R2 Score: 0.94\n"
     ]
    }
   ],
   "source": [
    "from sklearn.metrics import mean_squared_error, mean_absolute_error, r2_score\n",
    "\n",
    "mse = mean_squared_error(y_test, y_pred)\n",
    "mae = mean_absolute_error(y_test, y_pred)\n",
    "r2 = r2_score(y_test, y_pred)\n",
    "\n",
    "print(f\"Mean Squared Error: {mse:.2f}\")\n",
    "print(f\"Mean Absolute Error: {mae:.2f}\")\n",
    "print(f\"R2 Score: {r2:.2f}\")"
   ]
  },
  {
   "cell_type": "code",
   "execution_count": 100,
   "id": "72569ad4",
   "metadata": {},
   "outputs": [
    {
     "data": {
      "text/plain": [
       "['random_forest_model.joblib']"
      ]
     },
     "execution_count": 100,
     "metadata": {},
     "output_type": "execute_result"
    }
   ],
   "source": [
    "import joblib\n",
    "\n",
    "joblib.dump(rf, 'random_forest_model.joblib')"
   ]
  }
 ],
 "metadata": {
  "kernelspec": {
   "display_name": "Python 3",
   "language": "python",
   "name": "python3"
  },
  "language_info": {
   "codemirror_mode": {
    "name": "ipython",
    "version": 3
   },
   "file_extension": ".py",
   "mimetype": "text/x-python",
   "name": "python",
   "nbconvert_exporter": "python",
   "pygments_lexer": "ipython3",
   "version": "3.10.10"
  }
 },
 "nbformat": 4,
 "nbformat_minor": 5
}
